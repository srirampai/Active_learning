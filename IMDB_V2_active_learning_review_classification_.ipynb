{
  "cells": [
    {
      "cell_type": "markdown",
      "metadata": {
        "id": "view-in-github",
        "colab_type": "text"
      },
      "source": [
        "<a href=\"https://colab.research.google.com/github/srirampai/Active_learning/blob/main/IMDB_V2_active_learning_review_classification_.ipynb\" target=\"_parent\"><img src=\"https://colab.research.google.com/assets/colab-badge.svg\" alt=\"Open In Colab\"/></a>"
      ]
    },
    {
      "cell_type": "markdown",
      "metadata": {
        "id": "oAoETCA6LyGx"
      },
      "source": [
        "## Importing required libraries"
      ]
    },
    {
      "cell_type": "code",
      "execution_count": null,
      "metadata": {
        "id": "zvBKiF3dLyGz"
      },
      "outputs": [],
      "source": [
        "import tensorflow_datasets as tfds\n",
        "import tensorflow as tf\n",
        "from tensorflow import keras\n",
        "from tensorflow.keras import layers\n",
        "import matplotlib.pyplot as plt\n",
        "import re\n",
        "import string\n",
        "\n",
        "tfds.disable_progress_bar()"
      ]
    },
    {
      "cell_type": "markdown",
      "metadata": {
        "id": "d5J8LLmvLyG2"
      },
      "source": [
        "## Loading and preprocessing the data\n",
        "\n",
        "We will be using the IMDB reviews dataset for our experiments. This dataset has 50,000\n",
        "reviews in total, including training and testing splits. We will merge these splits and\n",
        "sample our own, balanced training, validation and testing sets."
      ]
    },
    {
      "cell_type": "code",
      "execution_count": null,
      "metadata": {
        "id": "eZp4b4Q5LyG3",
        "colab": {
          "base_uri": "https://localhost:8080/"
        },
        "outputId": "556a473c-ce56-43a1-dd0a-a49a1a73750b"
      },
      "outputs": [
        {
          "output_type": "stream",
          "name": "stdout",
          "text": [
            "\u001b[1mDownloading and preparing dataset imdb_reviews/plain_text/1.0.0 (download: 80.23 MiB, generated: Unknown size, total: 80.23 MiB) to /root/tensorflow_datasets/imdb_reviews/plain_text/1.0.0...\u001b[0m\n",
            "Shuffling and writing examples to /root/tensorflow_datasets/imdb_reviews/plain_text/1.0.0.incompleteZBMNQN/imdb_reviews-train.tfrecord\n",
            "Shuffling and writing examples to /root/tensorflow_datasets/imdb_reviews/plain_text/1.0.0.incompleteZBMNQN/imdb_reviews-test.tfrecord\n",
            "Shuffling and writing examples to /root/tensorflow_datasets/imdb_reviews/plain_text/1.0.0.incompleteZBMNQN/imdb_reviews-unsupervised.tfrecord\n"
          ]
        },
        {
          "output_type": "stream",
          "name": "stderr",
          "text": [
            "WARNING:absl:Dataset is using deprecated text encoder API which will be removed soon. Please use the plain_text version of the dataset and migrate to `tensorflow_text`.\n"
          ]
        },
        {
          "output_type": "stream",
          "name": "stdout",
          "text": [
            "\u001b[1mDataset imdb_reviews downloaded and prepared to /root/tensorflow_datasets/imdb_reviews/plain_text/1.0.0. Subsequent calls will reuse this data.\u001b[0m\n",
            "WARNING:tensorflow:From /usr/local/lib/python3.7/dist-packages/tensorflow_datasets/core/dataset_builder.py:598: get_single_element (from tensorflow.python.data.experimental.ops.get_single_element) is deprecated and will be removed in a future version.\n",
            "Instructions for updating:\n",
            "Use `tf.data.Dataset.get_single_element()`.\n"
          ]
        },
        {
          "output_type": "stream",
          "name": "stderr",
          "text": [
            "WARNING:tensorflow:From /usr/local/lib/python3.7/dist-packages/tensorflow_datasets/core/dataset_builder.py:598: get_single_element (from tensorflow.python.data.experimental.ops.get_single_element) is deprecated and will be removed in a future version.\n",
            "Instructions for updating:\n",
            "Use `tf.data.Dataset.get_single_element()`.\n"
          ]
        },
        {
          "output_type": "stream",
          "name": "stdout",
          "text": [
            "Total examples: 50000\n"
          ]
        }
      ],
      "source": [
        "dataset = tfds.load(\n",
        "    \"imdb_reviews\",\n",
        "    split=\"train + test\",\n",
        "    as_supervised=True,\n",
        "    batch_size=-1,\n",
        "    shuffle_files=False,\n",
        ")\n",
        "reviews, labels = tfds.as_numpy(dataset)\n",
        "\n",
        "print(\"Total examples:\", reviews.shape[0])"
      ]
    },
    {
      "cell_type": "code",
      "source": [
        "print(type(reviews))\n",
        "print(type(labels))"
      ],
      "metadata": {
        "colab": {
          "base_uri": "https://localhost:8080/"
        },
        "id": "EA_u-SEiiOd2",
        "outputId": "5d587ae4-ad76-447e-ee58-42eece5fba64"
      },
      "execution_count": null,
      "outputs": [
        {
          "output_type": "stream",
          "name": "stdout",
          "text": [
            "<class 'numpy.ndarray'>\n",
            "<class 'numpy.ndarray'>\n"
          ]
        }
      ]
    },
    {
      "cell_type": "markdown",
      "metadata": {
        "id": "uDWj2j4qLyG4"
      },
      "source": [
        "Active learning starts with labeling a subset of data.\n",
        "For the ratio sampling technique that we will be using, we will need well-balanced training,\n",
        "validation and testing splits."
      ]
    },
    {
      "cell_type": "code",
      "execution_count": null,
      "metadata": {
        "id": "OEWAWZwULyG6",
        "colab": {
          "base_uri": "https://localhost:8080/"
        },
        "outputId": "8b4ee940-0a3b-4269-c34b-b0e577d887bc"
      },
      "outputs": [
        {
          "output_type": "stream",
          "name": "stdout",
          "text": [
            "Initial training set size: 15000\n",
            "Validation set size: 5000\n",
            "Testing set size: 5000\n",
            "Unlabeled negative pool: 12500\n",
            "Unlabeled positive pool: 12500\n"
          ]
        }
      ],
      "source": [
        "#Defining the Split\n",
        "val_split = 2500\n",
        "test_split = 2500\n",
        "train_split = 7500\n",
        "\n",
        "# Separating the negative and positive samples for manual stratification\n",
        "x_positives, y_positives = reviews[labels == 1], labels[labels == 1]\n",
        "x_negatives, y_negatives = reviews[labels == 0], labels[labels == 0]\n",
        "\n",
        "# Creating training, validation and testing splits\n",
        "x_val, y_val = (\n",
        "    tf.concat((x_positives[:val_split], x_negatives[:val_split]), 0),\n",
        "    tf.concat((y_positives[:val_split], y_negatives[:val_split]), 0),\n",
        ")\n",
        "x_test, y_test = (\n",
        "    tf.concat(\n",
        "        (\n",
        "            x_positives[val_split : val_split + test_split],\n",
        "            x_negatives[val_split : val_split + test_split],\n",
        "        ),\n",
        "        0,\n",
        "    ),\n",
        "    tf.concat(\n",
        "        (\n",
        "            y_positives[val_split : val_split + test_split],\n",
        "            y_negatives[val_split : val_split + test_split],\n",
        "        ),\n",
        "        0,\n",
        "    ),\n",
        ")\n",
        "x_train, y_train = (\n",
        "    tf.concat(\n",
        "        (\n",
        "            x_positives[val_split + test_split : val_split + test_split + train_split],\n",
        "            x_negatives[val_split + test_split : val_split + test_split + train_split],\n",
        "        ),\n",
        "        0,\n",
        "    ),\n",
        "    tf.concat(\n",
        "        (\n",
        "            y_positives[val_split + test_split : val_split + test_split + train_split],\n",
        "            y_negatives[val_split + test_split : val_split + test_split + train_split],\n",
        "        ),\n",
        "        0,\n",
        "    ),\n",
        ")\n",
        "\n",
        "# Remaining pool of samples are stored separately. These are only labeled as and when required\n",
        "x_pool_positives, y_pool_positives = (\n",
        "    x_positives[val_split + test_split + train_split :],\n",
        "    y_positives[val_split + test_split + train_split :],\n",
        ")\n",
        "x_pool_negatives, y_pool_negatives = (\n",
        "    x_negatives[val_split + test_split + train_split :],\n",
        "    y_negatives[val_split + test_split + train_split :],\n",
        ")\n",
        "\n",
        "# Creating TF Datasets for faster prefetching and parallelization\n",
        "train_dataset = tf.data.Dataset.from_tensor_slices((x_train, y_train))\n",
        "val_dataset = tf.data.Dataset.from_tensor_slices((x_val, y_val))\n",
        "test_dataset = tf.data.Dataset.from_tensor_slices((x_test, y_test))\n",
        "\n",
        "pool_negatives = tf.data.Dataset.from_tensor_slices(\n",
        "    (x_pool_negatives, y_pool_negatives)\n",
        ")\n",
        "pool_positives = tf.data.Dataset.from_tensor_slices(\n",
        "    (x_pool_positives, y_pool_positives)\n",
        ")\n",
        "\n",
        "print(f\"Initial training set size: {len(train_dataset)}\")\n",
        "print(f\"Validation set size: {len(val_dataset)}\")\n",
        "print(f\"Testing set size: {len(test_dataset)}\")\n",
        "print(f\"Unlabeled negative pool: {len(pool_negatives)}\")\n",
        "print(f\"Unlabeled positive pool: {len(pool_positives)}\")"
      ]
    },
    {
      "cell_type": "markdown",
      "metadata": {
        "id": "BJ2ebSrtLyG7"
      },
      "source": [
        "### Fitting the `TextVectorization` layer\n",
        "\n",
        "Since we are working with text data, we will need to encode the text strings as vectors which\n",
        "would then be passed through an `Embedding` layer. To make this tokenization process\n",
        "faster, we use the `map()` function with its parallelization functionality."
      ]
    },
    {
      "cell_type": "code",
      "execution_count": null,
      "metadata": {
        "id": "pchLVX7-LyG-"
      },
      "outputs": [],
      "source": [
        "\n",
        "def custom_standardization(input_data):\n",
        "    lowercase = tf.strings.lower(input_data)\n",
        "    stripped_html = tf.strings.regex_replace(lowercase, \"<br />\", \" \")\n",
        "    return tf.strings.regex_replace(\n",
        "        stripped_html, f\"[{re.escape(string.punctuation)}]\", \"\"\n",
        "    )\n",
        "\n",
        "# Using Tensorflow inbuilt \n",
        "vectorizer = layers.TextVectorization(\n",
        "    3000, standardize=custom_standardization, output_sequence_length=150\n",
        ")\n",
        "# Adapting the dataset\n",
        "vectorizer.adapt(\n",
        "    train_dataset.map(lambda x, y: x, num_parallel_calls=tf.data.AUTOTUNE).batch(256)\n",
        ")\n",
        "\n",
        "\n",
        "def vectorize_text(text, label):\n",
        "    text = vectorizer(text)\n",
        "    return text, label\n",
        "\n",
        "\n",
        "train_dataset = train_dataset.map(\n",
        "    vectorize_text, num_parallel_calls=tf.data.AUTOTUNE\n",
        ").prefetch(tf.data.AUTOTUNE)\n",
        "pool_negatives = pool_negatives.map(vectorize_text, num_parallel_calls=tf.data.AUTOTUNE)\n",
        "pool_positives = pool_positives.map(vectorize_text, num_parallel_calls=tf.data.AUTOTUNE)\n",
        "\n",
        "val_dataset = val_dataset.batch(256).map(\n",
        "    vectorize_text, num_parallel_calls=tf.data.AUTOTUNE\n",
        ")\n",
        "test_dataset = test_dataset.batch(256).map(\n",
        "    vectorize_text, num_parallel_calls=tf.data.AUTOTUNE\n",
        ")"
      ]
    },
    {
      "cell_type": "markdown",
      "metadata": {
        "id": "hNNHmN3MLyHA"
      },
      "source": [
        "## Creating Helper Functions"
      ]
    },
    {
      "cell_type": "code",
      "execution_count": null,
      "metadata": {
        "id": "9xLfTQs-LyHB"
      },
      "outputs": [],
      "source": [
        "# Helper function for merging new history objects with older ones\n",
        "def append_history(losses, val_losses, accuracy, val_accuracy, history):\n",
        "    losses = losses + history.history[\"loss\"]\n",
        "    val_losses = val_losses + history.history[\"val_loss\"]\n",
        "    accuracy = accuracy + history.history[\"binary_accuracy\"]\n",
        "    val_accuracy = val_accuracy + history.history[\"val_binary_accuracy\"]\n",
        "    return losses, val_losses, accuracy, val_accuracy\n",
        "\n",
        "\n",
        "# Plotter function\n",
        "def plot_history(losses, val_losses, accuracies, val_accuracies):\n",
        "    plt.plot(losses)\n",
        "    plt.plot(val_losses)\n",
        "    plt.legend([\"train_loss\", \"val_loss\"])\n",
        "    plt.xlabel(\"Epochs\")\n",
        "    plt.ylabel(\"Loss\")\n",
        "    plt.show()\n",
        "\n",
        "    plt.plot(accuracies)\n",
        "    plt.plot(val_accuracies)\n",
        "    plt.legend([\"train_accuracy\", \"val_accuracy\"])\n",
        "    plt.xlabel(\"Epochs\")\n",
        "    plt.ylabel(\"Accuracy\")\n",
        "    plt.show()\n"
      ]
    },
    {
      "cell_type": "markdown",
      "metadata": {
        "id": "ULx4y53SLyHC"
      },
      "source": [
        "## Creating the Model\n",
        "\n",
        "We create a small bidirectional LSTM model. When using Active Learning, you should make sure\n",
        "that the model architecture is capable of overfitting to the initial data.\n",
        "Overfitting gives a strong hint that the model will have enough capacity for\n",
        "future, unseen data."
      ]
    },
    {
      "cell_type": "code",
      "execution_count": null,
      "metadata": {
        "id": "cTX0uEyBLyHD"
      },
      "outputs": [],
      "source": [
        "# Incearing the depth\n",
        "def create_model():\n",
        "    model = keras.models.Sequential(\n",
        "        [\n",
        "            layers.Input(shape=(150,)),\n",
        "            layers.Embedding(input_dim=3000, output_dim=128),\n",
        "            layers.Bidirectional(layers.LSTM(64, return_sequences=True)),\n",
        "            layers.GlobalMaxPool1D(),\n",
        "            #layers.Bidirectional(layers.LSTM(32, return_sequences=True)),\n",
        "            #layers.GlobalMaxPool1D(),         \n",
        "            layers.Dense(20, activation=\"relu\"),\n",
        "            layers.Dropout(0.5),\n",
        "            layers.Dense(1, activation=\"sigmoid\"),\n",
        "        ]\n",
        "    )\n",
        "    model.summary()\n",
        "    return model\n"
      ]
    },
    {
      "cell_type": "code",
      "source": [
        "model = create_model()"
      ],
      "metadata": {
        "id": "0TAoOof-dZFd",
        "outputId": "51c77477-0b02-4b3b-9497-972df3e9db7b",
        "colab": {
          "base_uri": "https://localhost:8080/"
        }
      },
      "execution_count": null,
      "outputs": [
        {
          "output_type": "stream",
          "name": "stdout",
          "text": [
            "Model: \"sequential_2\"\n",
            "_________________________________________________________________\n",
            " Layer (type)                Output Shape              Param #   \n",
            "=================================================================\n",
            " embedding_2 (Embedding)     (None, 150, 128)          384000    \n",
            "                                                                 \n",
            " bidirectional_3 (Bidirectio  (None, 150, 128)         98816     \n",
            " nal)                                                            \n",
            "                                                                 \n",
            " global_max_pooling1d_3 (Glo  (None, 128)              0         \n",
            " balMaxPooling1D)                                                \n",
            "                                                                 \n",
            " dense_4 (Dense)             (None, 20)                2580      \n",
            "                                                                 \n",
            " dropout_2 (Dropout)         (None, 20)                0         \n",
            "                                                                 \n",
            " dense_5 (Dense)             (None, 1)                 21        \n",
            "                                                                 \n",
            "=================================================================\n",
            "Total params: 485,417\n",
            "Trainable params: 485,417\n",
            "Non-trainable params: 0\n",
            "_________________________________________________________________\n"
          ]
        }
      ]
    },
    {
      "cell_type": "markdown",
      "source": [
        "## **Active Learning**\n",
        "\n",
        "\n"
      ],
      "metadata": {
        "id": "XX_QcXEJYDgM"
      }
    },
    {
      "cell_type": "code",
      "execution_count": null,
      "metadata": {
        "id": "yV9Roq3HLyHF",
        "colab": {
          "base_uri": "https://localhost:8080/",
          "height": 1000
        },
        "outputId": "eef474e0-1dac-4c2f-fc13-68bbca6dbe87"
      },
      "outputs": [
        {
          "output_type": "stream",
          "name": "stdout",
          "text": [
            "Model: \"sequential_1\"\n",
            "_________________________________________________________________\n",
            " Layer (type)                Output Shape              Param #   \n",
            "=================================================================\n",
            " embedding_1 (Embedding)     (None, 150, 128)          384000    \n",
            "                                                                 \n",
            " bidirectional_2 (Bidirectio  (None, 150, 128)         98816     \n",
            " nal)                                                            \n",
            "                                                                 \n",
            " global_max_pooling1d_2 (Glo  (None, 128)              0         \n",
            " balMaxPooling1D)                                                \n",
            "                                                                 \n",
            " dense_2 (Dense)             (None, 20)                2580      \n",
            "                                                                 \n",
            " dropout_1 (Dropout)         (None, 20)                0         \n",
            "                                                                 \n",
            " dense_3 (Dense)             (None, 1)                 21        \n",
            "                                                                 \n",
            "=================================================================\n",
            "Total params: 485,417\n",
            "Trainable params: 485,417\n",
            "Non-trainable params: 0\n",
            "_________________________________________________________________\n",
            "Starting to train with 15000 samples\n",
            "Epoch 1/15\n",
            "59/59 [==============================] - ETA: 0s - loss: 0.6714 - binary_accuracy: 0.5967 - false_negatives: 4511.0000 - false_positives: 1539.0000 - precision: 0.6601 - recall: 0.3985 - true_positives: 2989.0000 - true_negatives: 5961.0000 - auc: 0.6586\n",
            "Epoch 00001: val_loss improved from inf to 0.53781, saving model to AL_Model.h5\n",
            "59/59 [==============================] - 18s 121ms/step - loss: 0.6714 - binary_accuracy: 0.5967 - false_negatives: 4511.0000 - false_positives: 1539.0000 - precision: 0.6601 - recall: 0.3985 - true_positives: 2989.0000 - true_negatives: 5961.0000 - auc: 0.6586 - val_loss: 0.5378 - val_binary_accuracy: 0.7670 - val_false_negatives: 923.0000 - val_false_positives: 242.0000 - val_precision: 0.8670 - val_recall: 0.6308 - val_true_positives: 1577.0000 - val_true_negatives: 2258.0000 - val_auc: 0.8813\n",
            "Epoch 2/15\n",
            "59/59 [==============================] - ETA: 0s - loss: 0.4869 - binary_accuracy: 0.7989 - false_negatives: 1419.0000 - false_positives: 1597.0000 - precision: 0.7920 - recall: 0.8108 - true_positives: 6081.0000 - true_negatives: 5903.0000 - auc: 0.8533\n",
            "Epoch 00002: val_loss improved from 0.53781 to 0.40178, saving model to AL_Model.h5\n",
            "59/59 [==============================] - 6s 93ms/step - loss: 0.4869 - binary_accuracy: 0.7989 - false_negatives: 1419.0000 - false_positives: 1597.0000 - precision: 0.7920 - recall: 0.8108 - true_positives: 6081.0000 - true_negatives: 5903.0000 - auc: 0.8533 - val_loss: 0.4018 - val_binary_accuracy: 0.8290 - val_false_negatives: 562.0000 - val_false_positives: 293.0000 - val_precision: 0.8687 - val_recall: 0.7752 - val_true_positives: 1938.0000 - val_true_negatives: 2207.0000 - val_auc: 0.9142\n",
            "Epoch 3/15\n",
            "59/59 [==============================] - ETA: 0s - loss: 0.3921 - binary_accuracy: 0.8433 - false_negatives: 1050.0000 - false_positives: 1301.0000 - precision: 0.8322 - recall: 0.8600 - true_positives: 6450.0000 - true_negatives: 6199.0000 - auc: 0.9055\n",
            "Epoch 00003: val_loss did not improve from 0.40178\n",
            "59/59 [==============================] - 5s 87ms/step - loss: 0.3921 - binary_accuracy: 0.8433 - false_negatives: 1050.0000 - false_positives: 1301.0000 - precision: 0.8322 - recall: 0.8600 - true_positives: 6450.0000 - true_negatives: 6199.0000 - auc: 0.9055 - val_loss: 0.4723 - val_binary_accuracy: 0.7882 - val_false_negatives: 100.0000 - val_false_positives: 959.0000 - val_precision: 0.7145 - val_recall: 0.9600 - val_true_positives: 2400.0000 - val_true_negatives: 1541.0000 - val_auc: 0.9205\n",
            "Epoch 4/15\n",
            "59/59 [==============================] - ETA: 0s - loss: 0.3580 - binary_accuracy: 0.8600 - false_negatives: 1001.0000 - false_positives: 1099.0000 - precision: 0.8554 - recall: 0.8665 - true_positives: 6499.0000 - true_negatives: 6401.0000 - auc: 0.9220\n",
            "Epoch 00004: val_loss improved from 0.40178 to 0.35283, saving model to AL_Model.h5\n",
            "59/59 [==============================] - 5s 88ms/step - loss: 0.3580 - binary_accuracy: 0.8600 - false_negatives: 1001.0000 - false_positives: 1099.0000 - precision: 0.8554 - recall: 0.8665 - true_positives: 6499.0000 - true_negatives: 6401.0000 - auc: 0.9220 - val_loss: 0.3528 - val_binary_accuracy: 0.8490 - val_false_negatives: 366.0000 - val_false_positives: 389.0000 - val_precision: 0.8458 - val_recall: 0.8536 - val_true_positives: 2134.0000 - val_true_negatives: 2111.0000 - val_auc: 0.9247\n",
            "Epoch 5/15\n",
            "59/59 [==============================] - ETA: 0s - loss: 0.3255 - binary_accuracy: 0.8728 - false_negatives: 886.0000 - false_positives: 1022.0000 - precision: 0.8662 - recall: 0.8819 - true_positives: 6614.0000 - true_negatives: 6478.0000 - auc: 0.9354\n",
            "Epoch 00005: val_loss did not improve from 0.35283\n",
            "59/59 [==============================] - 5s 87ms/step - loss: 0.3255 - binary_accuracy: 0.8728 - false_negatives: 886.0000 - false_positives: 1022.0000 - precision: 0.8662 - recall: 0.8819 - true_positives: 6614.0000 - true_negatives: 6478.0000 - auc: 0.9354 - val_loss: 0.3823 - val_binary_accuracy: 0.8240 - val_false_negatives: 658.0000 - val_false_positives: 222.0000 - val_precision: 0.8924 - val_recall: 0.7368 - val_true_positives: 1842.0000 - val_true_negatives: 2278.0000 - val_auc: 0.9248\n",
            "Epoch 6/15\n",
            "59/59 [==============================] - ETA: 0s - loss: 0.3077 - binary_accuracy: 0.8820 - false_negatives: 852.0000 - false_positives: 918.0000 - precision: 0.8787 - recall: 0.8864 - true_positives: 6648.0000 - true_negatives: 6582.0000 - auc: 0.9424\n",
            "Epoch 00006: val_loss did not improve from 0.35283\n",
            "59/59 [==============================] - 5s 88ms/step - loss: 0.3077 - binary_accuracy: 0.8820 - false_negatives: 852.0000 - false_positives: 918.0000 - precision: 0.8787 - recall: 0.8864 - true_positives: 6648.0000 - true_negatives: 6582.0000 - auc: 0.9424 - val_loss: 0.3818 - val_binary_accuracy: 0.8290 - val_false_negatives: 621.0000 - val_false_positives: 234.0000 - val_precision: 0.8893 - val_recall: 0.7516 - val_true_positives: 1879.0000 - val_true_negatives: 2266.0000 - val_auc: 0.9244\n",
            "Epoch 7/15\n",
            "59/59 [==============================] - ETA: 0s - loss: 0.2850 - binary_accuracy: 0.8963 - false_negatives: 749.0000 - false_positives: 807.0000 - precision: 0.8932 - recall: 0.9001 - true_positives: 6751.0000 - true_negatives: 6693.0000 - auc: 0.9510\n",
            "Epoch 00007: val_loss did not improve from 0.35283\n",
            "59/59 [==============================] - 5s 88ms/step - loss: 0.2850 - binary_accuracy: 0.8963 - false_negatives: 749.0000 - false_positives: 807.0000 - precision: 0.8932 - recall: 0.9001 - true_positives: 6751.0000 - true_negatives: 6693.0000 - auc: 0.9510 - val_loss: 0.4094 - val_binary_accuracy: 0.8240 - val_false_negatives: 641.0000 - val_false_positives: 239.0000 - val_precision: 0.8861 - val_recall: 0.7436 - val_true_positives: 1859.0000 - val_true_negatives: 2261.0000 - val_auc: 0.9238\n",
            "Epoch 8/15\n",
            "59/59 [==============================] - ETA: 0s - loss: 0.2696 - binary_accuracy: 0.9019 - false_negatives: 721.0000 - false_positives: 750.0000 - precision: 0.9004 - recall: 0.9039 - true_positives: 6779.0000 - true_negatives: 6750.0000 - auc: 0.9560\n",
            "Epoch 00008: val_loss did not improve from 0.35283\n",
            "59/59 [==============================] - 6s 93ms/step - loss: 0.2696 - binary_accuracy: 0.9019 - false_negatives: 721.0000 - false_positives: 750.0000 - precision: 0.9004 - recall: 0.9039 - true_positives: 6779.0000 - true_negatives: 6750.0000 - auc: 0.9560 - val_loss: 0.3992 - val_binary_accuracy: 0.8282 - val_false_negatives: 192.0000 - val_false_positives: 667.0000 - val_precision: 0.7758 - val_recall: 0.9232 - val_true_positives: 2308.0000 - val_true_negatives: 1833.0000 - val_auc: 0.9211\n",
            "Epoch 9/15\n",
            "59/59 [==============================] - ETA: 0s - loss: 0.2507 - binary_accuracy: 0.9097 - false_negatives: 630.0000 - false_positives: 724.0000 - precision: 0.9047 - recall: 0.9160 - true_positives: 6870.0000 - true_negatives: 6776.0000 - auc: 0.9620\n",
            "Epoch 00009: val_loss did not improve from 0.35283\n",
            "59/59 [==============================] - 5s 88ms/step - loss: 0.2507 - binary_accuracy: 0.9097 - false_negatives: 630.0000 - false_positives: 724.0000 - precision: 0.9047 - recall: 0.9160 - true_positives: 6870.0000 - true_negatives: 6776.0000 - auc: 0.9620 - val_loss: 0.3725 - val_binary_accuracy: 0.8372 - val_false_negatives: 431.0000 - val_false_positives: 383.0000 - val_precision: 0.8438 - val_recall: 0.8276 - val_true_positives: 2069.0000 - val_true_negatives: 2117.0000 - val_auc: 0.9202\n",
            "Epoch 10/15\n",
            "59/59 [==============================] - ETA: 0s - loss: 0.2292 - binary_accuracy: 0.9209 - false_negatives: 557.0000 - false_positives: 629.0000 - precision: 0.9169 - recall: 0.9257 - true_positives: 6943.0000 - true_negatives: 6871.0000 - auc: 0.9679\n",
            "Epoch 00010: val_loss did not improve from 0.35283\n",
            "59/59 [==============================] - 5s 87ms/step - loss: 0.2292 - binary_accuracy: 0.9209 - false_negatives: 557.0000 - false_positives: 629.0000 - precision: 0.9169 - recall: 0.9257 - true_positives: 6943.0000 - true_negatives: 6871.0000 - auc: 0.9679 - val_loss: 0.4430 - val_binary_accuracy: 0.8364 - val_false_negatives: 312.0000 - val_false_positives: 506.0000 - val_precision: 0.8122 - val_recall: 0.8752 - val_true_positives: 2188.0000 - val_true_negatives: 1994.0000 - val_auc: 0.9201\n",
            "Epoch 11/15\n",
            "59/59 [==============================] - ETA: 0s - loss: 0.2109 - binary_accuracy: 0.9261 - false_negatives: 526.0000 - false_positives: 583.0000 - precision: 0.9229 - recall: 0.9299 - true_positives: 6974.0000 - true_negatives: 6917.0000 - auc: 0.9725\n",
            "Epoch 00011: val_loss did not improve from 0.35283\n",
            "59/59 [==============================] - 5s 88ms/step - loss: 0.2109 - binary_accuracy: 0.9261 - false_negatives: 526.0000 - false_positives: 583.0000 - precision: 0.9229 - recall: 0.9299 - true_positives: 6974.0000 - true_negatives: 6917.0000 - auc: 0.9725 - val_loss: 0.4299 - val_binary_accuracy: 0.8340 - val_false_negatives: 320.0000 - val_false_positives: 510.0000 - val_precision: 0.8104 - val_recall: 0.8720 - val_true_positives: 2180.0000 - val_true_negatives: 1990.0000 - val_auc: 0.9179\n",
            "Epoch 12/15\n",
            "59/59 [==============================] - ETA: 0s - loss: 0.2011 - binary_accuracy: 0.9315 - false_negatives: 494.0000 - false_positives: 534.0000 - precision: 0.9292 - recall: 0.9341 - true_positives: 7006.0000 - true_negatives: 6966.0000 - auc: 0.9751\n",
            "Epoch 00012: val_loss did not improve from 0.35283\n",
            "59/59 [==============================] - 5s 87ms/step - loss: 0.2011 - binary_accuracy: 0.9315 - false_negatives: 494.0000 - false_positives: 534.0000 - precision: 0.9292 - recall: 0.9341 - true_positives: 7006.0000 - true_negatives: 6966.0000 - auc: 0.9751 - val_loss: 0.4322 - val_binary_accuracy: 0.8312 - val_false_negatives: 474.0000 - val_false_positives: 370.0000 - val_precision: 0.8456 - val_recall: 0.8104 - val_true_positives: 2026.0000 - val_true_negatives: 2130.0000 - val_auc: 0.9175\n",
            "Epoch 13/15\n",
            "59/59 [==============================] - ETA: 0s - loss: 0.1868 - binary_accuracy: 0.9356 - false_negatives: 464.0000 - false_positives: 502.0000 - precision: 0.9334 - recall: 0.9381 - true_positives: 7036.0000 - true_negatives: 6998.0000 - auc: 0.9783\n",
            "Epoch 00013: val_loss did not improve from 0.35283\n",
            "59/59 [==============================] - 5s 88ms/step - loss: 0.1868 - binary_accuracy: 0.9356 - false_negatives: 464.0000 - false_positives: 502.0000 - precision: 0.9334 - recall: 0.9381 - true_positives: 7036.0000 - true_negatives: 6998.0000 - auc: 0.9783 - val_loss: 0.4615 - val_binary_accuracy: 0.8280 - val_false_negatives: 514.0000 - val_false_positives: 346.0000 - val_precision: 0.8516 - val_recall: 0.7944 - val_true_positives: 1986.0000 - val_true_negatives: 2154.0000 - val_auc: 0.9156\n",
            "Epoch 14/15\n",
            "59/59 [==============================] - ETA: 0s - loss: 0.1644 - binary_accuracy: 0.9457 - false_negatives: 395.0000 - false_positives: 420.0000 - precision: 0.9442 - recall: 0.9473 - true_positives: 7105.0000 - true_negatives: 7080.0000 - auc: 0.9828\n",
            "Epoch 00014: val_loss did not improve from 0.35283\n",
            "59/59 [==============================] - 5s 92ms/step - loss: 0.1644 - binary_accuracy: 0.9457 - false_negatives: 395.0000 - false_positives: 420.0000 - precision: 0.9442 - recall: 0.9473 - true_positives: 7105.0000 - true_negatives: 7080.0000 - auc: 0.9828 - val_loss: 0.6504 - val_binary_accuracy: 0.7966 - val_false_negatives: 149.0000 - val_false_positives: 868.0000 - val_precision: 0.7304 - val_recall: 0.9404 - val_true_positives: 2351.0000 - val_true_negatives: 1632.0000 - val_auc: 0.9036\n",
            "Epoch 00014: early stopping\n",
            "----------------------------------------------------------------------------------------------------\n",
            "Number of zeros incorrectly classified: 160.0, Number of ones incorrectly classified: 851.0\n",
            "Sample ratio for positives: 0.8417408506429278, Sample ratio for negatives:0.1582591493570722\n",
            "Starting training with 19999 samples\n",
            "----------------------------------------------------------------------------------------------------\n",
            "Epoch 1/20\n",
            "79/79 [==============================] - ETA: 0s - loss: 0.2416 - binary_accuracy: 0.9161 - false_negatives_1: 887.0000 - false_positives_1: 790.0000 - precision_1: 0.9320 - recall_1: 0.9242 - true_positives_1: 10821.0000 - true_negatives_1: 7501.0000 - auc_1: 0.9637\n",
            "Epoch 00001: val_loss did not improve from 0.35283\n",
            "79/79 [==============================] - 17s 109ms/step - loss: 0.2416 - binary_accuracy: 0.9161 - false_negatives_1: 887.0000 - false_positives_1: 790.0000 - precision_1: 0.9320 - recall_1: 0.9242 - true_positives_1: 10821.0000 - true_negatives_1: 7501.0000 - auc_1: 0.9637 - val_loss: 0.5732 - val_binary_accuracy: 0.8108 - val_false_negatives_1: 151.0000 - val_false_positives_1: 795.0000 - val_precision_1: 0.7471 - val_recall_1: 0.9396 - val_true_positives_1: 2349.0000 - val_true_negatives_1: 1705.0000 - val_auc_1: 0.9122\n",
            "Epoch 2/20\n",
            "79/79 [==============================] - ETA: 0s - loss: 0.2102 - binary_accuracy: 0.9289 - false_negatives_1: 756.0000 - false_positives_1: 666.0000 - precision_1: 0.9427 - recall_1: 0.9354 - true_positives_1: 10952.0000 - true_negatives_1: 7625.0000 - auc_1: 0.9723\n",
            "Epoch 00002: val_loss did not improve from 0.35283\n",
            "79/79 [==============================] - 7s 87ms/step - loss: 0.2102 - binary_accuracy: 0.9289 - false_negatives_1: 756.0000 - false_positives_1: 666.0000 - precision_1: 0.9427 - recall_1: 0.9354 - true_positives_1: 10952.0000 - true_negatives_1: 7625.0000 - auc_1: 0.9723 - val_loss: 0.6858 - val_binary_accuracy: 0.7920 - val_false_negatives_1: 111.0000 - val_false_positives_1: 929.0000 - val_precision_1: 0.7200 - val_recall_1: 0.9556 - val_true_positives_1: 2389.0000 - val_true_negatives_1: 1571.0000 - val_auc_1: 0.9098\n",
            "Epoch 3/20\n",
            "79/79 [==============================] - ETA: 0s - loss: 0.1939 - binary_accuracy: 0.9350 - false_negatives_1: 682.0000 - false_positives_1: 617.0000 - precision_1: 0.9470 - recall_1: 0.9417 - true_positives_1: 11026.0000 - true_negatives_1: 7674.0000 - auc_1: 0.9760\n",
            "Epoch 00003: val_loss did not improve from 0.35283\n",
            "79/79 [==============================] - 7s 87ms/step - loss: 0.1939 - binary_accuracy: 0.9350 - false_negatives_1: 682.0000 - false_positives_1: 617.0000 - precision_1: 0.9470 - recall_1: 0.9417 - true_positives_1: 11026.0000 - true_negatives_1: 7674.0000 - auc_1: 0.9760 - val_loss: 0.4653 - val_binary_accuracy: 0.8266 - val_false_negatives_1: 224.0000 - val_false_positives_1: 643.0000 - val_precision_1: 0.7797 - val_recall_1: 0.9104 - val_true_positives_1: 2276.0000 - val_true_negatives_1: 1857.0000 - val_auc_1: 0.9138\n",
            "Epoch 4/20\n",
            "79/79 [==============================] - ETA: 0s - loss: 0.1728 - binary_accuracy: 0.9440 - false_negatives_1: 594.0000 - false_positives_1: 525.0000 - precision_1: 0.9549 - recall_1: 0.9493 - true_positives_1: 11114.0000 - true_negatives_1: 7766.0000 - auc_1: 0.9807\n",
            "Epoch 00004: val_loss did not improve from 0.35283\n",
            "79/79 [==============================] - 7s 85ms/step - loss: 0.1728 - binary_accuracy: 0.9440 - false_negatives_1: 594.0000 - false_positives_1: 525.0000 - precision_1: 0.9549 - recall_1: 0.9493 - true_positives_1: 11114.0000 - true_negatives_1: 7766.0000 - auc_1: 0.9807 - val_loss: 0.5659 - val_binary_accuracy: 0.8208 - val_false_negatives_1: 192.0000 - val_false_positives_1: 704.0000 - val_precision_1: 0.7663 - val_recall_1: 0.9232 - val_true_positives_1: 2308.0000 - val_true_negatives_1: 1796.0000 - val_auc_1: 0.9113\n",
            "Epoch 5/20\n",
            "79/79 [==============================] - ETA: 0s - loss: 0.1571 - binary_accuracy: 0.9495 - false_negatives_1: 548.0000 - false_positives_1: 462.0000 - precision_1: 0.9602 - recall_1: 0.9532 - true_positives_1: 11160.0000 - true_negatives_1: 7829.0000 - auc_1: 0.9835\n",
            "Epoch 00005: val_loss did not improve from 0.35283\n",
            "79/79 [==============================] - 7s 90ms/step - loss: 0.1571 - binary_accuracy: 0.9495 - false_negatives_1: 548.0000 - false_positives_1: 462.0000 - precision_1: 0.9602 - recall_1: 0.9532 - true_positives_1: 11160.0000 - true_negatives_1: 7829.0000 - auc_1: 0.9835 - val_loss: 0.5615 - val_binary_accuracy: 0.8336 - val_false_negatives_1: 323.0000 - val_false_positives_1: 509.0000 - val_precision_1: 0.8105 - val_recall_1: 0.8708 - val_true_positives_1: 2177.0000 - val_true_negatives_1: 1991.0000 - val_auc_1: 0.9086\n",
            "Epoch 6/20\n",
            "79/79 [==============================] - ETA: 0s - loss: 0.1427 - binary_accuracy: 0.9549 - false_negatives_1: 480.0000 - false_positives_1: 421.0000 - precision_1: 0.9639 - recall_1: 0.9590 - true_positives_1: 11228.0000 - true_negatives_1: 7870.0000 - auc_1: 0.9865\n",
            "Epoch 00006: val_loss did not improve from 0.35283\n",
            "79/79 [==============================] - 7s 85ms/step - loss: 0.1427 - binary_accuracy: 0.9549 - false_negatives_1: 480.0000 - false_positives_1: 421.0000 - precision_1: 0.9639 - recall_1: 0.9590 - true_positives_1: 11228.0000 - true_negatives_1: 7870.0000 - auc_1: 0.9865 - val_loss: 0.5226 - val_binary_accuracy: 0.8308 - val_false_negatives_1: 337.0000 - val_false_positives_1: 509.0000 - val_precision_1: 0.8095 - val_recall_1: 0.8652 - val_true_positives_1: 2163.0000 - val_true_negatives_1: 1991.0000 - val_auc_1: 0.9090\n",
            "Epoch 7/20\n",
            "79/79 [==============================] - ETA: 0s - loss: 0.1323 - binary_accuracy: 0.9591 - false_negatives_1: 434.0000 - false_positives_1: 384.0000 - precision_1: 0.9671 - recall_1: 0.9629 - true_positives_1: 11274.0000 - true_negatives_1: 7907.0000 - auc_1: 0.9881\n",
            "Epoch 00007: val_loss did not improve from 0.35283\n",
            "79/79 [==============================] - 7s 86ms/step - loss: 0.1323 - binary_accuracy: 0.9591 - false_negatives_1: 434.0000 - false_positives_1: 384.0000 - precision_1: 0.9671 - recall_1: 0.9629 - true_positives_1: 11274.0000 - true_negatives_1: 7907.0000 - auc_1: 0.9881 - val_loss: 0.5296 - val_binary_accuracy: 0.8282 - val_false_negatives_1: 414.0000 - val_false_positives_1: 445.0000 - val_precision_1: 0.8242 - val_recall_1: 0.8344 - val_true_positives_1: 2086.0000 - val_true_negatives_1: 2055.0000 - val_auc_1: 0.9081\n",
            "Epoch 8/20\n",
            "79/79 [==============================] - ETA: 0s - loss: 0.1130 - binary_accuracy: 0.9667 - false_negatives_1: 359.0000 - false_positives_1: 306.0000 - precision_1: 0.9737 - recall_1: 0.9693 - true_positives_1: 11349.0000 - true_negatives_1: 7985.0000 - auc_1: 0.9909\n",
            "Epoch 00008: val_loss did not improve from 0.35283\n",
            "79/79 [==============================] - 7s 86ms/step - loss: 0.1130 - binary_accuracy: 0.9667 - false_negatives_1: 359.0000 - false_positives_1: 306.0000 - precision_1: 0.9737 - recall_1: 0.9693 - true_positives_1: 11349.0000 - true_negatives_1: 7985.0000 - auc_1: 0.9909 - val_loss: 0.5767 - val_binary_accuracy: 0.8112 - val_false_negatives_1: 646.0000 - val_false_positives_1: 298.0000 - val_precision_1: 0.8615 - val_recall_1: 0.7416 - val_true_positives_1: 1854.0000 - val_true_negatives_1: 2202.0000 - val_auc_1: 0.9004\n",
            "Epoch 9/20\n",
            "79/79 [==============================] - ETA: 0s - loss: 0.1000 - binary_accuracy: 0.9704 - false_negatives_1: 328.0000 - false_positives_1: 264.0000 - precision_1: 0.9773 - recall_1: 0.9720 - true_positives_1: 11380.0000 - true_negatives_1: 8027.0000 - auc_1: 0.9927\n",
            "Epoch 00009: val_loss did not improve from 0.35283\n",
            "79/79 [==============================] - 7s 86ms/step - loss: 0.1000 - binary_accuracy: 0.9704 - false_negatives_1: 328.0000 - false_positives_1: 264.0000 - precision_1: 0.9773 - recall_1: 0.9720 - true_positives_1: 11380.0000 - true_negatives_1: 8027.0000 - auc_1: 0.9927 - val_loss: 0.9032 - val_binary_accuracy: 0.8020 - val_false_negatives_1: 171.0000 - val_false_positives_1: 819.0000 - val_precision_1: 0.7398 - val_recall_1: 0.9316 - val_true_positives_1: 2329.0000 - val_true_negatives_1: 1681.0000 - val_auc_1: 0.8858\n",
            "Epoch 10/20\n",
            "79/79 [==============================] - ETA: 0s - loss: 0.0906 - binary_accuracy: 0.9730 - false_negatives_1: 295.0000 - false_positives_1: 245.0000 - precision_1: 0.9790 - recall_1: 0.9748 - true_positives_1: 11413.0000 - true_negatives_1: 8046.0000 - auc_1: 0.9939\n",
            "Epoch 00010: val_loss did not improve from 0.35283\n",
            "79/79 [==============================] - 7s 85ms/step - loss: 0.0906 - binary_accuracy: 0.9730 - false_negatives_1: 295.0000 - false_positives_1: 245.0000 - precision_1: 0.9790 - recall_1: 0.9748 - true_positives_1: 11413.0000 - true_negatives_1: 8046.0000 - auc_1: 0.9939 - val_loss: 0.6730 - val_binary_accuracy: 0.8236 - val_false_negatives_1: 393.0000 - val_false_positives_1: 489.0000 - val_precision_1: 0.8116 - val_recall_1: 0.8428 - val_true_positives_1: 2107.0000 - val_true_negatives_1: 2011.0000 - val_auc_1: 0.8988\n",
            "Epoch 11/20\n",
            "79/79 [==============================] - ETA: 0s - loss: 0.0769 - binary_accuracy: 0.9779 - false_negatives_1: 224.0000 - false_positives_1: 218.0000 - precision_1: 0.9814 - recall_1: 0.9809 - true_positives_1: 11484.0000 - true_negatives_1: 8073.0000 - auc_1: 0.9953\n",
            "Epoch 00011: val_loss did not improve from 0.35283\n",
            "79/79 [==============================] - 7s 89ms/step - loss: 0.0769 - binary_accuracy: 0.9779 - false_negatives_1: 224.0000 - false_positives_1: 218.0000 - precision_1: 0.9814 - recall_1: 0.9809 - true_positives_1: 11484.0000 - true_negatives_1: 8073.0000 - auc_1: 0.9953 - val_loss: 0.8032 - val_binary_accuracy: 0.8240 - val_false_negatives_1: 302.0000 - val_false_positives_1: 578.0000 - val_precision_1: 0.7918 - val_recall_1: 0.8792 - val_true_positives_1: 2198.0000 - val_true_negatives_1: 1922.0000 - val_auc_1: 0.8907\n",
            "Epoch 12/20\n",
            "79/79 [==============================] - ETA: 0s - loss: 0.0713 - binary_accuracy: 0.9817 - false_negatives_1: 183.0000 - false_positives_1: 182.0000 - precision_1: 0.9845 - recall_1: 0.9844 - true_positives_1: 11525.0000 - true_negatives_1: 8109.0000 - auc_1: 0.9954\n",
            "Epoch 00012: val_loss did not improve from 0.35283\n",
            "79/79 [==============================] - 7s 86ms/step - loss: 0.0713 - binary_accuracy: 0.9817 - false_negatives_1: 183.0000 - false_positives_1: 182.0000 - precision_1: 0.9845 - recall_1: 0.9844 - true_positives_1: 11525.0000 - true_negatives_1: 8109.0000 - auc_1: 0.9954 - val_loss: 0.7325 - val_binary_accuracy: 0.8142 - val_false_negatives_1: 421.0000 - val_false_positives_1: 508.0000 - val_precision_1: 0.8036 - val_recall_1: 0.8316 - val_true_positives_1: 2079.0000 - val_true_negatives_1: 1992.0000 - val_auc_1: 0.8907\n",
            "Epoch 13/20\n",
            "79/79 [==============================] - ETA: 0s - loss: 0.0606 - binary_accuracy: 0.9849 - false_negatives_1: 145.0000 - false_positives_1: 157.0000 - precision_1: 0.9866 - recall_1: 0.9876 - true_positives_1: 11563.0000 - true_negatives_1: 8134.0000 - auc_1: 0.9964\n",
            "Epoch 00013: val_loss did not improve from 0.35283\n",
            "79/79 [==============================] - 7s 85ms/step - loss: 0.0606 - binary_accuracy: 0.9849 - false_negatives_1: 145.0000 - false_positives_1: 157.0000 - precision_1: 0.9866 - recall_1: 0.9876 - true_positives_1: 11563.0000 - true_negatives_1: 8134.0000 - auc_1: 0.9964 - val_loss: 0.8652 - val_binary_accuracy: 0.8102 - val_false_negatives_1: 263.0000 - val_false_positives_1: 686.0000 - val_precision_1: 0.7653 - val_recall_1: 0.8948 - val_true_positives_1: 2237.0000 - val_true_negatives_1: 1814.0000 - val_auc_1: 0.8811\n",
            "Epoch 00013: early stopping\n",
            "----------------------------------------------------------------------------------------------------\n",
            "Number of zeros incorrectly classified: 387.0, Number of ones incorrectly classified: 385.0\n",
            "Sample ratio for positives: 0.49870466321243523, Sample ratio for negatives:0.5012953367875648\n",
            "Starting training with 24998 samples\n",
            "----------------------------------------------------------------------------------------------------\n",
            "Epoch 1/20\n",
            "98/98 [==============================] - ETA: 0s - loss: 0.3613 - binary_accuracy: 0.8576 - false_negatives_2: 1608.0000 - false_positives_2: 1951.0000 - precision_2: 0.8659 - recall_2: 0.8868 - true_positives_2: 12593.0000 - true_negatives_2: 8846.0000 - auc_2: 0.9172\n",
            "Epoch 00001: val_loss did not improve from 0.35283\n",
            "98/98 [==============================] - 19s 109ms/step - loss: 0.3613 - binary_accuracy: 0.8576 - false_negatives_2: 1608.0000 - false_positives_2: 1951.0000 - precision_2: 0.8659 - recall_2: 0.8868 - true_positives_2: 12593.0000 - true_negatives_2: 8846.0000 - auc_2: 0.9172 - val_loss: 0.3574 - val_binary_accuracy: 0.8460 - val_false_negatives_2: 231.0000 - val_false_positives_2: 539.0000 - val_precision_2: 0.8080 - val_recall_2: 0.9076 - val_true_positives_2: 2269.0000 - val_true_negatives_2: 1961.0000 - val_auc_2: 0.9306\n",
            "Epoch 2/20\n",
            "98/98 [==============================] - ETA: 0s - loss: 0.3202 - binary_accuracy: 0.8791 - false_negatives_2: 1345.0000 - false_positives_2: 1677.0000 - precision_2: 0.8846 - recall_2: 0.9053 - true_positives_2: 12856.0000 - true_negatives_2: 9120.0000 - auc_2: 0.9364\n",
            "Epoch 00002: val_loss improved from 0.35283 to 0.33567, saving model to AL_Model.h5\n",
            "98/98 [==============================] - 9s 87ms/step - loss: 0.3202 - binary_accuracy: 0.8791 - false_negatives_2: 1345.0000 - false_positives_2: 1677.0000 - precision_2: 0.8846 - recall_2: 0.9053 - true_positives_2: 12856.0000 - true_negatives_2: 9120.0000 - auc_2: 0.9364 - val_loss: 0.3357 - val_binary_accuracy: 0.8544 - val_false_negatives_2: 381.0000 - val_false_positives_2: 347.0000 - val_precision_2: 0.8593 - val_recall_2: 0.8476 - val_true_positives_2: 2119.0000 - val_true_negatives_2: 2153.0000 - val_auc_2: 0.9310\n",
            "Epoch 3/20\n",
            "98/98 [==============================] - ETA: 0s - loss: 0.2971 - binary_accuracy: 0.8852 - false_negatives_2: 1286.0000 - false_positives_2: 1585.0000 - precision_2: 0.8907 - recall_2: 0.9094 - true_positives_2: 12915.0000 - true_negatives_2: 9212.0000 - auc_2: 0.9455\n",
            "Epoch 00003: val_loss did not improve from 0.33567\n",
            "98/98 [==============================] - 8s 85ms/step - loss: 0.2971 - binary_accuracy: 0.8852 - false_negatives_2: 1286.0000 - false_positives_2: 1585.0000 - precision_2: 0.8907 - recall_2: 0.9094 - true_positives_2: 12915.0000 - true_negatives_2: 9212.0000 - auc_2: 0.9455 - val_loss: 0.3375 - val_binary_accuracy: 0.8510 - val_false_negatives_2: 403.0000 - val_false_positives_2: 342.0000 - val_precision_2: 0.8598 - val_recall_2: 0.8388 - val_true_positives_2: 2097.0000 - val_true_negatives_2: 2158.0000 - val_auc_2: 0.9315\n",
            "Epoch 4/20\n",
            "98/98 [==============================] - ETA: 0s - loss: 0.2810 - binary_accuracy: 0.8944 - false_negatives_2: 1239.0000 - false_positives_2: 1402.0000 - precision_2: 0.9024 - recall_2: 0.9128 - true_positives_2: 12962.0000 - true_negatives_2: 9395.0000 - auc_2: 0.9514\n",
            "Epoch 00004: val_loss did not improve from 0.33567\n",
            "98/98 [==============================] - 8s 85ms/step - loss: 0.2810 - binary_accuracy: 0.8944 - false_negatives_2: 1239.0000 - false_positives_2: 1402.0000 - precision_2: 0.9024 - recall_2: 0.9128 - true_positives_2: 12962.0000 - true_negatives_2: 9395.0000 - auc_2: 0.9514 - val_loss: 0.3607 - val_binary_accuracy: 0.8358 - val_false_negatives_2: 591.0000 - val_false_positives_2: 230.0000 - val_precision_2: 0.8925 - val_recall_2: 0.7636 - val_true_positives_2: 1909.0000 - val_true_negatives_2: 2270.0000 - val_auc_2: 0.9311\n",
            "Epoch 5/20\n",
            "98/98 [==============================] - ETA: 0s - loss: 0.2628 - binary_accuracy: 0.9024 - false_negatives_2: 1107.0000 - false_positives_2: 1334.0000 - precision_2: 0.9075 - recall_2: 0.9220 - true_positives_2: 13094.0000 - true_negatives_2: 9463.0000 - auc_2: 0.9575\n",
            "Epoch 00005: val_loss did not improve from 0.33567\n",
            "98/98 [==============================] - 8s 86ms/step - loss: 0.2628 - binary_accuracy: 0.9024 - false_negatives_2: 1107.0000 - false_positives_2: 1334.0000 - precision_2: 0.9075 - recall_2: 0.9220 - true_positives_2: 13094.0000 - true_negatives_2: 9463.0000 - auc_2: 0.9575 - val_loss: 0.3739 - val_binary_accuracy: 0.8404 - val_false_negatives_2: 220.0000 - val_false_positives_2: 578.0000 - val_precision_2: 0.7978 - val_recall_2: 0.9120 - val_true_positives_2: 2280.0000 - val_true_negatives_2: 1922.0000 - val_auc_2: 0.9294\n",
            "Epoch 6/20\n",
            "98/98 [==============================] - ETA: 0s - loss: 0.2475 - binary_accuracy: 0.9087 - false_negatives_2: 1015.0000 - false_positives_2: 1267.0000 - precision_2: 0.9123 - recall_2: 0.9285 - true_positives_2: 13186.0000 - true_negatives_2: 9530.0000 - auc_2: 0.9623\n",
            "Epoch 00006: val_loss did not improve from 0.33567\n",
            "98/98 [==============================] - 8s 86ms/step - loss: 0.2475 - binary_accuracy: 0.9087 - false_negatives_2: 1015.0000 - false_positives_2: 1267.0000 - precision_2: 0.9123 - recall_2: 0.9285 - true_positives_2: 13186.0000 - true_negatives_2: 9530.0000 - auc_2: 0.9623 - val_loss: 0.4275 - val_binary_accuracy: 0.8368 - val_false_negatives_2: 206.0000 - val_false_positives_2: 610.0000 - val_precision_2: 0.7899 - val_recall_2: 0.9176 - val_true_positives_2: 2294.0000 - val_true_negatives_2: 1890.0000 - val_auc_2: 0.9254\n",
            "Epoch 7/20\n",
            "98/98 [==============================] - ETA: 0s - loss: 0.2315 - binary_accuracy: 0.9154 - false_negatives_2: 955.0000 - false_positives_2: 1160.0000 - precision_2: 0.9195 - recall_2: 0.9328 - true_positives_2: 13246.0000 - true_negatives_2: 9637.0000 - auc_2: 0.9669\n",
            "Epoch 00007: val_loss did not improve from 0.33567\n",
            "98/98 [==============================] - 8s 86ms/step - loss: 0.2315 - binary_accuracy: 0.9154 - false_negatives_2: 955.0000 - false_positives_2: 1160.0000 - precision_2: 0.9195 - recall_2: 0.9328 - true_positives_2: 13246.0000 - true_negatives_2: 9637.0000 - auc_2: 0.9669 - val_loss: 0.3706 - val_binary_accuracy: 0.8480 - val_false_negatives_2: 358.0000 - val_false_positives_2: 402.0000 - val_precision_2: 0.8420 - val_recall_2: 0.8568 - val_true_positives_2: 2142.0000 - val_true_negatives_2: 2098.0000 - val_auc_2: 0.9266\n",
            "Epoch 8/20\n",
            "98/98 [==============================] - ETA: 0s - loss: 0.2166 - binary_accuracy: 0.9235 - false_negatives_2: 882.0000 - false_positives_2: 1031.0000 - precision_2: 0.9282 - recall_2: 0.9379 - true_positives_2: 13319.0000 - true_negatives_2: 9766.0000 - auc_2: 0.9708\n",
            "Epoch 00008: val_loss did not improve from 0.33567\n",
            "98/98 [==============================] - 8s 86ms/step - loss: 0.2166 - binary_accuracy: 0.9235 - false_negatives_2: 882.0000 - false_positives_2: 1031.0000 - precision_2: 0.9282 - recall_2: 0.9379 - true_positives_2: 13319.0000 - true_negatives_2: 9766.0000 - auc_2: 0.9708 - val_loss: 0.3948 - val_binary_accuracy: 0.8448 - val_false_negatives_2: 385.0000 - val_false_positives_2: 391.0000 - val_precision_2: 0.8440 - val_recall_2: 0.8460 - val_true_positives_2: 2115.0000 - val_true_negatives_2: 2109.0000 - val_auc_2: 0.9259\n",
            "Epoch 9/20\n",
            "98/98 [==============================] - ETA: 0s - loss: 0.2034 - binary_accuracy: 0.9281 - false_negatives_2: 820.0000 - false_positives_2: 978.0000 - precision_2: 0.9319 - recall_2: 0.9423 - true_positives_2: 13381.0000 - true_negatives_2: 9819.0000 - auc_2: 0.9740\n",
            "Epoch 00009: val_loss did not improve from 0.33567\n",
            "98/98 [==============================] - 8s 85ms/step - loss: 0.2034 - binary_accuracy: 0.9281 - false_negatives_2: 820.0000 - false_positives_2: 978.0000 - precision_2: 0.9319 - recall_2: 0.9423 - true_positives_2: 13381.0000 - true_negatives_2: 9819.0000 - auc_2: 0.9740 - val_loss: 0.4205 - val_binary_accuracy: 0.8428 - val_false_negatives_2: 321.0000 - val_false_positives_2: 465.0000 - val_precision_2: 0.8241 - val_recall_2: 0.8716 - val_true_positives_2: 2179.0000 - val_true_negatives_2: 2035.0000 - val_auc_2: 0.9229\n",
            "Epoch 10/20\n",
            "98/98 [==============================] - ETA: 0s - loss: 0.1871 - binary_accuracy: 0.9355 - false_negatives_2: 744.0000 - false_positives_2: 869.0000 - precision_2: 0.9393 - recall_2: 0.9476 - true_positives_2: 13457.0000 - true_negatives_2: 9928.0000 - auc_2: 0.9776\n",
            "Epoch 00010: val_loss did not improve from 0.33567\n",
            "98/98 [==============================] - 8s 85ms/step - loss: 0.1871 - binary_accuracy: 0.9355 - false_negatives_2: 744.0000 - false_positives_2: 869.0000 - precision_2: 0.9393 - recall_2: 0.9476 - true_positives_2: 13457.0000 - true_negatives_2: 9928.0000 - auc_2: 0.9776 - val_loss: 0.4582 - val_binary_accuracy: 0.8366 - val_false_negatives_2: 300.0000 - val_false_positives_2: 517.0000 - val_precision_2: 0.8097 - val_recall_2: 0.8800 - val_true_positives_2: 2200.0000 - val_true_negatives_2: 1983.0000 - val_auc_2: 0.9196\n",
            "Epoch 11/20\n",
            "98/98 [==============================] - ETA: 0s - loss: 0.1779 - binary_accuracy: 0.9393 - false_negatives_2: 688.0000 - false_positives_2: 829.0000 - precision_2: 0.9422 - recall_2: 0.9516 - true_positives_2: 13513.0000 - true_negatives_2: 9968.0000 - auc_2: 0.9799\n",
            "Epoch 00011: val_loss did not improve from 0.33567\n",
            "98/98 [==============================] - 8s 86ms/step - loss: 0.1779 - binary_accuracy: 0.9393 - false_negatives_2: 688.0000 - false_positives_2: 829.0000 - precision_2: 0.9422 - recall_2: 0.9516 - true_positives_2: 13513.0000 - true_negatives_2: 9968.0000 - auc_2: 0.9799 - val_loss: 0.4580 - val_binary_accuracy: 0.8352 - val_false_negatives_2: 408.0000 - val_false_positives_2: 416.0000 - val_precision_2: 0.8341 - val_recall_2: 0.8368 - val_true_positives_2: 2092.0000 - val_true_negatives_2: 2084.0000 - val_auc_2: 0.9163\n",
            "Epoch 12/20\n",
            "98/98 [==============================] - ETA: 0s - loss: 0.1561 - binary_accuracy: 0.9488 - false_negatives_2: 584.0000 - false_positives_2: 695.0000 - precision_2: 0.9514 - recall_2: 0.9589 - true_positives_2: 13617.0000 - true_negatives_2: 10102.0000 - auc_2: 0.9840\n",
            "Epoch 00012: val_loss did not improve from 0.33567\n",
            "98/98 [==============================] - 8s 86ms/step - loss: 0.1561 - binary_accuracy: 0.9488 - false_negatives_2: 584.0000 - false_positives_2: 695.0000 - precision_2: 0.9514 - recall_2: 0.9589 - true_positives_2: 13617.0000 - true_negatives_2: 10102.0000 - auc_2: 0.9840 - val_loss: 0.5317 - val_binary_accuracy: 0.8294 - val_false_negatives_2: 305.0000 - val_false_positives_2: 548.0000 - val_precision_2: 0.8002 - val_recall_2: 0.8780 - val_true_positives_2: 2195.0000 - val_true_negatives_2: 1952.0000 - val_auc_2: 0.9134\n",
            "Epoch 00012: early stopping\n",
            "----------------------------------------------------------------------------------------------------\n",
            "Number of zeros incorrectly classified: 420.0, Number of ones incorrectly classified: 336.0\n",
            "Sample ratio for positives: 0.4444444444444444, Sample ratio for negatives:0.5555555555555556\n",
            "Starting training with 29997 samples\n",
            "----------------------------------------------------------------------------------------------------\n",
            "Epoch 1/20\n",
            "118/118 [==============================] - ETA: 0s - loss: 0.3188 - binary_accuracy: 0.8763 - false_negatives_3: 1661.0000 - false_positives_3: 2050.0000 - precision_3: 0.8781 - recall_3: 0.8989 - true_positives_3: 14762.0000 - true_negatives_3: 11524.0000 - auc_3: 0.9379\n",
            "Epoch 00001: val_loss did not improve from 0.33567\n",
            "118/118 [==============================] - 23s 122ms/step - loss: 0.3188 - binary_accuracy: 0.8763 - false_negatives_3: 1661.0000 - false_positives_3: 2050.0000 - precision_3: 0.8781 - recall_3: 0.8989 - true_positives_3: 14762.0000 - true_negatives_3: 11524.0000 - auc_3: 0.9379 - val_loss: 0.3736 - val_binary_accuracy: 0.8438 - val_false_negatives_3: 170.0000 - val_false_positives_3: 611.0000 - val_precision_3: 0.7922 - val_recall_3: 0.9320 - val_true_positives_3: 2330.0000 - val_true_negatives_3: 1889.0000 - val_auc_3: 0.9335\n",
            "Epoch 2/20\n",
            "118/118 [==============================] - ETA: 0s - loss: 0.2923 - binary_accuracy: 0.8892 - false_negatives_3: 1548.0000 - false_positives_3: 1775.0000 - precision_3: 0.8934 - recall_3: 0.9057 - true_positives_3: 14875.0000 - true_negatives_3: 11799.0000 - auc_3: 0.9480\n",
            "Epoch 00002: val_loss did not improve from 0.33567\n",
            "118/118 [==============================] - 10s 84ms/step - loss: 0.2923 - binary_accuracy: 0.8892 - false_negatives_3: 1548.0000 - false_positives_3: 1775.0000 - precision_3: 0.8934 - recall_3: 0.9057 - true_positives_3: 14875.0000 - true_negatives_3: 11799.0000 - auc_3: 0.9480 - val_loss: 0.3562 - val_binary_accuracy: 0.8500 - val_false_negatives_3: 223.0000 - val_false_positives_3: 527.0000 - val_precision_3: 0.8121 - val_recall_3: 0.9108 - val_true_positives_3: 2277.0000 - val_true_negatives_3: 1973.0000 - val_auc_3: 0.9327\n",
            "Epoch 3/20\n",
            "118/118 [==============================] - ETA: 0s - loss: 0.2735 - binary_accuracy: 0.8974 - false_negatives_3: 1437.0000 - false_positives_3: 1642.0000 - precision_3: 0.9013 - recall_3: 0.9125 - true_positives_3: 14986.0000 - true_negatives_3: 11932.0000 - auc_3: 0.9546\n",
            "Epoch 00003: val_loss did not improve from 0.33567\n",
            "118/118 [==============================] - 10s 85ms/step - loss: 0.2735 - binary_accuracy: 0.8974 - false_negatives_3: 1437.0000 - false_positives_3: 1642.0000 - precision_3: 0.9013 - recall_3: 0.9125 - true_positives_3: 14986.0000 - true_negatives_3: 11932.0000 - auc_3: 0.9546 - val_loss: 0.3566 - val_binary_accuracy: 0.8386 - val_false_negatives_3: 568.0000 - val_false_positives_3: 239.0000 - val_precision_3: 0.8899 - val_recall_3: 0.7728 - val_true_positives_3: 1932.0000 - val_true_negatives_3: 2261.0000 - val_auc_3: 0.9324\n",
            "Epoch 4/20\n",
            "118/118 [==============================] - ETA: 0s - loss: 0.2567 - binary_accuracy: 0.9059 - false_negatives_3: 1322.0000 - false_positives_3: 1502.0000 - precision_3: 0.9095 - recall_3: 0.9195 - true_positives_3: 15101.0000 - true_negatives_3: 12072.0000 - auc_3: 0.9596\n",
            "Epoch 00004: val_loss did not improve from 0.33567\n",
            "118/118 [==============================] - 10s 85ms/step - loss: 0.2567 - binary_accuracy: 0.9059 - false_negatives_3: 1322.0000 - false_positives_3: 1502.0000 - precision_3: 0.9095 - recall_3: 0.9195 - true_positives_3: 15101.0000 - true_negatives_3: 12072.0000 - auc_3: 0.9596 - val_loss: 0.3704 - val_binary_accuracy: 0.8532 - val_false_negatives_3: 270.0000 - val_false_positives_3: 464.0000 - val_precision_3: 0.8278 - val_recall_3: 0.8920 - val_true_positives_3: 2230.0000 - val_true_negatives_3: 2036.0000 - val_auc_3: 0.9305\n",
            "Epoch 5/20\n",
            "118/118 [==============================] - ETA: 0s - loss: 0.2405 - binary_accuracy: 0.9120 - false_negatives_3: 1225.0000 - false_positives_3: 1414.0000 - precision_3: 0.9149 - recall_3: 0.9254 - true_positives_3: 15198.0000 - true_negatives_3: 12160.0000 - auc_3: 0.9648\n",
            "Epoch 00005: val_loss did not improve from 0.33567\n",
            "118/118 [==============================] - 10s 85ms/step - loss: 0.2405 - binary_accuracy: 0.9120 - false_negatives_3: 1225.0000 - false_positives_3: 1414.0000 - precision_3: 0.9149 - recall_3: 0.9254 - true_positives_3: 15198.0000 - true_negatives_3: 12160.0000 - auc_3: 0.9648 - val_loss: 0.3846 - val_binary_accuracy: 0.8420 - val_false_negatives_3: 552.0000 - val_false_positives_3: 238.0000 - val_precision_3: 0.8911 - val_recall_3: 0.7792 - val_true_positives_3: 1948.0000 - val_true_negatives_3: 2262.0000 - val_auc_3: 0.9305\n",
            "Epoch 6/20\n",
            "118/118 [==============================] - ETA: 0s - loss: 0.2273 - binary_accuracy: 0.9154 - false_negatives_3: 1212.0000 - false_positives_3: 1326.0000 - precision_3: 0.9198 - recall_3: 0.9262 - true_positives_3: 15211.0000 - true_negatives_3: 12248.0000 - auc_3: 0.9685\n",
            "Epoch 00006: val_loss did not improve from 0.33567\n",
            "118/118 [==============================] - 10s 85ms/step - loss: 0.2273 - binary_accuracy: 0.9154 - false_negatives_3: 1212.0000 - false_positives_3: 1326.0000 - precision_3: 0.9198 - recall_3: 0.9262 - true_positives_3: 15211.0000 - true_negatives_3: 12248.0000 - auc_3: 0.9685 - val_loss: 0.3670 - val_binary_accuracy: 0.8530 - val_false_negatives_3: 381.0000 - val_false_positives_3: 354.0000 - val_precision_3: 0.8569 - val_recall_3: 0.8476 - val_true_positives_3: 2119.0000 - val_true_negatives_3: 2146.0000 - val_auc_3: 0.9276\n",
            "Epoch 7/20\n",
            "118/118 [==============================] - ETA: 0s - loss: 0.2139 - binary_accuracy: 0.9238 - false_negatives_3: 1083.0000 - false_positives_3: 1204.0000 - precision_3: 0.9272 - recall_3: 0.9341 - true_positives_3: 15340.0000 - true_negatives_3: 12370.0000 - auc_3: 0.9718\n",
            "Epoch 00007: val_loss did not improve from 0.33567\n",
            "118/118 [==============================] - 10s 86ms/step - loss: 0.2139 - binary_accuracy: 0.9238 - false_negatives_3: 1083.0000 - false_positives_3: 1204.0000 - precision_3: 0.9272 - recall_3: 0.9341 - true_positives_3: 15340.0000 - true_negatives_3: 12370.0000 - auc_3: 0.9718 - val_loss: 0.3780 - val_binary_accuracy: 0.8544 - val_false_negatives_3: 373.0000 - val_false_positives_3: 355.0000 - val_precision_3: 0.8570 - val_recall_3: 0.8508 - val_true_positives_3: 2127.0000 - val_true_negatives_3: 2145.0000 - val_auc_3: 0.9269\n",
            "Epoch 8/20\n",
            "118/118 [==============================] - ETA: 0s - loss: 0.1971 - binary_accuracy: 0.9305 - false_negatives_3: 953.0000 - false_positives_3: 1131.0000 - precision_3: 0.9319 - recall_3: 0.9420 - true_positives_3: 15470.0000 - true_negatives_3: 12443.0000 - auc_3: 0.9760\n",
            "Epoch 00008: val_loss did not improve from 0.33567\n",
            "118/118 [==============================] - 10s 86ms/step - loss: 0.1971 - binary_accuracy: 0.9305 - false_negatives_3: 953.0000 - false_positives_3: 1131.0000 - precision_3: 0.9319 - recall_3: 0.9420 - true_positives_3: 15470.0000 - true_negatives_3: 12443.0000 - auc_3: 0.9760 - val_loss: 0.4136 - val_binary_accuracy: 0.8470 - val_false_negatives_3: 360.0000 - val_false_positives_3: 405.0000 - val_precision_3: 0.8409 - val_recall_3: 0.8560 - val_true_positives_3: 2140.0000 - val_true_negatives_3: 2095.0000 - val_auc_3: 0.9223\n",
            "Epoch 9/20\n",
            "118/118 [==============================] - ETA: 0s - loss: 0.1791 - binary_accuracy: 0.9373 - false_negatives_3: 917.0000 - false_positives_3: 963.0000 - precision_3: 0.9415 - recall_3: 0.9442 - true_positives_3: 15506.0000 - true_negatives_3: 12611.0000 - auc_3: 0.9798\n",
            "Epoch 00009: val_loss did not improve from 0.33567\n",
            "118/118 [==============================] - 10s 86ms/step - loss: 0.1791 - binary_accuracy: 0.9373 - false_negatives_3: 917.0000 - false_positives_3: 963.0000 - precision_3: 0.9415 - recall_3: 0.9442 - true_positives_3: 15506.0000 - true_negatives_3: 12611.0000 - auc_3: 0.9798 - val_loss: 0.4402 - val_binary_accuracy: 0.8468 - val_false_negatives_3: 306.0000 - val_false_positives_3: 460.0000 - val_precision_3: 0.8267 - val_recall_3: 0.8776 - val_true_positives_3: 2194.0000 - val_true_negatives_3: 2040.0000 - val_auc_3: 0.9230\n",
            "Epoch 10/20\n",
            "118/118 [==============================] - ETA: 0s - loss: 0.1659 - binary_accuracy: 0.9431 - false_negatives_3: 813.0000 - false_positives_3: 894.0000 - precision_3: 0.9458 - recall_3: 0.9505 - true_positives_3: 15610.0000 - true_negatives_3: 12680.0000 - auc_3: 0.9824\n",
            "Epoch 00010: val_loss did not improve from 0.33567\n",
            "118/118 [==============================] - 10s 86ms/step - loss: 0.1659 - binary_accuracy: 0.9431 - false_negatives_3: 813.0000 - false_positives_3: 894.0000 - precision_3: 0.9458 - recall_3: 0.9505 - true_positives_3: 15610.0000 - true_negatives_3: 12680.0000 - auc_3: 0.9824 - val_loss: 0.5263 - val_binary_accuracy: 0.8394 - val_false_negatives_3: 234.0000 - val_false_positives_3: 569.0000 - val_precision_3: 0.7993 - val_recall_3: 0.9064 - val_true_positives_3: 2266.0000 - val_true_negatives_3: 1931.0000 - val_auc_3: 0.9191\n",
            "Epoch 11/20\n",
            "118/118 [==============================] - ETA: 0s - loss: 0.1531 - binary_accuracy: 0.9497 - false_negatives_3: 721.0000 - false_positives_3: 787.0000 - precision_3: 0.9523 - recall_3: 0.9561 - true_positives_3: 15702.0000 - true_negatives_3: 12787.0000 - auc_3: 0.9848\n",
            "Epoch 00011: val_loss did not improve from 0.33567\n",
            "118/118 [==============================] - 10s 86ms/step - loss: 0.1531 - binary_accuracy: 0.9497 - false_negatives_3: 721.0000 - false_positives_3: 787.0000 - precision_3: 0.9523 - recall_3: 0.9561 - true_positives_3: 15702.0000 - true_negatives_3: 12787.0000 - auc_3: 0.9848 - val_loss: 0.4780 - val_binary_accuracy: 0.8406 - val_false_negatives_3: 415.0000 - val_false_positives_3: 382.0000 - val_precision_3: 0.8452 - val_recall_3: 0.8340 - val_true_positives_3: 2085.0000 - val_true_negatives_3: 2118.0000 - val_auc_3: 0.9167\n",
            "Epoch 12/20\n",
            "118/118 [==============================] - ETA: 0s - loss: 0.1342 - binary_accuracy: 0.9567 - false_negatives_3: 608.0000 - false_positives_3: 692.0000 - precision_3: 0.9581 - recall_3: 0.9630 - true_positives_3: 15815.0000 - true_negatives_3: 12882.0000 - auc_3: 0.9879\n",
            "Epoch 00012: val_loss did not improve from 0.33567\n",
            "118/118 [==============================] - 11s 92ms/step - loss: 0.1342 - binary_accuracy: 0.9567 - false_negatives_3: 608.0000 - false_positives_3: 692.0000 - precision_3: 0.9581 - recall_3: 0.9630 - true_positives_3: 15815.0000 - true_negatives_3: 12882.0000 - auc_3: 0.9879 - val_loss: 0.5930 - val_binary_accuracy: 0.8310 - val_false_negatives_3: 217.0000 - val_false_positives_3: 628.0000 - val_precision_3: 0.7843 - val_recall_3: 0.9132 - val_true_positives_3: 2283.0000 - val_true_negatives_3: 1872.0000 - val_auc_3: 0.9150\n",
            "Epoch 00012: early stopping\n"
          ]
        },
        {
          "output_type": "display_data",
          "data": {
            "image/png": "[encoded data removed]",
            "text/plain": [
              "<Figure size 432x288 with 1 Axes>"
            ]
          },
          "metadata": {
            "needs_background": "light"
          }
        },
        {
          "output_type": "display_data",
          "data": {
            "image/png": "[encoded data removed]",
            "text/plain": [
              "<Figure size 432x288 with 1 Axes>"
            ]
          },
          "metadata": {
            "needs_background": "light"
          }
        },
        {
          "output_type": "stream",
          "name": "stdout",
          "text": [
            "----------------------------------------------------------------------------------------------------\n",
            "Test set evaluation:  {'loss': 0.34319737553596497, 'binary_accuracy': 0.848800003528595, 'false_negatives_2': 420.0, 'false_positives_2': 336.0, 'precision_2': 0.860927164554596, 'recall_2': 0.8320000171661377, 'true_positives_2': 2080.0, 'true_negatives_2': 2164.0, 'auc_2': 0.9281008839607239}\n",
            "----------------------------------------------------------------------------------------------------\n"
          ]
        }
      ],
      "source": [
        "\n",
        "def train_active_learning_models(\n",
        "    train_dataset,\n",
        "    pool_negatives,\n",
        "    pool_positives,\n",
        "    val_dataset,\n",
        "    test_dataset,\n",
        "    num_iterations=3,\n",
        "    sampling_size=5000,\n",
        "):\n",
        "\n",
        "    # Creating lists for storing metrics\n",
        "    losses, val_losses, accuracies, val_accuracies = [], [], [], []\n",
        "\n",
        "    model = create_model()\n",
        "    # We will monitor the false positives and false negatives predicted by our model\n",
        "    # These will decide the subsequent sampling ratio for every Active Learning loop\n",
        "    model.compile(\n",
        "        loss=\"binary_crossentropy\",\n",
        "        optimizer=\"rmsprop\",\n",
        "        metrics=[\n",
        "            keras.metrics.BinaryAccuracy(),\n",
        "            keras.metrics.FalseNegatives(),\n",
        "            keras.metrics.FalsePositives(),\n",
        "            keras.metrics.Precision(),\n",
        "            keras.metrics.Recall(),\n",
        "            keras.metrics.TruePositives(),\n",
        "            keras.metrics.TrueNegatives(),\n",
        "            keras.metrics.AUC()\n",
        "        ],\n",
        "    )\n",
        "\n",
        "    # Defining checkpoints.\n",
        "    # The checkpoint callback is reused throughout the training since it only saves the best overall model.\n",
        "    checkpoint = keras.callbacks.ModelCheckpoint(\n",
        "        \"AL_Model.h5\", save_best_only=True, verbose=1\n",
        "    )\n",
        "    # Here, patience is set to 10. This can be set higher if desired.\n",
        "    early_stopping = keras.callbacks.EarlyStopping(patience=10, verbose=1)\n",
        "\n",
        "    print(f\"Starting to train with {len(train_dataset)} samples\")\n",
        "    # Initial fit with a small subset of the training set\n",
        "    history = model.fit(\n",
        "        train_dataset.cache().shuffle(20000).batch(256),\n",
        "        epochs=15,\n",
        "        validation_data=val_dataset,\n",
        "        callbacks=[checkpoint, early_stopping],\n",
        "    )\n",
        "\n",
        "    # Appending history\n",
        "    losses, val_losses, accuracies, val_accuracies = append_history(\n",
        "        losses, val_losses, accuracies, val_accuracies, history\n",
        "    )\n",
        "\n",
        "    for iteration in range(num_iterations):\n",
        "        # Getting predictions from previously trained model\n",
        "        predictions = model.predict(test_dataset)\n",
        "\n",
        "        # Generating labels from the output probabilities\n",
        "        rounded = tf.where(tf.greater(predictions, 0.5), 1, 0)\n",
        "\n",
        "        # Evaluating the number of zeros and ones incorrrectly classified\n",
        "        _, _, false_negatives, false_positives, precision, recall, true_postives, true_negatives, auc= model.evaluate(test_dataset, verbose=0)\n",
        "\n",
        "        print(\"-\" * 100)\n",
        "        print(\n",
        "            f\"Number of zeros incorrectly classified: {false_negatives}, Number of ones incorrectly classified: {false_positives}\"\n",
        "        )\n",
        "\n",
        "        # This technique of Active Learning demonstrates ratio based sampling where\n",
        "        # Number of ones/zeros to sample = Number of ones/zeros incorrectly classified / Total incorrectly classified\n",
        "        if false_negatives != 0 and false_positives != 0:\n",
        "            total = false_negatives + false_positives\n",
        "            sample_ratio_ones, sample_ratio_zeros = (\n",
        "                false_positives / total,\n",
        "                false_negatives / total,\n",
        "            )\n",
        "        # In the case where all samples are correctly predicted, we can sample both classes equally\n",
        "        else:\n",
        "            sample_ratio_ones, sample_ratio_zeros = 0.5, 0.5\n",
        "\n",
        "        print(\n",
        "            f\"Sample ratio for positives: {sample_ratio_ones}, Sample ratio for negatives:{sample_ratio_zeros}\"\n",
        "        )\n",
        "\n",
        "        # Sample the required number of ones and zeros\n",
        "        sampled_dataset = pool_negatives.take(\n",
        "            int(sample_ratio_zeros * sampling_size)\n",
        "        ).concatenate(pool_positives.take(int(sample_ratio_ones * sampling_size)))\n",
        "\n",
        "        # Skip the sampled data points to avoid repetition of sample\n",
        "        pool_negatives = pool_negatives.skip(int(sample_ratio_zeros * sampling_size))\n",
        "        pool_positives = pool_positives.skip(int(sample_ratio_ones * sampling_size))\n",
        "\n",
        "        # Concatenating the train_dataset with the sampled_dataset\n",
        "        train_dataset = train_dataset.concatenate(sampled_dataset).prefetch(\n",
        "            tf.data.AUTOTUNE\n",
        "        )\n",
        "\n",
        "        print(f\"Starting training with {len(train_dataset)} samples\")\n",
        "        print(\"-\" * 100)\n",
        "\n",
        "        # We recompile the model to reset the optimizer states and retrain the model\n",
        "        model.compile(\n",
        "            loss=\"binary_crossentropy\",\n",
        "            optimizer=\"rmsprop\",\n",
        "            metrics=[\n",
        "                keras.metrics.BinaryAccuracy(),\n",
        "                keras.metrics.FalseNegatives(),\n",
        "                keras.metrics.FalsePositives(),\n",
        "                keras.metrics.Precision(),\n",
        "                keras.metrics.Recall(),\n",
        "                keras.metrics.TruePositives(),\n",
        "                keras.metrics.TrueNegatives(),\n",
        "                keras.metrics.AUC()\n",
        "            ],\n",
        "        )\n",
        "        history = model.fit(\n",
        "            train_dataset.cache().shuffle(20000).batch(256),\n",
        "            validation_data=val_dataset,\n",
        "            epochs=20,\n",
        "            callbacks=[\n",
        "                checkpoint,\n",
        "                keras.callbacks.EarlyStopping(patience=10, verbose=1),\n",
        "            ],\n",
        "        )\n",
        "\n",
        "        # Appending the history\n",
        "        losses, val_losses, accuracies, val_accuracies = append_history(\n",
        "            losses, val_losses, accuracies, val_accuracies, history\n",
        "        )\n",
        "\n",
        "        # Loading the best model from this training loop\n",
        "        model = keras.models.load_model(\"AL_Model.h5\")\n",
        "\n",
        "    # Plotting the overall history and evaluating the final model\n",
        "    plot_history(losses, val_losses, accuracies, val_accuracies)\n",
        "    print(\"-\" * 100)\n",
        "    print(\n",
        "        \"Test set evaluation: \",\n",
        "        model.evaluate(test_dataset, verbose=0, return_dict=True),\n",
        "    )\n",
        "    print(\"-\" * 100)\n",
        "\n",
        "    return model\n",
        "\n",
        "\n",
        "active_learning_model = train_active_learning_models(\n",
        "    train_dataset, pool_negatives, pool_positives, val_dataset, test_dataset\n",
        ")"
      ]
    },
    {
      "cell_type": "markdown",
      "metadata": {
        "id": "QWgyVWggLyHH"
      },
      "source": [
        "## Conclusion\n",
        "\n",
        "\n",
        "The following are some  observations from this excerise:\n",
        "\n",
        "1. We only require 30,000 samples to reach the same (if not better) scores as the model\n",
        "trained on the full datatset. This means that in a real life setting, we save the effort\n",
        "required for annotating 10,000 images!\n",
        "2. The number of false negatives and false positives are well balanced at the end of the\n",
        "training as compared to the skewed ratio obtained from the full training. This makes the\n",
        "model slightly more useful in real life scenarios where both the labels hold equal\n",
        "importance.\n",
        "\n"
      ]
    }
  ],
  "metadata": {
    "colab": {
      "collapsed_sections": [],
      "name": "IMDB_V2 active_learning_review_classification_",
      "provenance": [],
      "include_colab_link": true
    },
    "kernelspec": {
      "display_name": "Python 3",
      "language": "python",
      "name": "python3"
    },
    "language_info": {
      "codemirror_mode": {
        "name": "ipython",
        "version": 3
      },
      "file_extension": ".py",
      "mimetype": "text/x-python",
      "name": "python",
      "nbconvert_exporter": "python",
      "pygments_lexer": "ipython3",
      "version": "3.7.0"
    },
    "accelerator": "GPU"
  },
  "nbformat": 4,
  "nbformat_minor": 0
}