{
  "cells": [
    {
      "cell_type": "markdown",
      "metadata": {
        "id": "view-in-github",
        "colab_type": "text"
      },
      "source": [
        "<a href=\"https://colab.research.google.com/github/srirampai/Active_learning/blob/main/Banking_7th_March_Clustering_Full_Dataset.ipynb\" target=\"_parent\"><img src=\"https://colab.research.google.com/assets/colab-badge.svg\" alt=\"Open In Colab\"/></a>"
      ]
    },
    {
      "cell_type": "code",
      "execution_count": 16,
      "metadata": {
        "id": "Fg455B2s0t4d"
      },
      "outputs": [],
      "source": [
        "import tensorflow_datasets as tfds\n",
        "import tensorflow as tf\n",
        "from tensorflow import keras\n",
        "from tensorflow.keras import layers\n",
        "import matplotlib.pyplot as plt\n",
        "import re\n",
        "import string\n",
        "import numpy as np\n",
        "import logging\n",
        "import keras\n",
        "import numpy as np\n",
        "from keras.models import Sequential\n",
        "from keras.layers import Dense, Dropout \n",
        "from keras.wrappers.scikit_learn import KerasClassifier\n",
        "import pandas as pd"
      ]
    },
    {
      "cell_type": "code",
      "execution_count": 17,
      "metadata": {
        "colab": {
          "base_uri": "https://localhost:8080/"
        },
        "id": "vtjH7mmB1eZ5",
        "outputId": "99cd99e7-dd25-45f8-a5d7-f74a9f1a4bc4"
      },
      "outputs": [
        {
          "output_type": "stream",
          "name": "stdout",
          "text": [
            "(10003, 2)\n"
          ]
        }
      ],
      "source": [
        "train_data = pd.read_csv('Train.csv')\n",
        "#test_data= pd.read_csv('Test.csv')\n",
        "#dimensions of the data\n",
        "print((train_data.shape))\n",
        "#print((test_data.shape))"
      ]
    },
    {
      "cell_type": "code",
      "execution_count": 18,
      "metadata": {
        "colab": {
          "base_uri": "https://localhost:8080/",
          "height": 206
        },
        "id": "CeuJYscb4h4S",
        "outputId": "1fa8f268-9fa2-447a-8e18-fde881c28847"
      },
      "outputs": [
        {
          "output_type": "execute_result",
          "data": {
            "text/html": [
              "\n",
              "  <div id=\"df-a44c3018-8876-4024-ba9e-5bc936fe3586\">\n",
              "    <div class=\"colab-df-container\">\n",
              "      <div>\n",
              "<style scoped>\n",
              "    .dataframe tbody tr th:only-of-type {\n",
              "        vertical-align: middle;\n",
              "    }\n",
              "\n",
              "    .dataframe tbody tr th {\n",
              "        vertical-align: top;\n",
              "    }\n",
              "\n",
              "    .dataframe thead th {\n",
              "        text-align: right;\n",
              "    }\n",
              "</style>\n",
              "<table border=\"1\" class=\"dataframe\">\n",
              "  <thead>\n",
              "    <tr style=\"text-align: right;\">\n",
              "      <th></th>\n",
              "      <th>text</th>\n",
              "      <th>label</th>\n",
              "    </tr>\n",
              "  </thead>\n",
              "  <tbody>\n",
              "    <tr>\n",
              "      <th>0</th>\n",
              "      <td>I am still waiting on my card?</td>\n",
              "      <td>card_arrival</td>\n",
              "    </tr>\n",
              "    <tr>\n",
              "      <th>1</th>\n",
              "      <td>What can I do if my card still hasn't arrived ...</td>\n",
              "      <td>card_arrival</td>\n",
              "    </tr>\n",
              "    <tr>\n",
              "      <th>2</th>\n",
              "      <td>I have been waiting over a week. Is the card s...</td>\n",
              "      <td>card_arrival</td>\n",
              "    </tr>\n",
              "    <tr>\n",
              "      <th>3</th>\n",
              "      <td>Can I track my card while it is in the process...</td>\n",
              "      <td>card_arrival</td>\n",
              "    </tr>\n",
              "    <tr>\n",
              "      <th>4</th>\n",
              "      <td>How do I know if I will get my card, or if it ...</td>\n",
              "      <td>card_arrival</td>\n",
              "    </tr>\n",
              "  </tbody>\n",
              "</table>\n",
              "</div>\n",
              "      <button class=\"colab-df-convert\" onclick=\"convertToInteractive('df-a44c3018-8876-4024-ba9e-5bc936fe3586')\"\n",
              "              title=\"Convert this dataframe to an interactive table.\"\n",
              "              style=\"display:none;\">\n",
              "        \n",
              "  <svg xmlns=\"http://www.w3.org/2000/svg\" height=\"24px\"viewBox=\"0 0 24 24\"\n",
              "       width=\"24px\">\n",
              "    <path d=\"M0 0h24v24H0V0z\" fill=\"none\"/>\n",
              "    <path d=\"M18.56 5.44l.94 2.06.94-2.06 2.06-.94-2.06-.94-.94-2.06-.94 2.06-2.06.94zm-11 1L8.5 8.5l.94-2.06 2.06-.94-2.06-.94L8.5 2.5l-.94 2.06-2.06.94zm10 10l.94 2.06.94-2.06 2.06-.94-2.06-.94-.94-2.06-.94 2.06-2.06.94z\"/><path d=\"M17.41 7.96l-1.37-1.37c-.4-.4-.92-.59-1.43-.59-.52 0-1.04.2-1.43.59L10.3 9.45l-7.72 7.72c-.78.78-.78 2.05 0 2.83L4 21.41c.39.39.9.59 1.41.59.51 0 1.02-.2 1.41-.59l7.78-7.78 2.81-2.81c.8-.78.8-2.07 0-2.86zM5.41 20L4 18.59l7.72-7.72 1.47 1.35L5.41 20z\"/>\n",
              "  </svg>\n",
              "      </button>\n",
              "      \n",
              "  <style>\n",
              "    .colab-df-container {\n",
              "      display:flex;\n",
              "      flex-wrap:wrap;\n",
              "      gap: 12px;\n",
              "    }\n",
              "\n",
              "    .colab-df-convert {\n",
              "      background-color: #E8F0FE;\n",
              "      border: none;\n",
              "      border-radius: 50%;\n",
              "      cursor: pointer;\n",
              "      display: none;\n",
              "      fill: #1967D2;\n",
              "      height: 32px;\n",
              "      padding: 0 0 0 0;\n",
              "      width: 32px;\n",
              "    }\n",
              "\n",
              "    .colab-df-convert:hover {\n",
              "      background-color: #E2EBFA;\n",
              "      box-shadow: 0px 1px 2px rgba(60, 64, 67, 0.3), 0px 1px 3px 1px rgba(60, 64, 67, 0.15);\n",
              "      fill: #174EA6;\n",
              "    }\n",
              "\n",
              "    [theme=dark] .colab-df-convert {\n",
              "      background-color: #3B4455;\n",
              "      fill: #D2E3FC;\n",
              "    }\n",
              "\n",
              "    [theme=dark] .colab-df-convert:hover {\n",
              "      background-color: #434B5C;\n",
              "      box-shadow: 0px 1px 3px 1px rgba(0, 0, 0, 0.15);\n",
              "      filter: drop-shadow(0px 1px 2px rgba(0, 0, 0, 0.3));\n",
              "      fill: #FFFFFF;\n",
              "    }\n",
              "  </style>\n",
              "\n",
              "      <script>\n",
              "        const buttonEl =\n",
              "          document.querySelector('#df-a44c3018-8876-4024-ba9e-5bc936fe3586 button.colab-df-convert');\n",
              "        buttonEl.style.display =\n",
              "          google.colab.kernel.accessAllowed ? 'block' : 'none';\n",
              "\n",
              "        async function convertToInteractive(key) {\n",
              "          const element = document.querySelector('#df-a44c3018-8876-4024-ba9e-5bc936fe3586');\n",
              "          const dataTable =\n",
              "            await google.colab.kernel.invokeFunction('convertToInteractive',\n",
              "                                                     [key], {});\n",
              "          if (!dataTable) return;\n",
              "\n",
              "          const docLinkHtml = 'Like what you see? Visit the ' +\n",
              "            '<a target=\"_blank\" href=https://colab.research.google.com/notebooks/data_table.ipynb>data table notebook</a>'\n",
              "            + ' to learn more about interactive tables.';\n",
              "          element.innerHTML = '';\n",
              "          dataTable['output_type'] = 'display_data';\n",
              "          await google.colab.output.renderOutput(dataTable, element);\n",
              "          const docLink = document.createElement('div');\n",
              "          docLink.innerHTML = docLinkHtml;\n",
              "          element.appendChild(docLink);\n",
              "        }\n",
              "      </script>\n",
              "    </div>\n",
              "  </div>\n",
              "  "
            ],
            "text/plain": [
              "                                                text         label\n",
              "0                     I am still waiting on my card?  card_arrival\n",
              "1  What can I do if my card still hasn't arrived ...  card_arrival\n",
              "2  I have been waiting over a week. Is the card s...  card_arrival\n",
              "3  Can I track my card while it is in the process...  card_arrival\n",
              "4  How do I know if I will get my card, or if it ...  card_arrival"
            ]
          },
          "metadata": {},
          "execution_count": 18
        }
      ],
      "source": [
        "train_data.head()"
      ]
    },
    {
      "cell_type": "markdown",
      "metadata": {
        "id": "Z5lBwtNr4oie"
      },
      "source": [
        "**High level Describe**"
      ]
    },
    {
      "cell_type": "code",
      "execution_count": 19,
      "metadata": {
        "colab": {
          "base_uri": "https://localhost:8080/",
          "height": 175
        },
        "id": "YMaAHMy44v-x",
        "outputId": "6a070314-08c0-48e6-b390-586cbcfe8b58"
      },
      "outputs": [
        {
          "output_type": "execute_result",
          "data": {
            "text/html": [
              "\n",
              "  <div id=\"df-31d50f63-9508-47d5-9303-5c103d22b8a4\">\n",
              "    <div class=\"colab-df-container\">\n",
              "      <div>\n",
              "<style scoped>\n",
              "    .dataframe tbody tr th:only-of-type {\n",
              "        vertical-align: middle;\n",
              "    }\n",
              "\n",
              "    .dataframe tbody tr th {\n",
              "        vertical-align: top;\n",
              "    }\n",
              "\n",
              "    .dataframe thead th {\n",
              "        text-align: right;\n",
              "    }\n",
              "</style>\n",
              "<table border=\"1\" class=\"dataframe\">\n",
              "  <thead>\n",
              "    <tr style=\"text-align: right;\">\n",
              "      <th></th>\n",
              "      <th>text</th>\n",
              "      <th>label</th>\n",
              "    </tr>\n",
              "  </thead>\n",
              "  <tbody>\n",
              "    <tr>\n",
              "      <th>count</th>\n",
              "      <td>10003</td>\n",
              "      <td>10003</td>\n",
              "    </tr>\n",
              "    <tr>\n",
              "      <th>unique</th>\n",
              "      <td>10003</td>\n",
              "      <td>77</td>\n",
              "    </tr>\n",
              "    <tr>\n",
              "      <th>top</th>\n",
              "      <td>I am still waiting on my card?</td>\n",
              "      <td>card_payment_fee_charged</td>\n",
              "    </tr>\n",
              "    <tr>\n",
              "      <th>freq</th>\n",
              "      <td>1</td>\n",
              "      <td>187</td>\n",
              "    </tr>\n",
              "  </tbody>\n",
              "</table>\n",
              "</div>\n",
              "      <button class=\"colab-df-convert\" onclick=\"convertToInteractive('df-31d50f63-9508-47d5-9303-5c103d22b8a4')\"\n",
              "              title=\"Convert this dataframe to an interactive table.\"\n",
              "              style=\"display:none;\">\n",
              "        \n",
              "  <svg xmlns=\"http://www.w3.org/2000/svg\" height=\"24px\"viewBox=\"0 0 24 24\"\n",
              "       width=\"24px\">\n",
              "    <path d=\"M0 0h24v24H0V0z\" fill=\"none\"/>\n",
              "    <path d=\"M18.56 5.44l.94 2.06.94-2.06 2.06-.94-2.06-.94-.94-2.06-.94 2.06-2.06.94zm-11 1L8.5 8.5l.94-2.06 2.06-.94-2.06-.94L8.5 2.5l-.94 2.06-2.06.94zm10 10l.94 2.06.94-2.06 2.06-.94-2.06-.94-.94-2.06-.94 2.06-2.06.94z\"/><path d=\"M17.41 7.96l-1.37-1.37c-.4-.4-.92-.59-1.43-.59-.52 0-1.04.2-1.43.59L10.3 9.45l-7.72 7.72c-.78.78-.78 2.05 0 2.83L4 21.41c.39.39.9.59 1.41.59.51 0 1.02-.2 1.41-.59l7.78-7.78 2.81-2.81c.8-.78.8-2.07 0-2.86zM5.41 20L4 18.59l7.72-7.72 1.47 1.35L5.41 20z\"/>\n",
              "  </svg>\n",
              "      </button>\n",
              "      \n",
              "  <style>\n",
              "    .colab-df-container {\n",
              "      display:flex;\n",
              "      flex-wrap:wrap;\n",
              "      gap: 12px;\n",
              "    }\n",
              "\n",
              "    .colab-df-convert {\n",
              "      background-color: #E8F0FE;\n",
              "      border: none;\n",
              "      border-radius: 50%;\n",
              "      cursor: pointer;\n",
              "      display: none;\n",
              "      fill: #1967D2;\n",
              "      height: 32px;\n",
              "      padding: 0 0 0 0;\n",
              "      width: 32px;\n",
              "    }\n",
              "\n",
              "    .colab-df-convert:hover {\n",
              "      background-color: #E2EBFA;\n",
              "      box-shadow: 0px 1px 2px rgba(60, 64, 67, 0.3), 0px 1px 3px 1px rgba(60, 64, 67, 0.15);\n",
              "      fill: #174EA6;\n",
              "    }\n",
              "\n",
              "    [theme=dark] .colab-df-convert {\n",
              "      background-color: #3B4455;\n",
              "      fill: #D2E3FC;\n",
              "    }\n",
              "\n",
              "    [theme=dark] .colab-df-convert:hover {\n",
              "      background-color: #434B5C;\n",
              "      box-shadow: 0px 1px 3px 1px rgba(0, 0, 0, 0.15);\n",
              "      filter: drop-shadow(0px 1px 2px rgba(0, 0, 0, 0.3));\n",
              "      fill: #FFFFFF;\n",
              "    }\n",
              "  </style>\n",
              "\n",
              "      <script>\n",
              "        const buttonEl =\n",
              "          document.querySelector('#df-31d50f63-9508-47d5-9303-5c103d22b8a4 button.colab-df-convert');\n",
              "        buttonEl.style.display =\n",
              "          google.colab.kernel.accessAllowed ? 'block' : 'none';\n",
              "\n",
              "        async function convertToInteractive(key) {\n",
              "          const element = document.querySelector('#df-31d50f63-9508-47d5-9303-5c103d22b8a4');\n",
              "          const dataTable =\n",
              "            await google.colab.kernel.invokeFunction('convertToInteractive',\n",
              "                                                     [key], {});\n",
              "          if (!dataTable) return;\n",
              "\n",
              "          const docLinkHtml = 'Like what you see? Visit the ' +\n",
              "            '<a target=\"_blank\" href=https://colab.research.google.com/notebooks/data_table.ipynb>data table notebook</a>'\n",
              "            + ' to learn more about interactive tables.';\n",
              "          element.innerHTML = '';\n",
              "          dataTable['output_type'] = 'display_data';\n",
              "          await google.colab.output.renderOutput(dataTable, element);\n",
              "          const docLink = document.createElement('div');\n",
              "          docLink.innerHTML = docLinkHtml;\n",
              "          element.appendChild(docLink);\n",
              "        }\n",
              "      </script>\n",
              "    </div>\n",
              "  </div>\n",
              "  "
            ],
            "text/plain": [
              "                                  text                     label\n",
              "count                            10003                     10003\n",
              "unique                           10003                        77\n",
              "top     I am still waiting on my card?  card_payment_fee_charged\n",
              "freq                                 1                       187"
            ]
          },
          "metadata": {},
          "execution_count": 19
        }
      ],
      "source": [
        "train_data.describe()"
      ]
    },
    {
      "cell_type": "markdown",
      "source": [
        "**Sperating the text column for text analysis**"
      ],
      "metadata": {
        "id": "d1h2K9z0AjYJ"
      }
    },
    {
      "cell_type": "markdown",
      "source": [
        "Slicing one particular column to form another dataframe.This can be done using iloc"
      ],
      "metadata": {
        "id": "Iyaj8bI7GyO8"
      }
    },
    {
      "cell_type": "code",
      "source": [
        "text = train_data.iloc[:,0:1]"
      ],
      "metadata": {
        "id": "QMmKjKigAioz"
      },
      "execution_count": 20,
      "outputs": []
    },
    {
      "cell_type": "code",
      "source": [
        "print(type(text))\n"
      ],
      "metadata": {
        "colab": {
          "base_uri": "https://localhost:8080/"
        },
        "id": "GTJdB-V9A4Gm",
        "outputId": "393fdab3-f952-416f-afaa-973bb2a695f9"
      },
      "execution_count": 21,
      "outputs": [
        {
          "output_type": "stream",
          "name": "stdout",
          "text": [
            "<class 'pandas.core.frame.DataFrame'>\n"
          ]
        }
      ]
    },
    {
      "cell_type": "code",
      "source": [
        "text\n"
      ],
      "metadata": {
        "colab": {
          "base_uri": "https://localhost:8080/",
          "height": 424
        },
        "id": "PHk7qphxBFm9",
        "outputId": "688a003a-93dd-4035-9f7d-81629b2cf66a"
      },
      "execution_count": 22,
      "outputs": [
        {
          "output_type": "execute_result",
          "data": {
            "text/html": [
              "\n",
              "  <div id=\"df-ff19e015-6967-4578-92f2-8314db005579\">\n",
              "    <div class=\"colab-df-container\">\n",
              "      <div>\n",
              "<style scoped>\n",
              "    .dataframe tbody tr th:only-of-type {\n",
              "        vertical-align: middle;\n",
              "    }\n",
              "\n",
              "    .dataframe tbody tr th {\n",
              "        vertical-align: top;\n",
              "    }\n",
              "\n",
              "    .dataframe thead th {\n",
              "        text-align: right;\n",
              "    }\n",
              "</style>\n",
              "<table border=\"1\" class=\"dataframe\">\n",
              "  <thead>\n",
              "    <tr style=\"text-align: right;\">\n",
              "      <th></th>\n",
              "      <th>text</th>\n",
              "    </tr>\n",
              "  </thead>\n",
              "  <tbody>\n",
              "    <tr>\n",
              "      <th>0</th>\n",
              "      <td>I am still waiting on my card?</td>\n",
              "    </tr>\n",
              "    <tr>\n",
              "      <th>1</th>\n",
              "      <td>What can I do if my card still hasn't arrived ...</td>\n",
              "    </tr>\n",
              "    <tr>\n",
              "      <th>2</th>\n",
              "      <td>I have been waiting over a week. Is the card s...</td>\n",
              "    </tr>\n",
              "    <tr>\n",
              "      <th>3</th>\n",
              "      <td>Can I track my card while it is in the process...</td>\n",
              "    </tr>\n",
              "    <tr>\n",
              "      <th>4</th>\n",
              "      <td>How do I know if I will get my card, or if it ...</td>\n",
              "    </tr>\n",
              "    <tr>\n",
              "      <th>...</th>\n",
              "      <td>...</td>\n",
              "    </tr>\n",
              "    <tr>\n",
              "      <th>9998</th>\n",
              "      <td>You provide support in what countries?</td>\n",
              "    </tr>\n",
              "    <tr>\n",
              "      <th>9999</th>\n",
              "      <td>What countries are you supporting?</td>\n",
              "    </tr>\n",
              "    <tr>\n",
              "      <th>10000</th>\n",
              "      <td>What countries are getting support?</td>\n",
              "    </tr>\n",
              "    <tr>\n",
              "      <th>10001</th>\n",
              "      <td>Are cards available in the EU?</td>\n",
              "    </tr>\n",
              "    <tr>\n",
              "      <th>10002</th>\n",
              "      <td>Which countries are represented?</td>\n",
              "    </tr>\n",
              "  </tbody>\n",
              "</table>\n",
              "<p>10003 rows × 1 columns</p>\n",
              "</div>\n",
              "      <button class=\"colab-df-convert\" onclick=\"convertToInteractive('df-ff19e015-6967-4578-92f2-8314db005579')\"\n",
              "              title=\"Convert this dataframe to an interactive table.\"\n",
              "              style=\"display:none;\">\n",
              "        \n",
              "  <svg xmlns=\"http://www.w3.org/2000/svg\" height=\"24px\"viewBox=\"0 0 24 24\"\n",
              "       width=\"24px\">\n",
              "    <path d=\"M0 0h24v24H0V0z\" fill=\"none\"/>\n",
              "    <path d=\"M18.56 5.44l.94 2.06.94-2.06 2.06-.94-2.06-.94-.94-2.06-.94 2.06-2.06.94zm-11 1L8.5 8.5l.94-2.06 2.06-.94-2.06-.94L8.5 2.5l-.94 2.06-2.06.94zm10 10l.94 2.06.94-2.06 2.06-.94-2.06-.94-.94-2.06-.94 2.06-2.06.94z\"/><path d=\"M17.41 7.96l-1.37-1.37c-.4-.4-.92-.59-1.43-.59-.52 0-1.04.2-1.43.59L10.3 9.45l-7.72 7.72c-.78.78-.78 2.05 0 2.83L4 21.41c.39.39.9.59 1.41.59.51 0 1.02-.2 1.41-.59l7.78-7.78 2.81-2.81c.8-.78.8-2.07 0-2.86zM5.41 20L4 18.59l7.72-7.72 1.47 1.35L5.41 20z\"/>\n",
              "  </svg>\n",
              "      </button>\n",
              "      \n",
              "  <style>\n",
              "    .colab-df-container {\n",
              "      display:flex;\n",
              "      flex-wrap:wrap;\n",
              "      gap: 12px;\n",
              "    }\n",
              "\n",
              "    .colab-df-convert {\n",
              "      background-color: #E8F0FE;\n",
              "      border: none;\n",
              "      border-radius: 50%;\n",
              "      cursor: pointer;\n",
              "      display: none;\n",
              "      fill: #1967D2;\n",
              "      height: 32px;\n",
              "      padding: 0 0 0 0;\n",
              "      width: 32px;\n",
              "    }\n",
              "\n",
              "    .colab-df-convert:hover {\n",
              "      background-color: #E2EBFA;\n",
              "      box-shadow: 0px 1px 2px rgba(60, 64, 67, 0.3), 0px 1px 3px 1px rgba(60, 64, 67, 0.15);\n",
              "      fill: #174EA6;\n",
              "    }\n",
              "\n",
              "    [theme=dark] .colab-df-convert {\n",
              "      background-color: #3B4455;\n",
              "      fill: #D2E3FC;\n",
              "    }\n",
              "\n",
              "    [theme=dark] .colab-df-convert:hover {\n",
              "      background-color: #434B5C;\n",
              "      box-shadow: 0px 1px 3px 1px rgba(0, 0, 0, 0.15);\n",
              "      filter: drop-shadow(0px 1px 2px rgba(0, 0, 0, 0.3));\n",
              "      fill: #FFFFFF;\n",
              "    }\n",
              "  </style>\n",
              "\n",
              "      <script>\n",
              "        const buttonEl =\n",
              "          document.querySelector('#df-ff19e015-6967-4578-92f2-8314db005579 button.colab-df-convert');\n",
              "        buttonEl.style.display =\n",
              "          google.colab.kernel.accessAllowed ? 'block' : 'none';\n",
              "\n",
              "        async function convertToInteractive(key) {\n",
              "          const element = document.querySelector('#df-ff19e015-6967-4578-92f2-8314db005579');\n",
              "          const dataTable =\n",
              "            await google.colab.kernel.invokeFunction('convertToInteractive',\n",
              "                                                     [key], {});\n",
              "          if (!dataTable) return;\n",
              "\n",
              "          const docLinkHtml = 'Like what you see? Visit the ' +\n",
              "            '<a target=\"_blank\" href=https://colab.research.google.com/notebooks/data_table.ipynb>data table notebook</a>'\n",
              "            + ' to learn more about interactive tables.';\n",
              "          element.innerHTML = '';\n",
              "          dataTable['output_type'] = 'display_data';\n",
              "          await google.colab.output.renderOutput(dataTable, element);\n",
              "          const docLink = document.createElement('div');\n",
              "          docLink.innerHTML = docLinkHtml;\n",
              "          element.appendChild(docLink);\n",
              "        }\n",
              "      </script>\n",
              "    </div>\n",
              "  </div>\n",
              "  "
            ],
            "text/plain": [
              "                                                    text\n",
              "0                         I am still waiting on my card?\n",
              "1      What can I do if my card still hasn't arrived ...\n",
              "2      I have been waiting over a week. Is the card s...\n",
              "3      Can I track my card while it is in the process...\n",
              "4      How do I know if I will get my card, or if it ...\n",
              "...                                                  ...\n",
              "9998              You provide support in what countries?\n",
              "9999                  What countries are you supporting?\n",
              "10000                What countries are getting support?\n",
              "10001                     Are cards available in the EU?\n",
              "10002                   Which countries are represented?\n",
              "\n",
              "[10003 rows x 1 columns]"
            ]
          },
          "metadata": {},
          "execution_count": 22
        }
      ]
    },
    {
      "cell_type": "code",
      "source": [
        "# text = train_data['text']\n",
        "# print(type(text))"
      ],
      "metadata": {
        "colab": {
          "base_uri": "https://localhost:8080/"
        },
        "id": "KWS_ik-iA7ok",
        "outputId": "f6f2532b-9acd-4240-beba-fb187339091a"
      },
      "execution_count": 13,
      "outputs": [
        {
          "output_type": "stream",
          "name": "stdout",
          "text": [
            "<class 'pandas.core.series.Series'>\n"
          ]
        }
      ]
    },
    {
      "cell_type": "code",
      "source": [
        "# text"
      ],
      "metadata": {
        "colab": {
          "base_uri": "https://localhost:8080/"
        },
        "id": "7Q0Pq7TzBH-R",
        "outputId": "6f329151-20c1-4689-ecfe-d05f9cff69e6"
      },
      "execution_count": 15,
      "outputs": [
        {
          "output_type": "execute_result",
          "data": {
            "text/plain": [
              "0                           I am still waiting on my card?\n",
              "1        What can I do if my card still hasn't arrived ...\n",
              "2        I have been waiting over a week. Is the card s...\n",
              "3        Can I track my card while it is in the process...\n",
              "4        How do I know if I will get my card, or if it ...\n",
              "                               ...                        \n",
              "9998                You provide support in what countries?\n",
              "9999                    What countries are you supporting?\n",
              "10000                  What countries are getting support?\n",
              "10001                       Are cards available in the EU?\n",
              "10002                     Which countries are represented?\n",
              "Name: text, Length: 10003, dtype: object"
            ]
          },
          "metadata": {},
          "execution_count": 15
        }
      ]
    },
    {
      "cell_type": "markdown",
      "source": [
        "**Formation of Corpus**"
      ],
      "metadata": {
        "id": "RlGYd9S28kK2"
      }
    },
    {
      "cell_type": "code",
      "source": [
        "#Converting the column of data from excel sheet into a list of documents, where each document corresponds to a group of sentences.\n",
        "corpus=[]\n",
        "for index,row in text.iterrows():\n",
        "    corpus.append(row['text'])"
      ],
      "metadata": {
        "id": "wp4sBIPW8pkN"
      },
      "execution_count": 23,
      "outputs": []
    },
    {
      "cell_type": "code",
      "source": [
        "corpus"
      ],
      "metadata": {
        "colab": {
          "base_uri": "https://localhost:8080/"
        },
        "id": "g8koBqmnAOY0",
        "outputId": "e8c41d96-90fc-4ea6-d5f3-83be3dabf0b0"
      },
      "execution_count": 24,
      "outputs": [
        {
          "output_type": "execute_result",
          "data": {
            "text/plain": [
              "['I am still waiting on my card?',\n",
              " \"What can I do if my card still hasn't arrived after 2 weeks?\",\n",
              " 'I have been waiting over a week. Is the card still coming?',\n",
              " 'Can I track my card while it is in the process of delivery?',\n",
              " 'How do I know if I will get my card, or if it is lost?',\n",
              " 'When did you send me my new card?',\n",
              " 'Do you have info about the card on delivery?',\n",
              " 'What do I do if I still have not received my new card?',\n",
              " 'Does the package with my card have tracking?',\n",
              " \"I ordered my card but it still isn't here\",\n",
              " 'Why has my new card still not come?',\n",
              " \"I still haven't received my card after two weeks, is it lost?\",\n",
              " 'Can you track my card for me?',\n",
              " 'Is there a way to track the delivery of my card?',\n",
              " \"It's been a week since I ordered my card and it's not here. Please help?\",\n",
              " 'Will I be able to track the card that was sent to me?',\n",
              " \"I don't have my card in 1 week.  Should I be worried?\",\n",
              " 'How do I know when my new card is going to arrive?',\n",
              " 'My new card has not been delivered to my home yet. What is going on?',\n",
              " \"It's been a week since you issued me a card and I still didn't get it. Should I keep waiting?\",\n",
              " \"On the card that is coming, what's the tracking info?\",\n",
              " \"What is the status of my card's delivery?\",\n",
              " 'Have you sent out my card yet?',\n",
              " \"My card isn't here yet.\",\n",
              " 'where is my new card?',\n",
              " \"It's been a week since you sent my card and I still don't have it.\",\n",
              " 'How do I track the card you sent me?',\n",
              " 'When will I recieve my new card?',\n",
              " 'When will I get my new card?',\n",
              " 'What is the expected delivery date for my card?',\n",
              " 'Is there a tracking number for the card you sent me?',\n",
              " 'I would like to track the card you sent to me.',\n",
              " 'Has my card been lost in delivery?',\n",
              " \"My new card hasn't came in.\",\n",
              " 'Where is the card I ordered 2 weeks ago?',\n",
              " 'Can I get an update on my replacement card?',\n",
              " 'How long does it take for a new card to ship?',\n",
              " \"What's the tracking on the card you sent?\",\n",
              " \"I haven't received my card and am worried it is lost.\",\n",
              " \"My card still hasn't been delivered\",\n",
              " 'I need to find out where the card is that I ordered.',\n",
              " 'Where is my credit card that was to be mailed?',\n",
              " \"I ordered my card but it hasn't been delivered yet\",\n",
              " 'Am I able to track the card that was just sent to me?',\n",
              " \"Can you tell me why I haven't received my new card?\",\n",
              " \"I'm still waiting for my new card.\",\n",
              " 'Is my card lost? I am still waiting for it to be delivered.',\n",
              " 'Should I keep waiting for my card to be delivered?',\n",
              " 'Can I track when my card will be delivered?',\n",
              " 'How can I check on the status of my new card?',\n",
              " 'A card has been sent to me, how do I track it?',\n",
              " 'Is there a way I can get my card expedited?',\n",
              " 'What can I do to track the card you sent me?',\n",
              " 'why hasnt my card come in yet?',\n",
              " 'How can I periodically check the delivery of the card you sent?',\n",
              " \"What's the reason my new card hasn't come?\",\n",
              " 'How long does it take for me to get my new card?',\n",
              " \"I don't have my card after 1 week. What are my next steps?\",\n",
              " \"I know I'm getting a new card but would like know when I can expect to receive it.\",\n",
              " 'I want to find out what happened to my new card?',\n",
              " 'Was there a way for me to get tracking for that?',\n",
              " 'I am still waiting for my card.',\n",
              " \"My card hasn't arrived.\",\n",
              " 'Can I track the card you sent to me?',\n",
              " \"I haven't gotten my new card.\",\n",
              " 'How long should it take for my new card to arrive in them mail? What should I do if I never receive it?',\n",
              " 'Will I have to wait much longer for my new card to arrive?',\n",
              " 'how to track the card you sent',\n",
              " \"2 weeks ago I ordered my new card.  It isn't here.  What should I do?\",\n",
              " 'How can I check on the delivery status of my card?',\n",
              " 'My card has not been delivered yet and its been a week since I ordered it, please help',\n",
              " \"What's the expected wait time to recieve my new card?\",\n",
              " 'How can I see the progress of delivery of the card that was sent?',\n",
              " \"My card was supposed to arrive, but hasn't?\",\n",
              " 'I ordered a card and would like to know how to track the delivery progress of it.',\n",
              " 'How long will it take for me to get my card?',\n",
              " \"My card hasn't shown up yet.\",\n",
              " 'Does the card you sent have a tracking number?',\n",
              " \"My card hasn't arrived in the mail yet. I ordered it two weeks ago. What can I do?\",\n",
              " 'maximum how many days get the courier?',\n",
              " \"Is there a reason my new card hasn't arrived yet?\",\n",
              " \"I've been waiting a while for my card, is there a way to know when it will arrive?\",\n",
              " \"How can I track my card's delivery?\",\n",
              " 'Can I track the card that was just sent to me?',\n",
              " 'If I ordered my new card last week, how much longer should I wait to receive it?',\n",
              " \"What's go on, where is my new card?\",\n",
              " \"Where is my new card if I haven't received it yet?\",\n",
              " 'Where is my card?',\n",
              " \"Can you tell me why I haven't received my new card yet?\",\n",
              " 'Is there a way to track my card?',\n",
              " 'Is there a way to track the new card you sent me?',\n",
              " \"I'm still waiting for my card.\",\n",
              " 'What do I need to do to get my new card which I have requested 2 weeks ago?',\n",
              " 'WHAT IS THE SOLUTION OF THIS PROBLEM',\n",
              " 'Could I get tracking on the card?',\n",
              " 'Can you help me track my card?',\n",
              " \"Shouldn't my new card be here by now?\",\n",
              " \"Is there a reason my new card hasn't arrived?\",\n",
              " 'I would like to track a card sent to me, how do I do that?',\n",
              " 'Is there a tracking number for the card?',\n",
              " 'can you share card tracking number?',\n",
              " \"I have not received my card and it's been a week, what do I do?\",\n",
              " 'Is there a way I can check on the card on route to me?',\n",
              " 'When will my new card arrive?',\n",
              " \"Why haven't I received my new card yet?\",\n",
              " 'What is the expected delivery date of my card?',\n",
              " \"My card hasn't came in the mail yet?\",\n",
              " \"I haven't received my card.\",\n",
              " 'Is it possible for me to track the card is was mailed to me?',\n",
              " 'When will my new card be delivered?',\n",
              " \"I was issued a card about a week ago. why hasn't it come in yet?\",\n",
              " 'Can you please tell me where my card is? I ordered it 2 weeks ago!',\n",
              " \"I still haven't received my card in the mail\",\n",
              " \"I'm still waiting for my card that was issued a week ago. What should I do?\",\n",
              " \"I still haven't gotten my new card.  When will it get here?\",\n",
              " 'Do you have a tracking number for the card I was sent?',\n",
              " 'How do I track the card you sent to me?',\n",
              " 'Is my new bank card on the way and is there a way to track it?',\n",
              " 'Could you send me and up date on the arrival of my card?',\n",
              " 'How long does it take to recieve my new card?',\n",
              " 'My card has not come in the mail yet.',\n",
              " \"What's the card you sent me's tracking number?\",\n",
              " 'i havent got my card',\n",
              " \"Why hasn't my card arrived yet?\",\n",
              " 'I thought I would have received my new card at this point.',\n",
              " 'How long until my new card gets here?',\n",
              " 'How much longer until I get my new card?',\n",
              " 'Am I able to track a card that has already been sent?',\n",
              " 'Is it possible to track the card you sent me?',\n",
              " 'How long will it be to get this new card?',\n",
              " 'how can i track card you sent',\n",
              " 'Can the card was sen to me be tracked?',\n",
              " 'why have i not got my new card?',\n",
              " 'I need to track the card sent to me.',\n",
              " \"It's been two weeks and I haven't gotten my card, what do I do?\",\n",
              " 'I was expecting my new card by now.',\n",
              " 'Where is the tracking number for the card?',\n",
              " \"I was issued a new card a week ago but still haven't received it. How long will it be until I receive it?\",\n",
              " 'Can I track the card that you sent me in the mail?',\n",
              " 'Can you tell me if I can track the card you sent me?',\n",
              " 'Why have I not gotten my new card?',\n",
              " \"I'm still waiting on my new card to be delivered!\",\n",
              " \"My new card isn't here and it was issued a week ago.\",\n",
              " \"I was supposed to receive my new card by now, but it hasn't came in.\",\n",
              " 'Is a tracking number available for the card that was just sent?',\n",
              " \"Why haven't I gotten my new card?\",\n",
              " 'Was there a number to track that I could get?',\n",
              " 'How much longer is it going to take to get my new card?',\n",
              " \"I haven't gotten my credit card in the mail.\",\n",
              " \"My card hasn't arrived yet. What do I do?\",\n",
              " \"My card still hasn't arrived after two weeks, now what?\",\n",
              " 'My card appears to have never arrived?',\n",
              " 'My card never arrived.',\n",
              " 'My card has been found. Is there any way for me to put it back into the app?',\n",
              " 'I was able to find my card. How to I go about putting it into my app?',\n",
              " 'how do I get my card to show in the app?',\n",
              " \"I just got my card.  It's not linked yet--how do I do that?\",\n",
              " 'lost card found, want to put it back in app',\n",
              " 'I just got a card, how can I add it to the app?',\n",
              " 'Is there any way to see my card in the app?',\n",
              " 'If I find a card I lost do I need to dispose of it? Or can I re-active the card and continue to use it?',\n",
              " 'I found my card. How can I put it into my app?',\n",
              " 'How do I make my card show up in the app?',\n",
              " 'Can you show me where to link the new card?',\n",
              " 'I found my old card. Can I link it back into the app?',\n",
              " 'Show me how to link the new card,',\n",
              " 'How do I add an existing card to the app?',\n",
              " 'I finally got my card.  Now I want to link it.  Is that something you have to do or can I do that?',\n",
              " 'How do I link one of your card that I already have?',\n",
              " 'If I have a physical card can I link it?',\n",
              " \"I found my lost card in my jacket pocket this morning so I'd like to reactivate it please.\",\n",
              " 'Can I add a card that I just found (again) to the app?',\n",
              " 'How can I make my card show up in the app?',\n",
              " 'I would like to re-activate my card, it was previously reported  lost but I found it this morning.',\n",
              " 'Okay, I found my card, can I put it back in the app?',\n",
              " 'Can I reactivate a card?',\n",
              " 'I would like to reactivate a card and wondered if that could be done?',\n",
              " 'I got my card now, how do I make it show up in the app?',\n",
              " 'How do I link an existing card?',\n",
              " 'How do I link a new card in the app?',\n",
              " 'The card I thought was lost was just in my jacket, so can I reactivate it since I found it this morning?',\n",
              " 'I already have a card and want to link it',\n",
              " 'Can you please reactivate my card?',\n",
              " 'Where do I go to add a new card?',\n",
              " 'I want my card I just received to show up in the app. How do I do that?',\n",
              " 'I received my card, how do I get it to show in the app?',\n",
              " 'If I have a credit card with you how I get set up to link to it?',\n",
              " 'How do I add my new card?',\n",
              " 'I want to reactivate my card, I thought I had lost it but found it again this morning.',\n",
              " 'I need a card reactivation, I had reported my card lost but I ran across it in my jacket.',\n",
              " 'My card is no longer lost. How do I enter it back into the app?',\n",
              " 'I want to reactivate my card, I thought I had lost it but found it again in my jacket.',\n",
              " 'May I reactivate my card? I previously reported it lost, but have now found it safe and sound.',\n",
              " 'How do I reactivate a card I thought I lost?',\n",
              " 'Help me figure out how to link the new card.',\n",
              " 'I found my lost card. Am I still able to use it?',\n",
              " 'Will I need a new card or can I put my old card back into the app?',\n",
              " 'Is there a way to link the card i just got?',\n",
              " 'How do I add a new card?',\n",
              " 'I want to reactivate my card, I found it after thinking it was lost.',\n",
              " 'Can I put my old card back in the app?',\n",
              " 'I got a new card, how do I link it?',\n",
              " 'I found the card I thought I lost this morning. Can I reactivate this card?',\n",
              " 'How do i go about linking a new card?',\n",
              " 'how do i get the card linked',\n",
              " \"I have one of your cards, but I don't know how to link it.\",\n",
              " 'how do I link an old card?',\n",
              " 'I received my card. How do I link it to the app?',\n",
              " 'Now that I have my card, how do I connect it to the app?',\n",
              " 'How do I add the card I just received to show up in the app?',\n",
              " 'I want to reactivate my card, I thought I had lost it but I found it.',\n",
              " 'What do I need to do to link my new card for my account?',\n",
              " 'Can I add a card to back into the app?',\n",
              " 'I want to link my new card. Can you help?',\n",
              " 'What is the process to link the new card?',\n",
              " 'I found my card, am I able to put it back into the app?',\n",
              " 'I have found my lost or stolen card, would I still have to activate the new card that was sent to me through the mail in order to access my account?',\n",
              " 'Where can I link a new card?',\n",
              " 'How do I add a card on to the app?',\n",
              " 'I found my card in my jacket this morning, so can I reactivate it?',\n",
              " \"I've obtained the card, how do I enable it on the app?\",\n",
              " 'I need to find the card I received in the app.',\n",
              " 'How do I get my card on the app?',\n",
              " 'In the app, how can I make it show the new card that arrived?',\n",
              " 'How do I link my new card?',\n",
              " 'Can I activate a card in the app?',\n",
              " 'I want to link to my card card with you, how?',\n",
              " 'I would like to link my card to my account.',\n",
              " 'I thought I lost my card so I cancelled it, but recently I found it in my jacket and I would like to re-establish the card.',\n",
              " 'How can I link the new card?',\n",
              " \"I got a new card and can't find where to link it.\",\n",
              " 'Hey, I have my card, how do I get it to show in the app?',\n",
              " 'Where in the app do I go to make my new card show up?',\n",
              " 'Where do I scan my card?',\n",
              " 'Can I reactivate my card? I reported it lost and found it this morning in my jacket.',\n",
              " 'Can I link my card I previously received?',\n",
              " 'I want to reactivate my card, I thought I had lost it but found it again in my jacket this morning.',\n",
              " \"I'd lke my card reactivated, I was thinking it was misplaced but I discovered when I woke up that I had left it in my coat.\",\n",
              " 'You sent me a card and now I want to link it.',\n",
              " 'How do I add my new card to the app?',\n",
              " 'Can I add a card back to the app?',\n",
              " 'What if I want to add a card I already have to the app?',\n",
              " 'I recently reported my card as missing/lost, and I just found it. Can I still use it?',\n",
              " \"Could I reactivate my card please, I couldn't find it but it turns out it was in my jacket pocket.\",\n",
              " 'Is there a way to link cards if I have one of yours?',\n",
              " 'If my card was lost or stolen can I re-link it?',\n",
              " 'How do I link a new card to an existing one?',\n",
              " 'How do I link a new payment card?',\n",
              " 'I would like to reactivate my card that I previously reported lost. I located the card this morning.',\n",
              " 'Card has been received, how will it show up on the app?',\n",
              " 'Can I re-link a lost card with the app?',\n",
              " 'What do I do to link my new card?',\n",
              " 'Is it possible to link a new card?',\n",
              " 'I deactivated my card but would like to reactivate it.',\n",
              " 'I found my card that I thought I had lost, I need to reactive it, please help.',\n",
              " 'can I link a card of yours I already have?',\n",
              " 'Can I put my found card back into the app on my phone?',\n",
              " 'My card arrived but I need to make it work in the app, how do I do that?',\n",
              " 'I found the card that I thought I lost, and I would like to reactivate it.',\n",
              " 'I found my card again. Can I put it back into the app?',\n",
              " 'I need some help linking my new card.',\n",
              " 'help me link my card',\n",
              " 'How do I link my card in the app.',\n",
              " 'How do I get my card into the app?',\n",
              " 'I found my card! Can I link it back into the app?',\n",
              " 'How do I reactivate my card?',\n",
              " 'Where do I go to get my new card linked?',\n",
              " 'I thought I lost my card but I found it today, so I would like to reactivate it.',\n",
              " 'How do I link the new card that I just got from you guys?',\n",
              " 'How can I add a new card?',\n",
              " 'Can you tell me how to get my card on the app?',\n",
              " 'Is it possible to reactivate the card I thought I lost but found this morning in my jacket?',\n",
              " 'How do I make my card appear on the app?',\n",
              " 'How do I link the new card?',\n",
              " 'Where in the app do I link a new card?',\n",
              " 'How do I add my card to the app once I get it?',\n",
              " 'Can I link your physical card',\n",
              " 'How do I activate and link my new card?',\n",
              " 'I got a card, how do I get it in the app?',\n",
              " 'I received my new card.  Where is it in the app?',\n",
              " 'I found my card, how can I use it again?',\n",
              " 'I just received a new card, where do I go to link it to my account?',\n",
              " 'found card, how to put it back in app',\n",
              " 'How do I see my card in the app?',\n",
              " 'The card I thought I lost was in my jacket pocket this morning, so can I reactivate that?',\n",
              " \"I don't see my card anywhere in the app.\",\n",
              " 'I received my card, how do I get it to work in the app?',\n",
              " 'What do I do if I already had a card with you guys?',\n",
              " 'if i found a lost card can i put it back in app',\n",
              " 'I have a card that was deactivated can I reactivate it?',\n",
              " \"My new card isn't in my app, how do I get it in there?\",\n",
              " 'Help me access the card I already got so I can information from it.',\n",
              " 'What is my money worth in other countries?',\n",
              " 'Will my money be of equal value when I travel abroad?',\n",
              " 'Do you know the rate of exchange?',\n",
              " 'What foreign exchange rate will I get on weekdays and on the weekends?',\n",
              " 'What is the exchange looking like?',\n",
              " 'How is the exchange rate doing?',\n",
              " 'I would like to know how exchange rates are calculated when transferring funds.',\n",
              " 'I would like to know what exchange rates you use?',\n",
              " 'If I need to cash foreign transfers, how does that work?',\n",
              " 'Do you know what your exchange rates are?',\n",
              " 'How do I know what exchange rate I will get?',\n",
              " 'What are you exchange rates?',\n",
              " 'Do you have the best exchange rate?',\n",
              " 'Where can I find your exchange rates?',\n",
              " 'Your exchange rates come from where?',\n",
              " 'I need to know what your exchange rates are.',\n",
              " \"What's the process for exchanges?\",\n",
              " 'What do you think of the exchange rate?',\n",
              " 'How are exchange rates calculated at this bank?',\n",
              " 'What do you use to figure out the exchange rate for the card?',\n",
              " \"What's the foreign exchange rate I will receive?\",\n",
              " 'I need to know what foreign exchange rate I can get.',\n",
              " 'What are the current exchange rates?',\n",
              " 'What exchange rate will I receive?',\n",
              " 'What is the basis of your exchange rates?',\n",
              " \"How's the exchange rate?\",\n",
              " 'How do you determine your exchange rates?',\n",
              " 'How do the foreign exchange rates work?',\n",
              " 'Where are you getting your exchange rates from?',\n",
              " 'How is the exchange rate calculated?',\n",
              " \"I'm interested in what your exchange rates are based on.\",\n",
              " 'How do you decide what the exchange rates are?',\n",
              " 'What is the current exchange rate?',\n",
              " 'What is the formula for your exchange rate?',\n",
              " 'What method do you use for the exchange rate?',\n",
              " 'What are Interbanks current exchange rates?',\n",
              " 'from where are coming your exchange rates?',\n",
              " 'How do you calculate exchange rates?',\n",
              " 'Why is your exchange rate different on different days?',\n",
              " 'Where can I find the exchange rate for my transfer?',\n",
              " 'Where can I get your exchange rates from?',\n",
              " 'How do you find the exchange rate?',\n",
              " 'How are exchange rates determined?',\n",
              " 'What value can I get for my currency?',\n",
              " 'Please explain your exchange rate policy.',\n",
              " 'What are your exchange rates calculated from?',\n",
              " 'What is an exchange rate?',\n",
              " 'What is your opinion on the exchange rate?',\n",
              " 'What are the exchange rates you assign?',\n",
              " 'How do you determine exchange rates?',\n",
              " 'How are your exchange rates calculated?',\n",
              " 'How is an exchange rate calculated?',\n",
              " 'When exchanging, how much are the rates?',\n",
              " 'What is the exchange rate for EUR?',\n",
              " 'How can I find your exchange rates?',\n",
              " 'Could you please tell me your exchange rates?',\n",
              " 'Is there an exchange rate?',\n",
              " 'How does the exchange rate work?',\n",
              " 'What is the present state of the exchange rate?',\n",
              " 'How are foreign exchange rates determined?',\n",
              " \"How's the exchange rate looking right now?\",\n",
              " 'Please explain the exchange rates.',\n",
              " 'What is the foreign exchange rate you will apply?',\n",
              " 'explain the interbank exchange rate',\n",
              " 'What will my exchange rate be?',\n",
              " 'how do you get exchange rates',\n",
              " 'What exchange rates do you use?',\n",
              " 'How will I know what the exchange rate is?',\n",
              " 'What factors effect the exchange rate?',\n",
              " 'Where does the exchange rate stand right now?',\n",
              " \"I'd like to know what the foreign exchange rate will be.\",\n",
              " 'Does the exchange rate change?',\n",
              " 'How do your exchange rates factor in?',\n",
              " 'Will I know which exchange rate I will get?',\n",
              " 'How do I know what the exchange rate will be when I make an exchange.',\n",
              " 'Is the exchange rate the same on weekends as the weekdays?',\n",
              " 'How do you do exchanges?',\n",
              " 'On what do you base your exchange rates?',\n",
              " 'How do you come up with your exchange rate',\n",
              " 'What factors determine your exchange rate?',\n",
              " 'How are the exchange rates determined?',\n",
              " 'I would like to know what your exchange rates are.',\n",
              " 'Is the exchange rate current?',\n",
              " 'What are the exchange rates?',\n",
              " 'How much are the rates of exchange?',\n",
              " 'How do you decide what your exchange rates are?',\n",
              " 'Your exchange rates are coming from where?',\n",
              " \"Is there a specific source that the exchange rate for the transfer I'm planning on making is pulled from?\",\n",
              " 'How are the exchange rates for transfers calculated?',\n",
              " 'How do I know how much money I will have when I travel abroad?',\n",
              " 'How do you do currency exchanges?',\n",
              " 'Can you explain your exchange rates basis?',\n",
              " 'How did you guys get your exchange rate?',\n",
              " 'Can you tell me your exchange rates?',\n",
              " 'Could you tell me what your exchange rates are?',\n",
              " 'Does this app have the same exchange rate as third parties?',\n",
              " 'what are your exchange rates at?',\n",
              " 'How is the current exchange rate?',\n",
              " 'What is the system for determining the exchange rate?',\n",
              " 'I am travelling and I was wondering what your exchange rates are',\n",
              " 'How can I tell what foreign exchange rate I will get?',\n",
              " 'Tell me your opinion on the exchange rate.',\n",
              " \"I'd like to know what you guys look at to decide an exchange rate\",\n",
              " 'How does the exchange rate work on this app?',\n",
              " 'where do you find your exchange rates?',\n",
              " 'I want to know your exchange rates.',\n",
              " 'What exchange rate is it?',\n",
              " 'What is the source of your exchange rates?',\n",
              " 'i need to know about exchange rates',\n",
              " 'Where do you get those exchange rates?',\n",
              " 'How do you determine the exchange rate?',\n",
              " 'What foreign exchange rate will I get?',\n",
              " 'Last Saturday, I was charged extra for the exchange rate on my payment. Is something wrong?',\n",
              " 'Hi, I am disappointed to see such a bad exchange rate and hope you can assist me. Would you be able to confirm the official interbank exchange rate for me?',\n",
              " \"I think the currency exchange that's been applied is wrong.\",\n",
              " 'The exchange rate I was charged for a purchase was not right.',\n",
              " 'Can you please explain why the exchange rate for the item I bought is wrong?',\n",
              " 'I think something went wrong with my exchange between Russian Ruble and UK pounds. I was overcharged during the swap.',\n",
              " 'My payment has an incorrect exchange rate.',\n",
              " 'my exchange rate looks wrong for my last payment',\n",
              " \"The exchange rate you are using is bad.This can't be the official interbank exchange rate.\",\n",
              " 'I was charged the wing amount for an item.',\n",
              " 'the exchange rate on my payment was wrong',\n",
              " \"Why is the exchange rate terrible?  That can't be close to the actual interbank rate.\",\n",
              " 'An incorrect exchange rate was applied to an item I bought.',\n",
              " 'The exchange rate was incorrect for an item I bought.',\n",
              " \"The exchange rate on my payment doesn't look right\",\n",
              " \"I just saw the exchange rate you use, but it's so bad that I can't believe that it's the official interbank exchange rate! Is this truly the official interbank exchange rate?\",\n",
              " 'This exchange rate you use is awful! Please tell me this is a mistake and not the official interbank exchange rate!',\n",
              " 'After purchasing an item I noticed the exchange rate was incorrect.',\n",
              " 'The amount of exchange was not correct for the item i bought.',\n",
              " \"The exchange rate from my card payment isn't right.\",\n",
              " \"My exchange rate isn't correct.\",\n",
              " 'Why was the exchange rate so wrong when I bought something!',\n",
              " 'My exchange rate was wrong for an Item I bought!',\n",
              " 'I was using a foreign currecy to make a payment and the applied the wrong rate.',\n",
              " 'The exchange rate was incorrect for this item I bought.',\n",
              " 'I purchased something overseas and the incorrect exchange rate was applied.',\n",
              " 'The exchange rate is incorrect for my payment.',\n",
              " 'The item i bought exchanged rate was incorrect.',\n",
              " \"I'm on holiday and I noticed a different amount for exchange rate.  Can you explain?\",\n",
              " 'I bought something in another country but the exchange rate is wrong',\n",
              " 'I bought an item and the exchange rate was wrong.',\n",
              " 'Exchange rate for my card payment is wrong',\n",
              " 'the exchange rate at which my card payment is at is wrong',\n",
              " 'There was a problem with the exchange rate on a purchase.',\n",
              " 'I recently purchased something, and the exchange rate was wrong.',\n",
              " 'What if there is an error on the exchange rate?',\n",
              " 'Why is my exchange rate wrong?',\n",
              " 'Please check my payment from last Saturday as I feel I have been overcharged on the exchange rate.  Thank you.',\n",
              " 'I used foreign currency to buy something and I think the rate applied is incorrect.',\n",
              " 'This exchange rate on my purchase is wrong.',\n",
              " 'Why is your exchange rate so bad?',\n",
              " 'The exchange rate looks wrong on a holiday purchase',\n",
              " 'I purchased something abroad, and the exchange rate that was applied was wrong.',\n",
              " 'I bought something and I take issue with the exchange rate applied.',\n",
              " 'I think there has been a mistake on my exchange rate for this purchase.',\n",
              " 'You did not give me the correct exchange rate for an item that I bought.',\n",
              " 'I checked on google and the exchange rate you are using is really bad. Can you update it?',\n",
              " 'I seem to have been charged to much for my holiday purchases, the exchange rate is wrong.',\n",
              " 'In regards to my card payment, the exchange rate is incorrect.',\n",
              " 'I bough an item and the exchange rate was incorrect.',\n",
              " \"Why did you charge me more for my purchase? It was a foreign currency and you didn't offer market rate\",\n",
              " \"I question today's exchange rate for rubles into pounds. I was hoping for a better return.\",\n",
              " 'I feel as though I have been over charged for the exchange rate on my payment on last Saturday.',\n",
              " 'My currency rate is inaccurate.',\n",
              " 'The currency exchange rate was wrong for a purchase I made.',\n",
              " 'I purchased something abroad and the incorrect exchange rate was applied.',\n",
              " 'Your exchange rate was off.  I was charged extra on my payment that I made last Saturday.',\n",
              " 'I was charged the wrong exchange rate on a purchase',\n",
              " 'Can you change the rate for the item I bought in a different currency as it is wrong?',\n",
              " 'The currency exchange for my purchase in foreign currency is incorrect.',\n",
              " 'I noticed the currency exchange rate was incorrect after paying for something in a foreign country.',\n",
              " 'My foreign currency exchange has been applied incorrectly.',\n",
              " \"Why isn't my purchase exchange rate correct?\",\n",
              " 'I noticed that the exchange rate applied to a recent purchase I made abroad was incorrect.',\n",
              " 'I purchased something while traveling, and the exchange rate applied was wrong.',\n",
              " 'Why is the exchange rate different on my recent purchase?',\n",
              " 'The fee charged when I changed rubles into British pounds was too much.',\n",
              " \"I wasn't charged the correct exchange rate for an item I purchased.\",\n",
              " 'Does the fee for exchange change?',\n",
              " 'The rate applied to my purchase in a foreign currency was wrong.',\n",
              " 'I bought something while traveling, and the exchange rate was wrong.',\n",
              " 'something is wrong with my exchange rate charge',\n",
              " 'Seems like the exchange rate for my payment last Saturday was wrong. I was charged extra.',\n",
              " 'It seems that something went wrong with my exchange. I changed Russian Ruble into UK pounds but have been charged entirely too much!',\n",
              " 'I bought an item then noticed the exchange rate was wrong.',\n",
              " 'The exchange rate applied is wrong for my international purchase.',\n",
              " 'My card payment had the wrong exchange rate',\n",
              " 'They used the wrong rate when I made a purchase with foreign currency.',\n",
              " 'Does the exchange rate change each day for purchases? There is a different rate on my purchase.',\n",
              " 'It seems that the rate I got is incorrect.',\n",
              " 'I exchanged Russian rubles for British pounds today and got less than I expected. Was exchange rate correct?',\n",
              " 'Was I charged more than I should of been for a currency exchange?',\n",
              " 'What do i do if the exchange rate was wrong for the item i bought overseas?',\n",
              " 'My client was converting their Russian ruble into UK pound currency when they noticed their bill was much too high for the exchange. What happened?',\n",
              " 'I have been overcharged. I just changed over Russian Ruble to UK pounds and it was too much. It seems something was wrong with my exchange.',\n",
              " 'What is your exchange rate between UK pounds and Russian rubles for my last transaction',\n",
              " 'I think there was an error in your exchange rate.',\n",
              " 'The exchange rate was not correct for the item I bought.',\n",
              " 'I noticed an extra charge on the purchase that I made last Saturday on my account. Can you see if I received the correct exchange rate?',\n",
              " 'My exchange seems to have something wrong with it. I changed over Russian Ruble to UK pounds and it appears I was charged way more than I was supposed to be.',\n",
              " \"The correct exchange rate wasn't given to me for an item I purchased.\",\n",
              " 'I bought something in another currency, but the exchange rate was incorrect.',\n",
              " 'the exchange rate is wrong from something I got in another country',\n",
              " 'The exchange rate given to me after a purchase, was incorrect',\n",
              " 'My card payment has the wrong exchange rate',\n",
              " 'I have been charged way to much so something is apparently wrong with my exchange. I changed Russian Ruble into UK pounds.',\n",
              " 'Why is the exchange rate different from what I expected?',\n",
              " \"The exchange rate you are using is really bad.This can't be the official interbank exchange rate.\",\n",
              " 'Please check the exchange rate for my payment last Saturday. I believe I have been overcharged.',\n",
              " 'Why was I charged extra on my last UK pound to Russian ruble exchange?',\n",
              " 'The wrong exchange rate was used when I purchased an item.',\n",
              " 'Why was the wrong rate applied when I bought something in a different currency?',\n",
              " 'I bought something abroad and the exchange rate applied is wrong',\n",
              " 'An item I bought had the wrong exchange rate applied.',\n",
              " 'I think the rate that was applied to my purchase using foreign currency is wrong. Help!',\n",
              " 'Why was my exchange rate a different amount than usual?',\n",
              " 'I want to change the wrong exchange rate.',\n",
              " 'I recently bought something abroad but the exchange rate is incorrect. Why?',\n",
              " \"The exchange rate you're using is terrible - this can't be the official interbank exchange rate, can it?\",\n",
              " 'I did not receive the correct amount for the exchange rate.',\n",
              " 'I guess exchange rate for my payment was not correct, as i charged extra on the last saturday.',\n",
              " 'The exchange rate for my payment last Saturday must be wrong because I was charged extra.',\n",
              " 'Are you sure this is the interbank exchange rate? This rate is really bad.',\n",
              " \"The exchange rate you are using is really bad. This can't possibly be the official interbank exchange rate.\",\n",
              " 'I believe you charged me too much to exchange my money',\n",
              " 'I changed the currency, but why is it costing more?',\n",
              " 'Why was the exchange wrong for the item I purchased?',\n",
              " 'I made an international purchase, but the exchange rate was wrong',\n",
              " 'My purchase used the wrong exchange rate',\n",
              " 'I have been charged to much for the object I bought when abroad, the exchange rate seems to be wrong.',\n",
              " 'I made a purchase and was charged at the wrong foreign exchange rate.',\n",
              " 'I think that the exchange rate was wrong for the payment made last Saturday - I was charged extra.',\n",
              " 'Why is the exchange rate for my payment incorrect?',\n",
              " 'Your foreign exchange rate is wrong.',\n",
              " 'It looks like the exchange rates on my card payment are wrong',\n",
              " \"There's an error with the rate that is charged.\",\n",
              " 'I bought an item at the wrong exchange rate.',\n",
              " 'I think the exchange rate on my card payment is incorrect.',\n",
              " 'I bought an item that I was charged a different exchange rate for.',\n",
              " 'I am not receiving the correct exchange rate on my card.',\n",
              " 'When I purchased a product in another country the currency exchange was incorrect.',\n",
              " \"The exchange rate used on your app is really bad. I'm considering closing my account because of it.\",\n",
              " \"I think I was charged extra on my payment on last Saturday.  Maybe the exchange rate was wrong?  I'd like a refund.\",\n",
              " 'I received the wrong exchange rate for an item i bought.',\n",
              " \"Are you ripping people off with the exchange rate?  It can't be that atrocious between banks.\",\n",
              " \"I don't think the charges made when I had currency exchanged are right.\",\n",
              " 'Why am I being charged the wrong currency exchange when I purchased something abroad?',\n",
              " \"The exchange rate for my card payment doesn't seem right.\",\n",
              " 'When I bought something abroad, the exchange rate was wrong.',\n",
              " \"I didn't receive the correct exchange rate for an item that I bought.\",\n",
              " 'Why is the exchange rate on my card wrong?',\n",
              " 'I am being charged the wrong amount on my card.',\n",
              " 'The exchange rate is incorrect on an item I recently purchased in a foreign country.',\n",
              " 'The exchange rate is incorrect for something I bought',\n",
              " 'My payment had a wrong exchange rate.',\n",
              " 'The exchange rate for my electronic payment is incorrect.',\n",
              " 'Why was I charged a higher exchange rate when I bought something abroad?',\n",
              " \"Why didn't I receive the correct exchange rate for an item that I purchased?\",\n",
              " 'Why is the exchange rate on my card payment different than I expected?',\n",
              " 'My rate of exchange was wrong.',\n",
              " 'I recently bought something in foreign currency and I am unsure of the exchange rate. Is this rate applied correctly?',\n",
              " 'I purchased something abroad but the exchange rate is incorrect.',\n",
              " 'A foreign purchase I made has the incorrect rate applied to it.',\n",
              " 'When I was traveling abroad, the exchange rate was applied wrong.',\n",
              " \"There's an error in regards to the exchange rate for an item I bought.\",\n",
              " 'Last Saturday, I made a payment and the exchange rate was wrong.  I was charged too much.',\n",
              " 'The exchange rate is bad. Are you sure this is the exchange rate?',\n",
              " 'I purchased an item and the exchange rate was wrong',\n",
              " 'Exchange rate on a purchase was incorrect',\n",
              " \"I'm going on a trip soon and I needed to convert my Russian ruble to UK pounds, but when I did, your company charged me above the exchange rate. Did you mess up my transaction?\",\n",
              " 'I was charged extra. Was the exchange rate for my payment last Saturday wrong?',\n",
              " 'The exchange rate that was applied for an international purchase was wrong.',\n",
              " 'Hello, I believe there has been a mistake made on the exchange rate for my card. Could you please check the official interbank exchange rate for me?',\n",
              " 'Why am I being charged more on exchange with things I bought abroad?',\n",
              " 'I  have been charged more than I should for the presents I bought  when abroad, the problem seems to be the exchange rate.',\n",
              " 'I made a purchase but the exchange rate is wrong?',\n",
              " 'Why on earth is the exchange rate so bad?   Can I get a rate closer to the actual interbank rate?',\n",
              " 'Why is there an extra fee on my statement?',\n",
              " 'Why did they charge me an extra $1?',\n",
              " 'Why is there a 1 euro fee on my statement?',\n",
              " 'Why do I see an extra Â£1 charge on my statement?',\n",
              " 'I am inquiring about a $1 charge on my statement.',\n",
              " 'What is the $1 transaction on my account?',\n",
              " 'What is this extra pound charge for?',\n",
              " 'I was charged $1 in a transaction.',\n",
              " 'What is the reason for the extra fee on my statement?',\n",
              " \"There is a pending 1Â£ charge on my statement.  I haven't purchased anything for 1Â£.  Why is it on my statement?\",\n",
              " \"Have have a small charge on my account from someone I purchased with but I'm not sure what it relates to.\",\n",
              " 'I have a strange transaction for Â£1 on my statement, what is that?',\n",
              " 'I have no idea why there is a dollar that has been charged to my account.',\n",
              " 'I have been charged a pound for something that appears on my statement',\n",
              " 'Why is there a $1 charge on my statement?',\n",
              " 'Where did this extra â‚¬1 fee on my statement come from?',\n",
              " 'Is there a reason why there is an extra Â£1 charge on my account?',\n",
              " 'Can you tell me what this fee is on my statement?',\n",
              " 'Why has another fee been placed on my statement?',\n",
              " \"There has been a charge pending on my account statement that I can't figue out it's for a dollar.\",\n",
              " 'â‚¬1 was in my statement as an extra fee.',\n",
              " 'Why is there an extra charge on my statement.',\n",
              " \"Hey, I got charged extra for some reason when I purchased an app. Is this a hidden fee or something? I don't think it's very cool.\",\n",
              " 'I see a $1 charge in a transaction.',\n",
              " 'I had to pay a pound more than I anticipated!',\n",
              " 'There is a â‚¬1 extra fee in my statement',\n",
              " 'My statement contained a one pound extra fee',\n",
              " 'I checked my account today and saw that I was charged an extra pound that I did not spend.',\n",
              " 'What is the extra â‚¬1 on my statement for?',\n",
              " 'I see I was charged $1 for a transaction.',\n",
              " '$1 charge in transaction.',\n",
              " 'I just looked at my app and it seems I was charged extra, why is that?',\n",
              " 'Why is there an extra pound charge that is pending?',\n",
              " 'I was wrongfully charged one pound.',\n",
              " 'Why is there an extra fee charged?',\n",
              " 'I just checked my statement and saw a $1 charge, why is it there?',\n",
              " \"There is an odd 1Â£ charge that appears as pending on my statement. What's the reason for that? I haven't purchased anything for a pound.\",\n",
              " 'Why have I been charged an extra pound?',\n",
              " 'I think I may have been charged $1 extra on my app.  Could you provide some insight as to why this may have happened?',\n",
              " 'Why do I see an extra â‚¬1 charge on my statement?',\n",
              " 'Is the 1 pound charge I can see an error or an incorrect entry?',\n",
              " 'Why did I get a $1 extra fee on the statement?',\n",
              " 'Why was I charged $1 in a transaction?',\n",
              " 'why is there a service fee on my statement?',\n",
              " 'My statement shows a 1Â£ purchase pending. I do not remember making this purchase, please let me know what this is about.',\n",
              " 'I am seeing and extra 1$ charged to my account and wanted to know about it.',\n",
              " 'Why did you charge me extra?',\n",
              " 'An extra pound was charged!',\n",
              " 'I got billed an extra pound!',\n",
              " 'Why do I see an extra fee on my statement?',\n",
              " 'There must have been a mistake, why was I charged an extra pound?',\n",
              " 'When I look at my statement there is an extra fee, that is for what?',\n",
              " 'There is an extra small charge on my card! What do I do?',\n",
              " \"I looked at my statement, and there is a charge for 1Â£ that I don't recognize.  Why is it on there?\",\n",
              " 'I got a â‚¬1 extra fee in my statement',\n",
              " 'What is the extra fee on my statement?',\n",
              " 'Why have I been charged an extra Â£1?',\n",
              " 'In my statement, I got a â‚¬1 extra fee.',\n",
              " 'Why is there a charge for $1 on my account?',\n",
              " \"On my statement, there is a strange 1Â£ charge that appears as pending. What's causing that? I haven't purchased anything that's just a pound.\",\n",
              " 'what was the $1 fee i got',\n",
              " 'I see a charge of 1L I do not recognize on my statement',\n",
              " 'I was overcharged one extra pound!',\n",
              " 'I noticed an extra pound charge?',\n",
              " 'I have been charged an extra pound!',\n",
              " 'Why does my statement show a $1 charge on my account?',\n",
              " 'Why has my card been charged an extra pound?',\n",
              " 'Why does my statement have an extra fee?',\n",
              " \"There is a  â‚¬1 fee on my account I didn't authorize\",\n",
              " 'I was made to pay an additional pound!',\n",
              " 'I was charged an extra pound for no reason. Why is that?',\n",
              " 'It appears I have a fee in my statement.',\n",
              " 'When did I get a $1 extra fee on my statement?',\n",
              " 'What is this fee debit on my account?',\n",
              " 'I was charged an extra dollar on my account and would like to know the reason.',\n",
              " 'What is this extra â‚¬1 fee about?',\n",
              " 'I was overcharged a pound.',\n",
              " 'Why do i have an extra fee on my statement?',\n",
              " 'What was the $1 charge for on my statement?',\n",
              " \"I had a dollar charged to my account that's still pending and wanted to know what the charge is for?\",\n",
              " \"I was charged extra or a hidden fee when I purchased something from you. What's the deal? I didn't authorize that charge.\",\n",
              " \"What am I being charged an extra pound when I haven't bought something worth that much?\",\n",
              " 'why was i charged a small amount',\n",
              " 'Do you also have this extra fee on your statement?',\n",
              " 'Why did I get charged one pound seemingly randomly?',\n",
              " 'Why was I charged an extra pound?',\n",
              " 'I am being charged a pound out of nowhere. What is this?',\n",
              " 'A pending charge of 1L appears on my statement.  Please explain as I have not made a purchase for that amount',\n",
              " 'Why did you guys charge me an extra â‚¬1?',\n",
              " 'Why was I charged more than I should have been?',\n",
              " 'What is the fee on my statement for?',\n",
              " 'Hello, there seems to be a billing mistake associated with my account.  My app was charged $1 more than it should have.  Could you please explain why this may have happened?',\n",
              " 'Why is there a pending hold on one pound on my statement?',\n",
              " \"I need some help figuring out what this strange payment is on my account. It's stays pending and won't go away.\",\n",
              " 'What is this $1 charge on my account?',\n",
              " \"There is a 1Â£ charge that appears as pending on my statement. What is that? I haven't purchased anything for a pound there.\",\n",
              " 'Why did a transaction I made charge me $1?',\n",
              " 'There seems to be an additional charge of Â£1 on my statement, what is the reason for this?',\n",
              " 'I still have not received an answer as to why I was charged $1.00 in a transaction?',\n",
              " 'Why does my statement show an extra fee?',\n",
              " \"There's an extra fee on my statement, why is that?\",\n",
              " \"There is some odd 1Â£ charge that appears as pending on my statement. What's that about? Pretty sure I haven't purchased anything for a pound there.\",\n",
              " \"There is a pending payment on my account that is very strange. I don't remember making this and it won't go away. Can you help me figure this out?\",\n",
              " 'Can you tell me about why the account I have was charged an extra 1$',\n",
              " 'why does my statement contain an extra fee?',\n",
              " 'Can you tell me why I was charged $1 for a transaction?',\n",
              " 'Why is there an extra â‚¬1 fee in my statement?',\n",
              " \"There is an extra charge on my account I didn't authorise, it's just Â£1, what is it?\",\n",
              " 'What is the dollar that I have pending on my statement there?',\n",
              " 'I see an extra $1  charge on my statement, why is this?',\n",
              " 'Can you please explain to me why there is an extra â‚¬1 fee in my statement?',\n",
              " 'There is an unexplained $1 charge on my statement, can you please explain this to me?',\n",
              " 'How can I find out about an extra fee on my statement?',\n",
              " 'Hello, I see that I have been charged an extra $1 on my app.  Could you please provide me with a reason for this charge?',\n",
              " 'In my statement, there was an extra â‚¬1 fee',\n",
              " \"Is there a reason there's an extra fee on my statement?\",\n",
              " 'What is this extra fee on my statement.',\n",
              " 'What does the â‚¬1 fee mean?',\n",
              " \"There's a â‚¬1 fee on my statement, why?\",\n",
              " 'Why was I charged an additional $1?',\n",
              " 'I checked my statement and am being charged one pound. Where did this charge come from?',\n",
              " 'I do not know why I was charged for the $1 transaction.',\n",
              " 'I wanted to know about a pending dollar that is on my statement.',\n",
              " 'I\\'m pretty frustrated about a pound charge that keeps  showing up in my account statement. It\\'s listed in the app as \"pending\", it never changes, and now I\\'m thinking someone\\'s hacked my account!',\n",
              " 'How come there is a $1 extra charge on my statement?',\n",
              " 'I was charged an extra pound.',\n",
              " 'There is a charge for an additional pound.',\n",
              " \"There is a strange 1Â£ charge that appears as pending on my statement. What's the cause for that? I haven't purchased anything for a pound.\",\n",
              " 'I need to know what these extra charges are on my statement?',\n",
              " 'How come there is an extra fee on my statement?',\n",
              " 'Why is there an extra charge of 1 dollar on my statement?',\n",
              " 'I checked my statement and saw a charge of one pound, where is this charge coming from?',\n",
              " \"I don't understand why there is an extra â‚¬1 fee in my statement.\",\n",
              " 'Why was I charged extra on my app?',\n",
              " 'Why was my account assessed a fee?',\n",
              " 'There is an extra 1Â£ charge on my app. Why did you charge me extra?',\n",
              " \"Why i'm I being charged an extra pound\",\n",
              " 'The $1.00 has still not been reverted as indicated in the previous email.',\n",
              " 'My statement shows and extra 1$ that was charged to it and I would like to know why.',\n",
              " 'There is an extra $1 charge on my statement, why is that?',\n",
              " 'Is the 1 pound charge going to be reimbursed on my card?',\n",
              " 'I  see an extra 1Â£ charge on my app. Why did It charge me extra?',\n",
              " 'Why is there a fee added to my statement?',\n",
              " 'Why would there be an extra charge on my app?',\n",
              " 'There is a charge for 1Â£ on my statement.  I do not think that I bought anything that costed 1Â£.  What is going on?',\n",
              " 'Why does my transaction have an added fee?',\n",
              " 'There is  an extra 1Â£ charge on my app. Why did it charge me extra?',\n",
              " 'Why is there an additional fee showing on the statement I received?',\n",
              " 'How come I was charged a transaction of $1?',\n",
              " 'Please explain the charge of 1L in error.  I have purchased nothing in this amount.',\n",
              " 'Where did the  â‚¬1 fee in my statement come from',\n",
              " 'What is this random charge of one pound doing on my account?',\n",
              " 'I had to pay one pound more than the set price!',\n",
              " 'My statement is showing an extra Â£1 charge and I am unsure why. Is there an explanation for this?',\n",
              " 'Do I have a $1 extra fee on the statement?',\n",
              " 'Why is it showing that my account has been charged a dollar that is showing as pending?',\n",
              " 'I do not understand why there is a pending 1Â£ charge on my statement, I do not recall making this transaction. Can you please tell me what this is about?',\n",
              " 'My statement shows an extra fee - what is it?',\n",
              " 'What is this â‚¬1 charge?',\n",
              " 'How long will the $1 charge show as pending?',\n",
              " \"I've been charged an extra Â£1 and I don't know what it's for\",\n",
              " 'I was overcharged an additional pound.',\n",
              " \"I've been charged an extra Â£1 and I don't know why\",\n",
              " 'My statement is showing I was Charged a dollar and I am not sure why.',\n",
              " 'Why is there a â‚¬1 charge on my statement?',\n",
              " 'An extra fee of â‚¬1 was in my statement',\n",
              " 'I would like to know why a withdraw I made for some cash shows up as pending.',\n",
              " 'Why is my cash withdrawal still showing as pending?',\n",
              " 'I have the cash already, my account still shows up as pending.  How can my account be still pending?',\n",
              " 'I tried to get cash out of the ATM but it is taking too long',\n",
              " 'Why is the cash withdrawal under pending?',\n",
              " 'What does it mean if my cash withdrawal does not show up properly?',\n",
              " \"Hello, I have a pending transaction in my account due to an ATM machine that wasn't working. In any case if the transaction goes through, after how long can I get my money back?\",\n",
              " 'Why is my ATM withdrawal still pending?',\n",
              " 'Is the cash withdrawal going to show?',\n",
              " 'Cash withdrawal has been pending, why is it so?',\n",
              " \"My account shows up as pending after I received cash from the ATM earlier.  How can this be still pending? I've got the cash already.\",\n",
              " 'How long does it take to verify a cash withdraw?',\n",
              " 'The transaction for the cash I pulled out of the ATM earlier is pending in the app, but how if I already have the cash?',\n",
              " 'Why has my withdrawal not posted?',\n",
              " 'When I used one of the ATMs in the city centre today, I tried to take out some money, but for whatever reason, the machine declined my card. Just checked it out in my account and that amount is still showing as pending! Is there any way that you can cancel this transaction, because I did not receive any money whatsoever from the ATM',\n",
              " 'Why is the cash withdraw I made shown as pending?',\n",
              " 'Hello. I looked at my account and see that a transaction I tried to do is pending, but I did not complete that transaction. When I was at the ATM, the machine declined my card. Can you make sure that transaction does not go through because I definitely did not receive the money.',\n",
              " 'Should my cash withdrawal still be pending?',\n",
              " \"Hey, I tried to withdraw some cash earlier and it's saying it's pending? Will I be charged for this?\",\n",
              " \"There should be a cash withdrawal that I haven't seen yet.\",\n",
              " 'Why is the app showing a still pending message on a withdraw that has already been done?',\n",
              " 'Why is my cash withdrawal still pending?',\n",
              " 'If my cash withdrawal is still not showing, is something wrong?',\n",
              " 'I noticed on my online statement that an ATM withdrawal I made early is still pending.  Is this accurate?',\n",
              " 'I made a cash withdrawal at an ATM but it still says pending in my account.',\n",
              " \"I tried to get cash at some ATM in the city centre earlier but the machine declined my card. I've seen it still shows up as pending in my account. Please cancel it immediately as I definitely have not received that money!\",\n",
              " \"Why hasn't my withdrawal shown on my statement?\",\n",
              " 'I have withdrawn cash from the ATM but it is showing in my account as a pending transation. Why is this?',\n",
              " \"I made a cash withdrawal earlier and it's showing as pending.  What does that mean?\",\n",
              " 'I tried to withdraw cash at an ATM in the city center but my card was declined. The transaction is still showing up as pending - please cancel it!',\n",
              " 'How long does it take for a cash withdrawal to show?',\n",
              " \"I tried to access money earlier but the machine seems not to be working. After looking, the transaction actually shows to still being process. Can you find out what is going on here? I don't want to be charged for some money I never got.\",\n",
              " 'Why is my cash withdrawal pending?',\n",
              " 'I withdrew cash but it still shows as pending?',\n",
              " \"Hi there, earlier today I tried to take money out of an ATM machine, and something wasn't working.  I didn't actually receive the money, but I just checked and it says that the transaction is still pending.  Can you tell me what's going on here? Am I still being charged for the withdrawal even though I didn't end up getting any money?\",\n",
              " 'I got some cash in the ATM but its still pending',\n",
              " \"So much time has gone by, the pending status shouldn't still be there shouldn't it?\",\n",
              " 'Do you know when the withdrawal will show?',\n",
              " 'How long will my cash withdrawal take',\n",
              " 'Why do I still have a pending cash withdrawal?',\n",
              " 'I have a withdrawal waiting to go through.',\n",
              " 'How long does it take for a pending cash withdrawal?',\n",
              " 'I took out some cash from the ATM but it is still showing the transaction is pending.',\n",
              " 'How are cash withdrawals pending?',\n",
              " 'I went to an ATM to get cash, but the app says the withdrawal is still pending. How is that possible when I already have the cash with me?',\n",
              " 'My cash withdrawal isnt showing on my account',\n",
              " 'What does pending mean on a cash withdrawal?',\n",
              " \"I'm expecting to see a cash withdrawal but I'm still waiting.\",\n",
              " 'So earlier I went to an ATM and got cash. But when I checked the app, it states that the withdrawal is pending. How can that be when I have the cash on me?',\n",
              " 'How long does it take for cash withdrawals to hit my account?',\n",
              " 'Can you explain to me why a cash withdrawal shows up as pending?',\n",
              " \"The machine didn't work earlier when I went to get money out and now my account says transaction in progress.Why?\",\n",
              " 'I got cash from an ATM earlier but it shows up as pending in the app. How can this still be pending, I already received the cash?',\n",
              " 'I made a deposit in the ATM and it has not cleared',\n",
              " 'withdrawal pending meaning?',\n",
              " 'What does it mean to have a pending cash withdrawal?',\n",
              " \"I tried to get some money but the machine was not working .The transaction still seems in progress! Can you please check what's going on.I don't want to be charged for money that I did not received.\",\n",
              " 'My account says there are pending funds right now from withdrawing from an ATM, but my card was declined and I never took out any money. When will that money be deposited back into my account?',\n",
              " 'How long before I can see that my cash withdrawal has taken place?',\n",
              " 'My cash withdrawal shows pending, why?',\n",
              " 'My account says I have money but I withdrew it in cash.',\n",
              " 'How do I get my cash withdrawal to show?',\n",
              " \"I didn't receive my money earlier and it says the transaction is still in progress. Can you fix it?\",\n",
              " 'Hello. I have a transaction in my account listed as pending. I tried to use an ATM at the city centre, but the machine declined my card, and I did not receive the money. Why is the transaction still pending if I did not receive the money.',\n",
              " 'How long does it typically take for a pending ATM withdrawal to clear?',\n",
              " 'My cash withdrawal shows as pending still.',\n",
              " 'i withdrew cash and dont see it reflected on the balance',\n",
              " 'When will my cash withdrawal show/',\n",
              " \"Hello, I'm having trouble with my card, I don't understand what's happening, I tried using the ATM machine earlier but it wasn't working but seems like the transactions is still in progress, can you cancel it for me?\",\n",
              " \"Looking at my account I've noticed a charge that appears to still be in progress. I had attempted to get money out of the machine earlier but the machine seemed to have been broken. I never received my money so will you please look into this for me? I don't want to be charged for money I never actually received.\",\n",
              " 'What is a pending cash withdrawal?',\n",
              " 'When will a cash withdrawal show up?',\n",
              " \"Hi, I tried to withdraw some money from an ATM and the machine was broken.  It says that the transaction is still in progress.  Can you double check to see what's happening? I don't want to be charged since I was not able to withdraw the money.\",\n",
              " 'My ATM withdrawal is taking forever',\n",
              " 'What does it mean when a cash withdrawal is pending?',\n",
              " 'how long will my cash withdrawal be pending for?',\n",
              " 'Why is my withdrawl to cash still pending?',\n",
              " 'Why is the pending status on my cash withdrawal taking so long?',\n",
              " 'There is a pending transaction on my account for when I tried to get money from the ATM earlier and it did not work. Can you fix this?',\n",
              " 'The cash I got at the ATM is still in my account.',\n",
              " 'How long will it take for my cash withdrawal to stop pending',\n",
              " \"I'm concerned because my cash withdrawal is pending.\",\n",
              " 'What is the reason my cash withdrawal is still pending?',\n",
              " 'How long will it take for my cash withdrawal to no longer show as pending?',\n",
              " 'How long until I see a cash withdrawal?',\n",
              " 'my cash out is still pending',\n",
              " 'Why does it still charge me even though I was unable to withdraw money from the ATM?',\n",
              " 'What does it mean if my cash withdrawal is pending?',\n",
              " 'Why is a transaction still pending?',\n",
              " 'I am not seeing recent cash withdrawal on my account.',\n",
              " 'What does a pending cash withdrawal mean?',\n",
              " \"I tried to get some with-drawls but the machine didn't work. The transaction still seems in progress.Seems like  something is wrong,I don't want to be charged for Transaction i did not make.\",\n",
              " 'How long will a cash withdrawal be pending?',\n",
              " 'If I have already completed a cash withdrawal at an ATM, is it normal for it to show as a pending transaction on the app?',\n",
              " 'Why does a cash withdrawal show as pending?',\n",
              " 'Why would a cash withdrawal still be pending?',\n",
              " 'Explain pending transactions.',\n",
              " 'How is my ATM deposit not available yet?',\n",
              " 'My cash withdrawal is showing as pending, why?',\n",
              " 'I withdrew some cash, when is it going to show?',\n",
              " 'Can you let me know why my cash withdrawal is still pending?',\n",
              " 'I made a cash withdrawal and it is still listed as a pending transaction.',\n",
              " 'my cash withdrawal is pending, why?',\n",
              " 'Hae there, I have a transaction that is in progress despite the fact that the ATM was not working, what do I do to avoid being charged?',\n",
              " \"I've been waiting for 3 days, why is my withdrawal still pending?\",\n",
              " 'I removed cash from an ATM earlier but it shows up as pending in the app. How can this still be pending, I already received the cash?',\n",
              " 'How long will my ATM withdrawal be pending?',\n",
              " 'Is there any reason my cash withdrawal still shows as pending?',\n",
              " 'Its been several days and my cash withdrawal is still pending. Why?',\n",
              " \"My account says a withdrawal is pending - why can't I take cash out of the ATM?\",\n",
              " \"I tried to take out some money from an ATM earlier today and it was declined. Looking on my screen now, I still see that it's pending for that amount. I didn't actually get that money, so I don't want it processed on my account.\",\n",
              " 'My cash withdrawal says pending, why?',\n",
              " 'Why is my cash still pending that I put in ATM?',\n",
              " 'In my account I noticed my ATM withdrawal is still pending',\n",
              " 'Please cancel the latest ATM charge on my card as my card was declined earlier today and I did not receive that cash.',\n",
              " 'My withdrawal is pending, why?',\n",
              " 'Why does my account show as pending a cash withdrawal from the ATM that I have already made?',\n",
              " \"I have a cash withdrawal that says it's pending, why?\",\n",
              " \"I took out money from the ATM and it's still showing as pending?\",\n",
              " 'Why would a cash withdrawal be pending?',\n",
              " 'Why is the cash transaction still showing as not completed?',\n",
              " 'Why is my withdrawal from the ATM still showing as pending?',\n",
              " 'The cash I deposited using the ATM is still pending',\n",
              " 'I tried to withdraw money, but was unable to. Still says that the transaction is pending? Will this money disappear??',\n",
              " 'There is a withdrawal waiting.',\n",
              " 'Can you please tell me why my cash withdrawal is still pending?',\n",
              " 'My atm withdraw is stillpending',\n",
              " 'I Withdrew cash from an ATM earlier but it shows up as pending in the app. How can this still be pending, I received the cash already?',\n",
              " \"Hello, I tried to take some cash out of the ATM but I looked at my statement and it still shows that it's pending. Is the machine broken? Will I receive my money back or will I be charged for this?\",\n",
              " 'I made a cash withdraw and it shows up as pending why is that?',\n",
              " 'My last ATM request did not go through due to a declined card. Please cancel the request on my account.',\n",
              " 'What should I do if I see a withdrawal is pending?',\n",
              " 'My balance is not what I thought it was following an ATM withdrawal',\n",
              " \"I tempted to get some money out of the machine earlier and it did not work.Looking now, the transaction actually shows to still be in progress. I would certainly appreciate someone look into this and let me know what's going on. I definitely do not want to be charged for money I never received.\",\n",
              " \"Hello, I tried to take out some money out of the ATM, but it's still showing that it's pending? I really don't want to be charged for this.\",\n",
              " 'how long until a cash withdrawal will show on my account',\n",
              " 'When will the cash that I put in the ATM be cleared from pending status?',\n",
              " 'My card was declined and I did not receive money from the ATM earlier, yet it show on my account that it is pending.',\n",
              " 'I pulled cash from the ATM earlier. Why is it still pending if I already have the cash?',\n",
              " 'my cash withdrawal has not come out of my account yet.',\n",
              " \"I needed cash today, so I used another provider's ATM, and when I attempted to withdraw, it declined. I just checked it out and I'm still showing my account with that amount pending! I didn't take any money out, it was declined, so I don't want that to be processed as a withdrawal.\",\n",
              " 'Why has my deposit in the ATM not cleared yet?',\n",
              " 'why isnt my cash withdrawal showing',\n",
              " 'How many different currencies can I hold money in?',\n",
              " 'Do you allow currency exchanges?',\n",
              " 'How many currencies can I have money in in my account?',\n",
              " 'Is the EUR accepted for exchanges?',\n",
              " 'Is it okay to hold money in multiple currencies?',\n",
              " 'Can I have money in more than one currency in my account?',\n",
              " 'What currencies can I have?',\n",
              " 'What currencies can my account be in?',\n",
              " 'How many currencies can I have?',\n",
              " 'Are EUR exchanges allowed?',\n",
              " 'I want to have multiple currencies in my account if possible.',\n",
              " 'Do you convert to Euro?',\n",
              " 'What fiat currencies can I use for holding and exchanging?',\n",
              " 'Can exchanged be made to EUR?',\n",
              " 'I need to know what flat currencies you support for holding and exchange.',\n",
              " 'Do you support other currencies?',\n",
              " 'Can you convert to EUR?',\n",
              " 'What are the fiat currencies used?',\n",
              " 'What currencies can I not hold many in, if so what are they?',\n",
              " 'How many different currencies can I have my money in?',\n",
              " 'Which fiat currencies are supported by you?',\n",
              " 'What currencies do you offer?',\n",
              " 'Are there any fiat currencies that you will not work with?',\n",
              " 'I wondered if multiple currencies is okay?',\n",
              " 'Are all fiat currencies supported?',\n",
              " 'Can you tell me the names of the fiat currencies that I can use at your institution?',\n",
              " 'Can I change or hold different currency?',\n",
              " 'Which flat currencies are supported for holding and exchange?',\n",
              " 'What other fiat currencies can I use?',\n",
              " 'What fiat currencies do you allow exchange with?',\n",
              " 'Are all European currencies available for holding and exchange?',\n",
              " 'Can you tell me how many currencies I can hold?',\n",
              " 'What types of foreign money can be used with this service.?',\n",
              " 'Am I allowed to hold money in multiple currencies?',\n",
              " 'What fiat currencies do you support?',\n",
              " 'I need to hold money, what currencies can I use?',\n",
              " 'Can you do exchanges of EUR?',\n",
              " 'What are all the fiat currencies that are supported for both exchange and holding?',\n",
              " 'What currencies can I hold?',\n",
              " 'what currencies do you accept?',\n",
              " 'Are there limitations to what currency I can hold?',\n",
              " 'What types of fiduciary currencies are supported for tenure and exchange?',\n",
              " 'Can I hold more than one currency?',\n",
              " 'What fiat currencies are used with holdings and exchanges?',\n",
              " 'Is it possible to hold money in multiple currencies?',\n",
              " 'Can I have multiple currencies in my account?',\n",
              " 'I need to know which fiat currencies I can use with you.',\n",
              " 'How can I solve my issue with holding multiple currencies?',\n",
              " 'What currencies do you support?',\n",
              " 'Do you support fiat currencies?',\n",
              " 'Can my account have different types of currency in it.',\n",
              " 'What kind of money can I hold?',\n",
              " 'Will you be able to exchange to EUR?',\n",
              " \"Is my country's currency supported by your system?\",\n",
              " 'What flat currencies do you support for holding and exchange?',\n",
              " 'What kind of fiat currencies are supported for holding and exchange?',\n",
              " 'Can you make exchanges with the EUR?',\n",
              " 'Is EUR one of the currencies you deal with?',\n",
              " 'Are EUR exchanges acceptable?',\n",
              " 'What currencies can I exchange?',\n",
              " 'What fiduciary currencies are supported for tenure and exchange?',\n",
              " 'Will you be adding more currencies in the future?',\n",
              " 'How can I hold and exchange fiat currencies?',\n",
              " 'What currencies are available for my use in holding and exchange?',\n",
              " 'I would like for someone to tell me which fiat currencies that your company supports.',\n",
              " 'Which currencies are allowed?',\n",
              " \"I'm interested in using fiat currencies, which do you support?\",\n",
              " 'How do I go forth on holding money in multiple currencies?',\n",
              " 'Which currencies will you exchange?',\n",
              " 'I need a list of currencies you accept for exchange.',\n",
              " 'What type of fiat currencies do you support?',\n",
              " 'What currencies are supported?',\n",
              " 'Please tell me which fiat currencies you support.',\n",
              " 'Do you offer services that hold money in different types of currency?',\n",
              " 'What currency is supported for exchanges and holding?',\n",
              " 'What fiat money can I used in the exchange and holding?',\n",
              " 'What fiat currencies are used for exchange?',\n",
              " 'Do you provide currency exchange to Euros?',\n",
              " \"What country's money can I hold currency in?\",\n",
              " 'What other currencies can I hang onto?',\n",
              " \"I'm interested in holding and exchange for flat currencies, what do you support?\",\n",
              " 'Do you have a problem with EUR exchanges?',\n",
              " 'Can I exchange currency to Europe?',\n",
              " 'What are eligible holding and exchange currencies?',\n",
              " 'In the exchange and holding, what fiat is allowed?',\n",
              " 'How can I exchange to EUR?',\n",
              " 'Do you allow exchanges of EUR?',\n",
              " 'Are you able to make exchanges to EUR?',\n",
              " 'Does my account have the option to hold multiple currencies?',\n",
              " 'Which fiat currencies can I use through this app?',\n",
              " 'Do you hold money and if so, what currencies do you accept?',\n",
              " 'Please tell me the types of currency I can hold.',\n",
              " 'can I have multiple currencies?',\n",
              " 'Will you work with any fiat currencies?',\n",
              " 'Which flat currencies can I use from you?',\n",
              " 'What fiat currencies are used for holdings?',\n",
              " 'Which fiat currencies do you currently support? Will this change in this future?',\n",
              " 'Can you make exchanges using the EUR?',\n",
              " 'Is it possible to hold money in different currencies?',\n",
              " 'Tell me the currencies that you support.',\n",
              " 'are multiple currencies acceptable?',\n",
              " 'Do you deal with EUR?',\n",
              " 'I heard that you support more than one type of fiat currency, would you tell me which ones please?',\n",
              " 'Which fiat currencies are supported for holding and exchanging?',\n",
              " 'What fiat currencies are supported?',\n",
              " 'What are my options for holding money in multiple currencies?',\n",
              " 'What flat currencies do you use for holding and exchanges.',\n",
              " 'I want to hold and exchange fiat currencies, what can I use to do so?',\n",
              " 'Do you have EUR currency available for me?',\n",
              " 'If I was travelling abroad, would I be able to hold currencies in euros?',\n",
              " 'Which fiat currencies are compatible for exchange and holding?',\n",
              " 'Is my fiat currency supported for both hold and exchange?',\n",
              " 'I need to know which flat currencies are supported by you.',\n",
              " 'Please list what fiat currencies are supported for both holding and exchanging.',\n",
              " 'Do you have support for flat currencies?',\n",
              " 'I would like to know which fiat currencies are recognized by your organization.',\n",
              " 'Can you change my currency to EUR?',\n",
              " 'Are you okay with exchanges to EUR?',\n",
              " 'Can I exchange my money for EUR?',\n",
              " 'Can I have money of different country of origin.',\n",
              " ...]"
            ]
          },
          "metadata": {},
          "execution_count": 24
        }
      ]
    },
    {
      "cell_type": "markdown",
      "source": [
        "**Vectorisation using Count Vectoriser**"
      ],
      "metadata": {
        "id": "0sVAO4fsefM_"
      }
    },
    {
      "cell_type": "code",
      "source": [
        "from sklearn.feature_extraction.text import CountVectorizer"
      ],
      "metadata": {
        "id": "eOPducRceeq6"
      },
      "execution_count": 25,
      "outputs": []
    },
    {
      "cell_type": "code",
      "source": [
        "vectorizer = CountVectorizer()\n",
        "X = vectorizer.fit_transform(corpus)"
      ],
      "metadata": {
        "id": "8rlADWufeqBb"
      },
      "execution_count": 26,
      "outputs": []
    },
    {
      "cell_type": "code",
      "source": [
        "vectorizer.get_feature_names_out()"
      ],
      "metadata": {
        "colab": {
          "base_uri": "https://localhost:8080/"
        },
        "id": "SoRfrfCVes9V",
        "outputId": "6d7e2d9b-021c-4561-91c7-c70f4bf5042b"
      },
      "execution_count": 29,
      "outputs": [
        {
          "output_type": "execute_result",
          "data": {
            "text/plain": [
              "array(['00', '000', '10', ..., 'youre', 'yours', 'zero'], dtype=object)"
            ]
          },
          "metadata": {},
          "execution_count": 29
        }
      ]
    },
    {
      "cell_type": "markdown",
      "source": [
        "**TF_IDF**"
      ],
      "metadata": {
        "id": "cCb7IygvgA0O"
      }
    },
    {
      "cell_type": "code",
      "source": [
        "from sklearn.feature_extraction.text import TfidfTransformer"
      ],
      "metadata": {
        "id": "pYb5Vr_AgGxh"
      },
      "execution_count": 30,
      "outputs": []
    },
    {
      "cell_type": "code",
      "source": [
        "transformer = TfidfTransformer(smooth_idf=False)\n",
        "tfidf = transformer.fit_transform(X)\n",
        "print(tfidf.shape ) "
      ],
      "metadata": {
        "colab": {
          "base_uri": "https://localhost:8080/"
        },
        "id": "q0HwzcewgI8x",
        "outputId": "798bbcff-5d30-4e59-e697-88d12697421f"
      },
      "execution_count": 31,
      "outputs": [
        {
          "output_type": "stream",
          "name": "stdout",
          "text": [
            "(10003, 2323)\n"
          ]
        }
      ]
    },
    {
      "cell_type": "markdown",
      "source": [
        "**Clustering**"
      ],
      "metadata": {
        "id": "PxbrJILdgPQh"
      }
    },
    {
      "cell_type": "code",
      "source": [
        "from sklearn.cluster import KMeans"
      ],
      "metadata": {
        "id": "pNuoD7xfgRNM"
      },
      "execution_count": 32,
      "outputs": []
    },
    {
      "cell_type": "code",
      "source": [
        "num_clusters = 77 #Change it according to your data.\n",
        "km = KMeans(n_clusters=num_clusters)\n",
        "km.fit(tfidf)\n",
        "clusters = km.labels_.tolist()"
      ],
      "metadata": {
        "id": "IxePovs9gTU6"
      },
      "execution_count": 33,
      "outputs": []
    },
    {
      "cell_type": "code",
      "source": [
        "print(len(clusters))"
      ],
      "metadata": {
        "colab": {
          "base_uri": "https://localhost:8080/"
        },
        "id": "lPwvpzgku8O1",
        "outputId": "71fdbf6d-1549-40f8-ebdc-7c5fda41af3c"
      },
      "execution_count": 39,
      "outputs": [
        {
          "output_type": "stream",
          "name": "stdout",
          "text": [
            "10003\n"
          ]
        }
      ]
    },
    {
      "cell_type": "markdown",
      "source": [
        "**Convert the ouput to list & then to dataframe**"
      ],
      "metadata": {
        "id": "r3eL5FN7gqcC"
      }
    },
    {
      "cell_type": "code",
      "source": [
        "output_text={'text':corpus, 'Cluster':clusters} #Creating dict having doc with the corresponding cluster number.\n",
        "#frame=pd.DataFrame(output_text,index=[clusters], columns=['ext','Cluster']) # Converting it into a dataframe.\n"
      ],
      "metadata": {
        "id": "SabO51_ngwXe"
      },
      "execution_count": 40,
      "outputs": []
    },
    {
      "cell_type": "code",
      "source": [
        "frame1=pd.DataFrame(output_text,index=[clusters], columns=['text','Cluster']) # Converting it into a dataframe."
      ],
      "metadata": {
        "id": "iobgmxqXvxGB"
      },
      "execution_count": 47,
      "outputs": []
    },
    {
      "cell_type": "code",
      "source": [
        "print(\"\\n\")\n",
        "print(frame) #Print the doc with the labeled cluster number.\n",
        "print(\"\\n\")\n",
        "print(frame['Cluster'].value_counts()) #Print the counts of doc belonging to each cluster."
      ],
      "metadata": {
        "id": "f5BLpsWNg9EI"
      },
      "execution_count": null,
      "outputs": []
    },
    {
      "cell_type": "code",
      "source": [
        "print(\"\\n\")\n",
        "print(frame1) #Print the doc with the labeled cluster number.\n",
        "# print(\"\\n\")\n",
        "# print(frame1['Cluster'].value_counts()) #Print the counts of doc belonging to each cluster."
      ],
      "metadata": {
        "colab": {
          "base_uri": "https://localhost:8080/"
        },
        "id": "YR3cxvAzwOe3",
        "outputId": "b305f083-aa8d-4afe-e510-1f717cfeb52f"
      },
      "execution_count": 46,
      "outputs": [
        {
          "output_type": "stream",
          "name": "stdout",
          "text": [
            "\n",
            "\n",
            "                                                 text  Cluster\n",
            "45                     I am still waiting on my card?       45\n",
            "5   What can I do if my card still hasn't arrived ...        5\n",
            "45  I have been waiting over a week. Is the card s...       45\n",
            "30  Can I track my card while it is in the process...       30\n",
            "54  How do I know if I will get my card, or if it ...       54\n",
            "..                                                ...      ...\n",
            "39             You provide support in what countries?       39\n",
            "39                 What countries are you supporting?       39\n",
            "39                What countries are getting support?       39\n",
            "69                     Are cards available in the EU?       69\n",
            "39                   Which countries are represented?       39\n",
            "\n",
            "[10003 rows x 2 columns]\n"
          ]
        }
      ]
    },
    {
      "cell_type": "markdown",
      "source": [
        "**Save it to Dataframe**"
      ],
      "metadata": {
        "id": "K8bVhoe9hBfc"
      }
    },
    {
      "cell_type": "code",
      "source": [
        "frame.to_csv(\"output_clusters.csv\")"
      ],
      "metadata": {
        "id": "sYPNm3zXhElZ"
      },
      "execution_count": 42,
      "outputs": []
    },
    {
      "cell_type": "code",
      "source": [
        "frame1.to_csv(\"output_clusters_77_Full_Data.csv\")"
      ],
      "metadata": {
        "id": "cKp9c4ERv0F7"
      },
      "execution_count": 50,
      "outputs": []
    },
    {
      "cell_type": "code",
      "source": [
        "frame1.drop(frame1.columns[0])"
      ],
      "metadata": {
        "colab": {
          "base_uri": "https://localhost:8080/",
          "height": 424
        },
        "id": "Pc7GhyRdzIzB",
        "outputId": "f9ae1261-d713-429c-bace-556fa588c5b9"
      },
      "execution_count": 54,
      "outputs": [
        {
          "output_type": "execute_result",
          "data": {
            "text/html": [
              "\n",
              "  <div id=\"df-df547731-470c-467a-ad4f-b33adfb9425d\">\n",
              "    <div class=\"colab-df-container\">\n",
              "      <div>\n",
              "<style scoped>\n",
              "    .dataframe tbody tr th:only-of-type {\n",
              "        vertical-align: middle;\n",
              "    }\n",
              "\n",
              "    .dataframe tbody tr th {\n",
              "        vertical-align: top;\n",
              "    }\n",
              "\n",
              "    .dataframe thead th {\n",
              "        text-align: right;\n",
              "    }\n",
              "</style>\n",
              "<table border=\"1\" class=\"dataframe\">\n",
              "  <thead>\n",
              "    <tr style=\"text-align: right;\">\n",
              "      <th></th>\n",
              "      <th>text</th>\n",
              "      <th>Cluster</th>\n",
              "    </tr>\n",
              "  </thead>\n",
              "  <tbody>\n",
              "    <tr>\n",
              "      <th>45</th>\n",
              "      <td>I am still waiting on my card?</td>\n",
              "      <td>45</td>\n",
              "    </tr>\n",
              "    <tr>\n",
              "      <th>5</th>\n",
              "      <td>What can I do if my card still hasn't arrived ...</td>\n",
              "      <td>5</td>\n",
              "    </tr>\n",
              "    <tr>\n",
              "      <th>45</th>\n",
              "      <td>I have been waiting over a week. Is the card s...</td>\n",
              "      <td>45</td>\n",
              "    </tr>\n",
              "    <tr>\n",
              "      <th>30</th>\n",
              "      <td>Can I track my card while it is in the process...</td>\n",
              "      <td>30</td>\n",
              "    </tr>\n",
              "    <tr>\n",
              "      <th>54</th>\n",
              "      <td>How do I know if I will get my card, or if it ...</td>\n",
              "      <td>54</td>\n",
              "    </tr>\n",
              "    <tr>\n",
              "      <th>...</th>\n",
              "      <td>...</td>\n",
              "      <td>...</td>\n",
              "    </tr>\n",
              "    <tr>\n",
              "      <th>39</th>\n",
              "      <td>You provide support in what countries?</td>\n",
              "      <td>39</td>\n",
              "    </tr>\n",
              "    <tr>\n",
              "      <th>39</th>\n",
              "      <td>What countries are you supporting?</td>\n",
              "      <td>39</td>\n",
              "    </tr>\n",
              "    <tr>\n",
              "      <th>39</th>\n",
              "      <td>What countries are getting support?</td>\n",
              "      <td>39</td>\n",
              "    </tr>\n",
              "    <tr>\n",
              "      <th>69</th>\n",
              "      <td>Are cards available in the EU?</td>\n",
              "      <td>69</td>\n",
              "    </tr>\n",
              "    <tr>\n",
              "      <th>39</th>\n",
              "      <td>Which countries are represented?</td>\n",
              "      <td>39</td>\n",
              "    </tr>\n",
              "  </tbody>\n",
              "</table>\n",
              "<p>10003 rows × 2 columns</p>\n",
              "</div>\n",
              "      <button class=\"colab-df-convert\" onclick=\"convertToInteractive('df-df547731-470c-467a-ad4f-b33adfb9425d')\"\n",
              "              title=\"Convert this dataframe to an interactive table.\"\n",
              "              style=\"display:none;\">\n",
              "        \n",
              "  <svg xmlns=\"http://www.w3.org/2000/svg\" height=\"24px\"viewBox=\"0 0 24 24\"\n",
              "       width=\"24px\">\n",
              "    <path d=\"M0 0h24v24H0V0z\" fill=\"none\"/>\n",
              "    <path d=\"M18.56 5.44l.94 2.06.94-2.06 2.06-.94-2.06-.94-.94-2.06-.94 2.06-2.06.94zm-11 1L8.5 8.5l.94-2.06 2.06-.94-2.06-.94L8.5 2.5l-.94 2.06-2.06.94zm10 10l.94 2.06.94-2.06 2.06-.94-2.06-.94-.94-2.06-.94 2.06-2.06.94z\"/><path d=\"M17.41 7.96l-1.37-1.37c-.4-.4-.92-.59-1.43-.59-.52 0-1.04.2-1.43.59L10.3 9.45l-7.72 7.72c-.78.78-.78 2.05 0 2.83L4 21.41c.39.39.9.59 1.41.59.51 0 1.02-.2 1.41-.59l7.78-7.78 2.81-2.81c.8-.78.8-2.07 0-2.86zM5.41 20L4 18.59l7.72-7.72 1.47 1.35L5.41 20z\"/>\n",
              "  </svg>\n",
              "      </button>\n",
              "      \n",
              "  <style>\n",
              "    .colab-df-container {\n",
              "      display:flex;\n",
              "      flex-wrap:wrap;\n",
              "      gap: 12px;\n",
              "    }\n",
              "\n",
              "    .colab-df-convert {\n",
              "      background-color: #E8F0FE;\n",
              "      border: none;\n",
              "      border-radius: 50%;\n",
              "      cursor: pointer;\n",
              "      display: none;\n",
              "      fill: #1967D2;\n",
              "      height: 32px;\n",
              "      padding: 0 0 0 0;\n",
              "      width: 32px;\n",
              "    }\n",
              "\n",
              "    .colab-df-convert:hover {\n",
              "      background-color: #E2EBFA;\n",
              "      box-shadow: 0px 1px 2px rgba(60, 64, 67, 0.3), 0px 1px 3px 1px rgba(60, 64, 67, 0.15);\n",
              "      fill: #174EA6;\n",
              "    }\n",
              "\n",
              "    [theme=dark] .colab-df-convert {\n",
              "      background-color: #3B4455;\n",
              "      fill: #D2E3FC;\n",
              "    }\n",
              "\n",
              "    [theme=dark] .colab-df-convert:hover {\n",
              "      background-color: #434B5C;\n",
              "      box-shadow: 0px 1px 3px 1px rgba(0, 0, 0, 0.15);\n",
              "      filter: drop-shadow(0px 1px 2px rgba(0, 0, 0, 0.3));\n",
              "      fill: #FFFFFF;\n",
              "    }\n",
              "  </style>\n",
              "\n",
              "      <script>\n",
              "        const buttonEl =\n",
              "          document.querySelector('#df-df547731-470c-467a-ad4f-b33adfb9425d button.colab-df-convert');\n",
              "        buttonEl.style.display =\n",
              "          google.colab.kernel.accessAllowed ? 'block' : 'none';\n",
              "\n",
              "        async function convertToInteractive(key) {\n",
              "          const element = document.querySelector('#df-df547731-470c-467a-ad4f-b33adfb9425d');\n",
              "          const dataTable =\n",
              "            await google.colab.kernel.invokeFunction('convertToInteractive',\n",
              "                                                     [key], {});\n",
              "          if (!dataTable) return;\n",
              "\n",
              "          const docLinkHtml = 'Like what you see? Visit the ' +\n",
              "            '<a target=\"_blank\" href=https://colab.research.google.com/notebooks/data_table.ipynb>data table notebook</a>'\n",
              "            + ' to learn more about interactive tables.';\n",
              "          element.innerHTML = '';\n",
              "          dataTable['output_type'] = 'display_data';\n",
              "          await google.colab.output.renderOutput(dataTable, element);\n",
              "          const docLink = document.createElement('div');\n",
              "          docLink.innerHTML = docLinkHtml;\n",
              "          element.appendChild(docLink);\n",
              "        }\n",
              "      </script>\n",
              "    </div>\n",
              "  </div>\n",
              "  "
            ],
            "text/plain": [
              "                                                 text  Cluster\n",
              "45                     I am still waiting on my card?       45\n",
              "5   What can I do if my card still hasn't arrived ...        5\n",
              "45  I have been waiting over a week. Is the card s...       45\n",
              "30  Can I track my card while it is in the process...       30\n",
              "54  How do I know if I will get my card, or if it ...       54\n",
              "..                                                ...      ...\n",
              "39             You provide support in what countries?       39\n",
              "39                 What countries are you supporting?       39\n",
              "39                What countries are getting support?       39\n",
              "69                     Are cards available in the EU?       69\n",
              "39                   Which countries are represented?       39\n",
              "\n",
              "[10003 rows x 2 columns]"
            ]
          },
          "metadata": {},
          "execution_count": 54
        }
      ]
    },
    {
      "cell_type": "markdown",
      "metadata": {
        "id": "-b5i-POBRm3S"
      },
      "source": [
        "**Output Text Encoding**"
      ]
    },
    {
      "cell_type": "code",
      "execution_count": 16,
      "metadata": {
        "colab": {
          "base_uri": "https://localhost:8080/",
          "height": 424
        },
        "id": "CqxcNa8AQiUV",
        "outputId": "2a619d23-ba61-40bf-af3c-bb716c8eb0d1"
      },
      "outputs": [
        {
          "output_type": "execute_result",
          "data": {
            "text/html": [
              "\n",
              "  <div id=\"df-915af8f3-be2c-4383-b82a-45e8291d5d64\">\n",
              "    <div class=\"colab-df-container\">\n",
              "      <div>\n",
              "<style scoped>\n",
              "    .dataframe tbody tr th:only-of-type {\n",
              "        vertical-align: middle;\n",
              "    }\n",
              "\n",
              "    .dataframe tbody tr th {\n",
              "        vertical-align: top;\n",
              "    }\n",
              "\n",
              "    .dataframe thead th {\n",
              "        text-align: right;\n",
              "    }\n",
              "</style>\n",
              "<table border=\"1\" class=\"dataframe\">\n",
              "  <thead>\n",
              "    <tr style=\"text-align: right;\">\n",
              "      <th></th>\n",
              "      <th>text</th>\n",
              "      <th>label</th>\n",
              "      <th>label_id</th>\n",
              "    </tr>\n",
              "  </thead>\n",
              "  <tbody>\n",
              "    <tr>\n",
              "      <th>100</th>\n",
              "      <td>can you share card tracking number?</td>\n",
              "      <td>card_arrival</td>\n",
              "      <td>12</td>\n",
              "    </tr>\n",
              "    <tr>\n",
              "      <th>101</th>\n",
              "      <td>I have not received my card and it's been a we...</td>\n",
              "      <td>card_arrival</td>\n",
              "      <td>12</td>\n",
              "    </tr>\n",
              "    <tr>\n",
              "      <th>102</th>\n",
              "      <td>Is there a way I can check on the card on rout...</td>\n",
              "      <td>card_arrival</td>\n",
              "      <td>12</td>\n",
              "    </tr>\n",
              "    <tr>\n",
              "      <th>103</th>\n",
              "      <td>When will my new card arrive?</td>\n",
              "      <td>card_arrival</td>\n",
              "      <td>12</td>\n",
              "    </tr>\n",
              "    <tr>\n",
              "      <th>104</th>\n",
              "      <td>Why haven't I received my new card yet?</td>\n",
              "      <td>card_arrival</td>\n",
              "      <td>12</td>\n",
              "    </tr>\n",
              "    <tr>\n",
              "      <th>...</th>\n",
              "      <td>...</td>\n",
              "      <td>...</td>\n",
              "      <td>...</td>\n",
              "    </tr>\n",
              "    <tr>\n",
              "      <th>195</th>\n",
              "      <td>I found my lost card. Am I still able to use it?</td>\n",
              "      <td>card_linking</td>\n",
              "      <td>14</td>\n",
              "    </tr>\n",
              "    <tr>\n",
              "      <th>196</th>\n",
              "      <td>Will I need a new card or can I put my old car...</td>\n",
              "      <td>card_linking</td>\n",
              "      <td>14</td>\n",
              "    </tr>\n",
              "    <tr>\n",
              "      <th>197</th>\n",
              "      <td>Is there a way to link the card i just got?</td>\n",
              "      <td>card_linking</td>\n",
              "      <td>14</td>\n",
              "    </tr>\n",
              "    <tr>\n",
              "      <th>198</th>\n",
              "      <td>How do I add a new card?</td>\n",
              "      <td>card_linking</td>\n",
              "      <td>14</td>\n",
              "    </tr>\n",
              "    <tr>\n",
              "      <th>199</th>\n",
              "      <td>I want to reactivate my card, I found it after...</td>\n",
              "      <td>card_linking</td>\n",
              "      <td>14</td>\n",
              "    </tr>\n",
              "  </tbody>\n",
              "</table>\n",
              "<p>100 rows × 3 columns</p>\n",
              "</div>\n",
              "      <button class=\"colab-df-convert\" onclick=\"convertToInteractive('df-915af8f3-be2c-4383-b82a-45e8291d5d64')\"\n",
              "              title=\"Convert this dataframe to an interactive table.\"\n",
              "              style=\"display:none;\">\n",
              "        \n",
              "  <svg xmlns=\"http://www.w3.org/2000/svg\" height=\"24px\"viewBox=\"0 0 24 24\"\n",
              "       width=\"24px\">\n",
              "    <path d=\"M0 0h24v24H0V0z\" fill=\"none\"/>\n",
              "    <path d=\"M18.56 5.44l.94 2.06.94-2.06 2.06-.94-2.06-.94-.94-2.06-.94 2.06-2.06.94zm-11 1L8.5 8.5l.94-2.06 2.06-.94-2.06-.94L8.5 2.5l-.94 2.06-2.06.94zm10 10l.94 2.06.94-2.06 2.06-.94-2.06-.94-.94-2.06-.94 2.06-2.06.94z\"/><path d=\"M17.41 7.96l-1.37-1.37c-.4-.4-.92-.59-1.43-.59-.52 0-1.04.2-1.43.59L10.3 9.45l-7.72 7.72c-.78.78-.78 2.05 0 2.83L4 21.41c.39.39.9.59 1.41.59.51 0 1.02-.2 1.41-.59l7.78-7.78 2.81-2.81c.8-.78.8-2.07 0-2.86zM5.41 20L4 18.59l7.72-7.72 1.47 1.35L5.41 20z\"/>\n",
              "  </svg>\n",
              "      </button>\n",
              "      \n",
              "  <style>\n",
              "    .colab-df-container {\n",
              "      display:flex;\n",
              "      flex-wrap:wrap;\n",
              "      gap: 12px;\n",
              "    }\n",
              "\n",
              "    .colab-df-convert {\n",
              "      background-color: #E8F0FE;\n",
              "      border: none;\n",
              "      border-radius: 50%;\n",
              "      cursor: pointer;\n",
              "      display: none;\n",
              "      fill: #1967D2;\n",
              "      height: 32px;\n",
              "      padding: 0 0 0 0;\n",
              "      width: 32px;\n",
              "    }\n",
              "\n",
              "    .colab-df-convert:hover {\n",
              "      background-color: #E2EBFA;\n",
              "      box-shadow: 0px 1px 2px rgba(60, 64, 67, 0.3), 0px 1px 3px 1px rgba(60, 64, 67, 0.15);\n",
              "      fill: #174EA6;\n",
              "    }\n",
              "\n",
              "    [theme=dark] .colab-df-convert {\n",
              "      background-color: #3B4455;\n",
              "      fill: #D2E3FC;\n",
              "    }\n",
              "\n",
              "    [theme=dark] .colab-df-convert:hover {\n",
              "      background-color: #434B5C;\n",
              "      box-shadow: 0px 1px 3px 1px rgba(0, 0, 0, 0.15);\n",
              "      filter: drop-shadow(0px 1px 2px rgba(0, 0, 0, 0.3));\n",
              "      fill: #FFFFFF;\n",
              "    }\n",
              "  </style>\n",
              "\n",
              "      <script>\n",
              "        const buttonEl =\n",
              "          document.querySelector('#df-915af8f3-be2c-4383-b82a-45e8291d5d64 button.colab-df-convert');\n",
              "        buttonEl.style.display =\n",
              "          google.colab.kernel.accessAllowed ? 'block' : 'none';\n",
              "\n",
              "        async function convertToInteractive(key) {\n",
              "          const element = document.querySelector('#df-915af8f3-be2c-4383-b82a-45e8291d5d64');\n",
              "          const dataTable =\n",
              "            await google.colab.kernel.invokeFunction('convertToInteractive',\n",
              "                                                     [key], {});\n",
              "          if (!dataTable) return;\n",
              "\n",
              "          const docLinkHtml = 'Like what you see? Visit the ' +\n",
              "            '<a target=\"_blank\" href=https://colab.research.google.com/notebooks/data_table.ipynb>data table notebook</a>'\n",
              "            + ' to learn more about interactive tables.';\n",
              "          element.innerHTML = '';\n",
              "          dataTable['output_type'] = 'display_data';\n",
              "          await google.colab.output.renderOutput(dataTable, element);\n",
              "          const docLink = document.createElement('div');\n",
              "          docLink.innerHTML = docLinkHtml;\n",
              "          element.appendChild(docLink);\n",
              "        }\n",
              "      </script>\n",
              "    </div>\n",
              "  </div>\n",
              "  "
            ],
            "text/plain": [
              "                                                  text         label  label_id\n",
              "100                can you share card tracking number?  card_arrival        12\n",
              "101  I have not received my card and it's been a we...  card_arrival        12\n",
              "102  Is there a way I can check on the card on rout...  card_arrival        12\n",
              "103                      When will my new card arrive?  card_arrival        12\n",
              "104            Why haven't I received my new card yet?  card_arrival        12\n",
              "..                                                 ...           ...       ...\n",
              "195   I found my lost card. Am I still able to use it?  card_linking        14\n",
              "196  Will I need a new card or can I put my old car...  card_linking        14\n",
              "197        Is there a way to link the card i just got?  card_linking        14\n",
              "198                           How do I add a new card?  card_linking        14\n",
              "199  I want to reactivate my card, I found it after...  card_linking        14\n",
              "\n",
              "[100 rows x 3 columns]"
            ]
          },
          "metadata": {},
          "execution_count": 16
        }
      ],
      "source": [
        "from pandas.core.dtypes.cast import convert_dtypes\n",
        "train_data['label'] =  train_data['label'].astype('category')\n",
        "train_data['label_id'] = train_data['label'].cat.codes\n",
        "train_data[100:200]\n"
      ]
    },
    {
      "cell_type": "code",
      "execution_count": 18,
      "metadata": {
        "colab": {
          "base_uri": "https://localhost:8080/"
        },
        "id": "4czKTBS3R-Kn",
        "outputId": "7d3a699d-8ff1-4507-88f5-9aa55ec7f69d"
      },
      "outputs": [
        {
          "output_type": "stream",
          "name": "stdout",
          "text": [
            "<class 'pandas.core.frame.DataFrame'>\n",
            "RangeIndex: 10003 entries, 0 to 10002\n",
            "Data columns (total 3 columns):\n",
            " #   Column    Non-Null Count  Dtype   \n",
            "---  ------    --------------  -----   \n",
            " 0   text      10003 non-null  object  \n",
            " 1   label     10003 non-null  category\n",
            " 2   label_id  10003 non-null  int8    \n",
            "dtypes: category(1), int8(1), object(1)\n",
            "memory usage: 100.5+ KB\n"
          ]
        }
      ],
      "source": [
        "train_data.info()"
      ]
    },
    {
      "cell_type": "code",
      "source": [
        "dataplotencoded = train_data['label_id']\n",
        "figure2 = dataplotencoded.value_counts().sort_index().plot.bar()\n",
        "figure2.plot(figsize = (100,100))"
      ],
      "metadata": {
        "colab": {
          "base_uri": "https://localhost:8080/",
          "height": 286
        },
        "id": "9grZdfghASlL",
        "outputId": "19cc4626-f094-4f16-f4b0-2f1095408b9c"
      },
      "execution_count": 20,
      "outputs": [
        {
          "output_type": "execute_result",
          "data": {
            "text/plain": [
              "[]"
            ]
          },
          "metadata": {},
          "execution_count": 20
        },
        {
          "output_type": "display_data",
          "data": {
            "image/png": "[encoded data removed]",
            "text/plain": [
              "<Figure size 432x288 with 1 Axes>"
            ]
          },
          "metadata": {
            "needs_background": "light"
          }
        }
      ]
    },
    {
      "cell_type": "code",
      "source": [
        "fig1 = plt.hist(dataplotencoded,  edgecolor=\"black\",bins = 77)\n",
        "plt.title(\"Histogram of the encoded Label data\")\n",
        "plt.xlabel(\"Label ID\")\n",
        "plt.ylabel(\"Count\")\n",
        "plt.show()"
      ],
      "metadata": {
        "colab": {
          "base_uri": "https://localhost:8080/",
          "height": 295
        },
        "id": "jM3JGsALBHYG",
        "outputId": "3f663a23-8863-4885-e5d4-08ccfa32f8d5"
      },
      "execution_count": 32,
      "outputs": [
        {
          "output_type": "display_data",
          "data": {
            "image/png": "[encoded data removed]",
            "text/plain": [
              "<Figure size 432x288 with 1 Axes>"
            ]
          },
          "metadata": {
            "needs_background": "light"
          }
        }
      ]
    },
    {
      "cell_type": "code",
      "source": [
        "fig2 = plt.hist(dataplot)"
      ],
      "metadata": {
        "colab": {
          "base_uri": "https://localhost:8080/",
          "height": 266
        },
        "id": "-c0GEP-wBSZI",
        "outputId": "b484945a-de2f-4ef4-fe85-c70efe80f3e1"
      },
      "execution_count": 22,
      "outputs": [
        {
          "output_type": "display_data",
          "data": {
            "image/png": "[encoded data removed]",
            "text/plain": [
              "<Figure size 432x288 with 1 Axes>"
            ]
          },
          "metadata": {
            "needs_background": "light"
          }
        }
      ]
    },
    {
      "cell_type": "markdown",
      "metadata": {
        "id": "sPEbsZrIRjTF"
      },
      "source": [
        "***Save the Label encoding as Dictioanry***"
      ]
    },
    {
      "cell_type": "code",
      "execution_count": 17,
      "metadata": {
        "colab": {
          "base_uri": "https://localhost:8080/"
        },
        "id": "0ojwzJ5MS9X2",
        "outputId": "bded431d-900b-433e-998e-1323f817b8df"
      },
      "outputs": [
        {
          "output_type": "execute_result",
          "data": {
            "text/plain": [
              "{0: 'Refund_not_showing_up',\n",
              " 1: 'activate_my_card',\n",
              " 2: 'age_limit',\n",
              " 3: 'apple_pay_or_google_pay',\n",
              " 4: 'atm_support',\n",
              " 5: 'automatic_top_up',\n",
              " 6: 'balance_not_updated_after_bank_transfer',\n",
              " 7: 'balance_not_updated_after_cheque_or_cash_deposit',\n",
              " 8: 'beneficiary_not_allowed',\n",
              " 9: 'cancel_transfer',\n",
              " 10: 'card_about_to_expire',\n",
              " 11: 'card_acceptance',\n",
              " 12: 'card_arrival',\n",
              " 13: 'card_delivery_estimate',\n",
              " 14: 'card_linking',\n",
              " 15: 'card_not_working',\n",
              " 16: 'card_payment_fee_charged',\n",
              " 17: 'card_payment_not_recognised',\n",
              " 18: 'card_payment_wrong_exchange_rate',\n",
              " 19: 'card_swallowed',\n",
              " 20: 'cash_withdrawal_charge',\n",
              " 21: 'cash_withdrawal_not_recognised',\n",
              " 22: 'change_pin',\n",
              " 23: 'compromised_card',\n",
              " 24: 'contactless_not_working',\n",
              " 25: 'country_support',\n",
              " 26: 'declined_card_payment',\n",
              " 27: 'declined_cash_withdrawal',\n",
              " 28: 'declined_transfer',\n",
              " 29: 'direct_debit_payment_not_recognised',\n",
              " 30: 'disposable_card_limits',\n",
              " 31: 'edit_personal_details',\n",
              " 32: 'exchange_charge',\n",
              " 33: 'exchange_rate',\n",
              " 34: 'exchange_via_app',\n",
              " 35: 'extra_charge_on_statement',\n",
              " 36: 'failed_transfer',\n",
              " 37: 'fiat_currency_support',\n",
              " 38: 'get_disposable_virtual_card',\n",
              " 39: 'get_physical_card',\n",
              " 40: 'getting_spare_card',\n",
              " 41: 'getting_virtual_card',\n",
              " 42: 'lost_or_stolen_card',\n",
              " 43: 'lost_or_stolen_phone',\n",
              " 44: 'order_physical_card',\n",
              " 45: 'passcode_forgotten',\n",
              " 46: 'pending_card_payment',\n",
              " 47: 'pending_cash_withdrawal',\n",
              " 48: 'pending_top_up',\n",
              " 49: 'pending_transfer',\n",
              " 50: 'pin_blocked',\n",
              " 51: 'receiving_money',\n",
              " 52: 'request_refund',\n",
              " 53: 'reverted_card_payment?',\n",
              " 54: 'supported_cards_and_currencies',\n",
              " 55: 'terminate_account',\n",
              " 56: 'top_up_by_bank_transfer_charge',\n",
              " 57: 'top_up_by_card_charge',\n",
              " 58: 'top_up_by_cash_or_cheque',\n",
              " 59: 'top_up_failed',\n",
              " 60: 'top_up_limits',\n",
              " 61: 'top_up_reverted',\n",
              " 62: 'topping_up_by_card',\n",
              " 63: 'transaction_charged_twice',\n",
              " 64: 'transfer_fee_charged',\n",
              " 65: 'transfer_into_account',\n",
              " 66: 'transfer_not_received_by_recipient',\n",
              " 67: 'transfer_timing',\n",
              " 68: 'unable_to_verify_identity',\n",
              " 69: 'verify_my_identity',\n",
              " 70: 'verify_source_of_funds',\n",
              " 71: 'verify_top_up',\n",
              " 72: 'virtual_card_not_working',\n",
              " 73: 'visa_or_mastercard',\n",
              " 74: 'why_verify_identity',\n",
              " 75: 'wrong_amount_of_cash_received',\n",
              " 76: 'wrong_exchange_rate_for_cash_withdrawal'}"
            ]
          },
          "metadata": {},
          "execution_count": 17
        }
      ],
      "source": [
        "id_to_category = pd.Series(train_data.label.values, index = train_data.label_id).to_dict()\n",
        "id_to_category"
      ]
    },
    {
      "cell_type": "code",
      "execution_count": 33,
      "metadata": {
        "id": "rtDwrmHbUIl_"
      },
      "outputs": [],
      "source": [
        "import json\n",
        "with open('categorymappingJSON.txt','w') as convert_file:\n",
        "      convert_file.write(json.dumps(id_to_category))"
      ]
    },
    {
      "cell_type": "markdown",
      "source": [
        "**Pool separation**"
      ],
      "metadata": {
        "id": "2pIxkRu_J1xZ"
      }
    },
    {
      "cell_type": "code",
      "source": [
        "# assemble initial data\n",
        "n_initial = 8000\n",
        "pool_data = train_data.iloc[-2000:]\n",
        "#training_data = train_data.iloc[:n_initial]\n",
        "\n",
        "#training_data.shape\n"
      ],
      "metadata": {
        "id": "oOTV50EHG6TI"
      },
      "execution_count": null,
      "outputs": []
    },
    {
      "cell_type": "code",
      "source": [
        "#df.iloc[-3:]\n",
        "pool_data.shape\n"
      ],
      "metadata": {
        "colab": {
          "base_uri": "https://localhost:8080/"
        },
        "id": "LpmcO7mwKFvV",
        "outputId": "f6f32ef2-1768-4c0c-8099-e240426182ff"
      },
      "execution_count": null,
      "outputs": [
        {
          "output_type": "execute_result",
          "data": {
            "text/plain": [
              "(2000, 3)"
            ]
          },
          "metadata": {},
          "execution_count": 12
        }
      ]
    },
    {
      "cell_type": "code",
      "source": [
        "pool_data.head()"
      ],
      "metadata": {
        "colab": {
          "base_uri": "https://localhost:8080/",
          "height": 206
        },
        "id": "a9NfboEaO0m5",
        "outputId": "888c4bf8-2067-461f-85cf-daa898d587de"
      },
      "execution_count": null,
      "outputs": [
        {
          "output_type": "execute_result",
          "data": {
            "text/html": [
              "\n",
              "  <div id=\"df-2c12474f-1738-45a0-844c-922f09da9dfd\">\n",
              "    <div class=\"colab-df-container\">\n",
              "      <div>\n",
              "<style scoped>\n",
              "    .dataframe tbody tr th:only-of-type {\n",
              "        vertical-align: middle;\n",
              "    }\n",
              "\n",
              "    .dataframe tbody tr th {\n",
              "        vertical-align: top;\n",
              "    }\n",
              "\n",
              "    .dataframe thead th {\n",
              "        text-align: right;\n",
              "    }\n",
              "</style>\n",
              "<table border=\"1\" class=\"dataframe\">\n",
              "  <thead>\n",
              "    <tr style=\"text-align: right;\">\n",
              "      <th></th>\n",
              "      <th>text</th>\n",
              "      <th>label</th>\n",
              "      <th>label_id</th>\n",
              "    </tr>\n",
              "  </thead>\n",
              "  <tbody>\n",
              "    <tr>\n",
              "      <th>8003</th>\n",
              "      <td>Where can I deposit cash to top up?</td>\n",
              "      <td>top_up_by_cash_or_cheque</td>\n",
              "      <td>58</td>\n",
              "    </tr>\n",
              "    <tr>\n",
              "      <th>8004</th>\n",
              "      <td>Is there an option to top up with a cheque?</td>\n",
              "      <td>top_up_by_cash_or_cheque</td>\n",
              "      <td>58</td>\n",
              "    </tr>\n",
              "    <tr>\n",
              "      <th>8005</th>\n",
              "      <td>Help, I need to top up my account. Where do I ...</td>\n",
              "      <td>top_up_by_cash_or_cheque</td>\n",
              "      <td>58</td>\n",
              "    </tr>\n",
              "    <tr>\n",
              "      <th>8006</th>\n",
              "      <td>I'll send a check to top up my account</td>\n",
              "      <td>top_up_by_cash_or_cheque</td>\n",
              "      <td>58</td>\n",
              "    </tr>\n",
              "    <tr>\n",
              "      <th>8007</th>\n",
              "      <td>Is it possible for me to top up with a cheque?</td>\n",
              "      <td>top_up_by_cash_or_cheque</td>\n",
              "      <td>58</td>\n",
              "    </tr>\n",
              "  </tbody>\n",
              "</table>\n",
              "</div>\n",
              "      <button class=\"colab-df-convert\" onclick=\"convertToInteractive('df-2c12474f-1738-45a0-844c-922f09da9dfd')\"\n",
              "              title=\"Convert this dataframe to an interactive table.\"\n",
              "              style=\"display:none;\">\n",
              "        \n",
              "  <svg xmlns=\"http://www.w3.org/2000/svg\" height=\"24px\"viewBox=\"0 0 24 24\"\n",
              "       width=\"24px\">\n",
              "    <path d=\"M0 0h24v24H0V0z\" fill=\"none\"/>\n",
              "    <path d=\"M18.56 5.44l.94 2.06.94-2.06 2.06-.94-2.06-.94-.94-2.06-.94 2.06-2.06.94zm-11 1L8.5 8.5l.94-2.06 2.06-.94-2.06-.94L8.5 2.5l-.94 2.06-2.06.94zm10 10l.94 2.06.94-2.06 2.06-.94-2.06-.94-.94-2.06-.94 2.06-2.06.94z\"/><path d=\"M17.41 7.96l-1.37-1.37c-.4-.4-.92-.59-1.43-.59-.52 0-1.04.2-1.43.59L10.3 9.45l-7.72 7.72c-.78.78-.78 2.05 0 2.83L4 21.41c.39.39.9.59 1.41.59.51 0 1.02-.2 1.41-.59l7.78-7.78 2.81-2.81c.8-.78.8-2.07 0-2.86zM5.41 20L4 18.59l7.72-7.72 1.47 1.35L5.41 20z\"/>\n",
              "  </svg>\n",
              "      </button>\n",
              "      \n",
              "  <style>\n",
              "    .colab-df-container {\n",
              "      display:flex;\n",
              "      flex-wrap:wrap;\n",
              "      gap: 12px;\n",
              "    }\n",
              "\n",
              "    .colab-df-convert {\n",
              "      background-color: #E8F0FE;\n",
              "      border: none;\n",
              "      border-radius: 50%;\n",
              "      cursor: pointer;\n",
              "      display: none;\n",
              "      fill: #1967D2;\n",
              "      height: 32px;\n",
              "      padding: 0 0 0 0;\n",
              "      width: 32px;\n",
              "    }\n",
              "\n",
              "    .colab-df-convert:hover {\n",
              "      background-color: #E2EBFA;\n",
              "      box-shadow: 0px 1px 2px rgba(60, 64, 67, 0.3), 0px 1px 3px 1px rgba(60, 64, 67, 0.15);\n",
              "      fill: #174EA6;\n",
              "    }\n",
              "\n",
              "    [theme=dark] .colab-df-convert {\n",
              "      background-color: #3B4455;\n",
              "      fill: #D2E3FC;\n",
              "    }\n",
              "\n",
              "    [theme=dark] .colab-df-convert:hover {\n",
              "      background-color: #434B5C;\n",
              "      box-shadow: 0px 1px 3px 1px rgba(0, 0, 0, 0.15);\n",
              "      filter: drop-shadow(0px 1px 2px rgba(0, 0, 0, 0.3));\n",
              "      fill: #FFFFFF;\n",
              "    }\n",
              "  </style>\n",
              "\n",
              "      <script>\n",
              "        const buttonEl =\n",
              "          document.querySelector('#df-2c12474f-1738-45a0-844c-922f09da9dfd button.colab-df-convert');\n",
              "        buttonEl.style.display =\n",
              "          google.colab.kernel.accessAllowed ? 'block' : 'none';\n",
              "\n",
              "        async function convertToInteractive(key) {\n",
              "          const element = document.querySelector('#df-2c12474f-1738-45a0-844c-922f09da9dfd');\n",
              "          const dataTable =\n",
              "            await google.colab.kernel.invokeFunction('convertToInteractive',\n",
              "                                                     [key], {});\n",
              "          if (!dataTable) return;\n",
              "\n",
              "          const docLinkHtml = 'Like what you see? Visit the ' +\n",
              "            '<a target=\"_blank\" href=https://colab.research.google.com/notebooks/data_table.ipynb>data table notebook</a>'\n",
              "            + ' to learn more about interactive tables.';\n",
              "          element.innerHTML = '';\n",
              "          dataTable['output_type'] = 'display_data';\n",
              "          await google.colab.output.renderOutput(dataTable, element);\n",
              "          const docLink = document.createElement('div');\n",
              "          docLink.innerHTML = docLinkHtml;\n",
              "          element.appendChild(docLink);\n",
              "        }\n",
              "      </script>\n",
              "    </div>\n",
              "  </div>\n",
              "  "
            ],
            "text/plain": [
              "                                                   text  \\\n",
              "8003                Where can I deposit cash to top up?   \n",
              "8004        Is there an option to top up with a cheque?   \n",
              "8005  Help, I need to top up my account. Where do I ...   \n",
              "8006             I'll send a check to top up my account   \n",
              "8007     Is it possible for me to top up with a cheque?   \n",
              "\n",
              "                         label  label_id  \n",
              "8003  top_up_by_cash_or_cheque        58  \n",
              "8004  top_up_by_cash_or_cheque        58  \n",
              "8005  top_up_by_cash_or_cheque        58  \n",
              "8006  top_up_by_cash_or_cheque        58  \n",
              "8007  top_up_by_cash_or_cheque        58  "
            ]
          },
          "metadata": {},
          "execution_count": 13
        }
      ]
    },
    {
      "cell_type": "code",
      "source": [
        "training_data = train_data.iloc[:8000]\n",
        "training_data.shape"
      ],
      "metadata": {
        "colab": {
          "base_uri": "https://localhost:8080/"
        },
        "id": "x5Cf6i-BQ_BW",
        "outputId": "1f1fbe5e-a421-4174-814c-787e2a3b716e"
      },
      "execution_count": null,
      "outputs": [
        {
          "output_type": "execute_result",
          "data": {
            "text/plain": [
              "(8000, 3)"
            ]
          },
          "metadata": {},
          "execution_count": 14
        }
      ]
    },
    {
      "cell_type": "code",
      "source": [
        "training_data"
      ],
      "metadata": {
        "colab": {
          "base_uri": "https://localhost:8080/",
          "height": 424
        },
        "id": "QLTe2GceROD3",
        "outputId": "903d07fd-1bdd-4718-f809-b47470af8d91"
      },
      "execution_count": null,
      "outputs": [
        {
          "output_type": "execute_result",
          "data": {
            "text/html": [
              "\n",
              "  <div id=\"df-48596a1e-2468-407a-9bd8-2fd1d0d0c943\">\n",
              "    <div class=\"colab-df-container\">\n",
              "      <div>\n",
              "<style scoped>\n",
              "    .dataframe tbody tr th:only-of-type {\n",
              "        vertical-align: middle;\n",
              "    }\n",
              "\n",
              "    .dataframe tbody tr th {\n",
              "        vertical-align: top;\n",
              "    }\n",
              "\n",
              "    .dataframe thead th {\n",
              "        text-align: right;\n",
              "    }\n",
              "</style>\n",
              "<table border=\"1\" class=\"dataframe\">\n",
              "  <thead>\n",
              "    <tr style=\"text-align: right;\">\n",
              "      <th></th>\n",
              "      <th>text</th>\n",
              "      <th>label</th>\n",
              "      <th>label_id</th>\n",
              "    </tr>\n",
              "  </thead>\n",
              "  <tbody>\n",
              "    <tr>\n",
              "      <th>0</th>\n",
              "      <td>I am still waiting on my card?</td>\n",
              "      <td>card_arrival</td>\n",
              "      <td>12</td>\n",
              "    </tr>\n",
              "    <tr>\n",
              "      <th>1</th>\n",
              "      <td>What can I do if my card still hasn't arrived ...</td>\n",
              "      <td>card_arrival</td>\n",
              "      <td>12</td>\n",
              "    </tr>\n",
              "    <tr>\n",
              "      <th>2</th>\n",
              "      <td>I have been waiting over a week. Is the card s...</td>\n",
              "      <td>card_arrival</td>\n",
              "      <td>12</td>\n",
              "    </tr>\n",
              "    <tr>\n",
              "      <th>3</th>\n",
              "      <td>Can I track my card while it is in the process...</td>\n",
              "      <td>card_arrival</td>\n",
              "      <td>12</td>\n",
              "    </tr>\n",
              "    <tr>\n",
              "      <th>4</th>\n",
              "      <td>How do I know if I will get my card, or if it ...</td>\n",
              "      <td>card_arrival</td>\n",
              "      <td>12</td>\n",
              "    </tr>\n",
              "    <tr>\n",
              "      <th>...</th>\n",
              "      <td>...</td>\n",
              "      <td>...</td>\n",
              "      <td>...</td>\n",
              "    </tr>\n",
              "    <tr>\n",
              "      <th>7995</th>\n",
              "      <td>I wish to be able to top up with cash.</td>\n",
              "      <td>top_up_by_cash_or_cheque</td>\n",
              "      <td>58</td>\n",
              "    </tr>\n",
              "    <tr>\n",
              "      <th>7996</th>\n",
              "      <td>Where do I top up?</td>\n",
              "      <td>top_up_by_cash_or_cheque</td>\n",
              "      <td>58</td>\n",
              "    </tr>\n",
              "    <tr>\n",
              "      <th>7997</th>\n",
              "      <td>Do you accept cheques for top-up?</td>\n",
              "      <td>top_up_by_cash_or_cheque</td>\n",
              "      <td>58</td>\n",
              "    </tr>\n",
              "    <tr>\n",
              "      <th>7998</th>\n",
              "      <td>How do I use a check to top up?</td>\n",
              "      <td>top_up_by_cash_or_cheque</td>\n",
              "      <td>58</td>\n",
              "    </tr>\n",
              "    <tr>\n",
              "      <th>7999</th>\n",
              "      <td>Is it possible to top up using a cheque?</td>\n",
              "      <td>top_up_by_cash_or_cheque</td>\n",
              "      <td>58</td>\n",
              "    </tr>\n",
              "  </tbody>\n",
              "</table>\n",
              "<p>8000 rows × 3 columns</p>\n",
              "</div>\n",
              "      <button class=\"colab-df-convert\" onclick=\"convertToInteractive('df-48596a1e-2468-407a-9bd8-2fd1d0d0c943')\"\n",
              "              title=\"Convert this dataframe to an interactive table.\"\n",
              "              style=\"display:none;\">\n",
              "        \n",
              "  <svg xmlns=\"http://www.w3.org/2000/svg\" height=\"24px\"viewBox=\"0 0 24 24\"\n",
              "       width=\"24px\">\n",
              "    <path d=\"M0 0h24v24H0V0z\" fill=\"none\"/>\n",
              "    <path d=\"M18.56 5.44l.94 2.06.94-2.06 2.06-.94-2.06-.94-.94-2.06-.94 2.06-2.06.94zm-11 1L8.5 8.5l.94-2.06 2.06-.94-2.06-.94L8.5 2.5l-.94 2.06-2.06.94zm10 10l.94 2.06.94-2.06 2.06-.94-2.06-.94-.94-2.06-.94 2.06-2.06.94z\"/><path d=\"M17.41 7.96l-1.37-1.37c-.4-.4-.92-.59-1.43-.59-.52 0-1.04.2-1.43.59L10.3 9.45l-7.72 7.72c-.78.78-.78 2.05 0 2.83L4 21.41c.39.39.9.59 1.41.59.51 0 1.02-.2 1.41-.59l7.78-7.78 2.81-2.81c.8-.78.8-2.07 0-2.86zM5.41 20L4 18.59l7.72-7.72 1.47 1.35L5.41 20z\"/>\n",
              "  </svg>\n",
              "      </button>\n",
              "      \n",
              "  <style>\n",
              "    .colab-df-container {\n",
              "      display:flex;\n",
              "      flex-wrap:wrap;\n",
              "      gap: 12px;\n",
              "    }\n",
              "\n",
              "    .colab-df-convert {\n",
              "      background-color: #E8F0FE;\n",
              "      border: none;\n",
              "      border-radius: 50%;\n",
              "      cursor: pointer;\n",
              "      display: none;\n",
              "      fill: #1967D2;\n",
              "      height: 32px;\n",
              "      padding: 0 0 0 0;\n",
              "      width: 32px;\n",
              "    }\n",
              "\n",
              "    .colab-df-convert:hover {\n",
              "      background-color: #E2EBFA;\n",
              "      box-shadow: 0px 1px 2px rgba(60, 64, 67, 0.3), 0px 1px 3px 1px rgba(60, 64, 67, 0.15);\n",
              "      fill: #174EA6;\n",
              "    }\n",
              "\n",
              "    [theme=dark] .colab-df-convert {\n",
              "      background-color: #3B4455;\n",
              "      fill: #D2E3FC;\n",
              "    }\n",
              "\n",
              "    [theme=dark] .colab-df-convert:hover {\n",
              "      background-color: #434B5C;\n",
              "      box-shadow: 0px 1px 3px 1px rgba(0, 0, 0, 0.15);\n",
              "      filter: drop-shadow(0px 1px 2px rgba(0, 0, 0, 0.3));\n",
              "      fill: #FFFFFF;\n",
              "    }\n",
              "  </style>\n",
              "\n",
              "      <script>\n",
              "        const buttonEl =\n",
              "          document.querySelector('#df-48596a1e-2468-407a-9bd8-2fd1d0d0c943 button.colab-df-convert');\n",
              "        buttonEl.style.display =\n",
              "          google.colab.kernel.accessAllowed ? 'block' : 'none';\n",
              "\n",
              "        async function convertToInteractive(key) {\n",
              "          const element = document.querySelector('#df-48596a1e-2468-407a-9bd8-2fd1d0d0c943');\n",
              "          const dataTable =\n",
              "            await google.colab.kernel.invokeFunction('convertToInteractive',\n",
              "                                                     [key], {});\n",
              "          if (!dataTable) return;\n",
              "\n",
              "          const docLinkHtml = 'Like what you see? Visit the ' +\n",
              "            '<a target=\"_blank\" href=https://colab.research.google.com/notebooks/data_table.ipynb>data table notebook</a>'\n",
              "            + ' to learn more about interactive tables.';\n",
              "          element.innerHTML = '';\n",
              "          dataTable['output_type'] = 'display_data';\n",
              "          await google.colab.output.renderOutput(dataTable, element);\n",
              "          const docLink = document.createElement('div');\n",
              "          docLink.innerHTML = docLinkHtml;\n",
              "          element.appendChild(docLink);\n",
              "        }\n",
              "      </script>\n",
              "    </div>\n",
              "  </div>\n",
              "  "
            ],
            "text/plain": [
              "                                                   text  \\\n",
              "0                        I am still waiting on my card?   \n",
              "1     What can I do if my card still hasn't arrived ...   \n",
              "2     I have been waiting over a week. Is the card s...   \n",
              "3     Can I track my card while it is in the process...   \n",
              "4     How do I know if I will get my card, or if it ...   \n",
              "...                                                 ...   \n",
              "7995             I wish to be able to top up with cash.   \n",
              "7996                                 Where do I top up?   \n",
              "7997                  Do you accept cheques for top-up?   \n",
              "7998                    How do I use a check to top up?   \n",
              "7999           Is it possible to top up using a cheque?   \n",
              "\n",
              "                         label  label_id  \n",
              "0                 card_arrival        12  \n",
              "1                 card_arrival        12  \n",
              "2                 card_arrival        12  \n",
              "3                 card_arrival        12  \n",
              "4                 card_arrival        12  \n",
              "...                        ...       ...  \n",
              "7995  top_up_by_cash_or_cheque        58  \n",
              "7996  top_up_by_cash_or_cheque        58  \n",
              "7997  top_up_by_cash_or_cheque        58  \n",
              "7998  top_up_by_cash_or_cheque        58  \n",
              "7999  top_up_by_cash_or_cheque        58  \n",
              "\n",
              "[8000 rows x 3 columns]"
            ]
          },
          "metadata": {},
          "execution_count": 15
        }
      ]
    },
    {
      "cell_type": "markdown",
      "metadata": {
        "id": "QG-APZdJXRuY"
      },
      "source": [
        "**Training data = Train Data + Pool data**"
      ]
    },
    {
      "cell_type": "code",
      "source": [
        "train_data = training_data\n",
        "train_data"
      ],
      "metadata": {
        "colab": {
          "base_uri": "https://localhost:8080/",
          "height": 424
        },
        "id": "BvjY-ILKRgGg",
        "outputId": "913ffa6b-ffec-4236-a41f-38752ad93376"
      },
      "execution_count": null,
      "outputs": [
        {
          "output_type": "execute_result",
          "data": {
            "text/html": [
              "\n",
              "  <div id=\"df-2f1a1c0e-49a9-4d0e-9c70-17c26df1b2d4\">\n",
              "    <div class=\"colab-df-container\">\n",
              "      <div>\n",
              "<style scoped>\n",
              "    .dataframe tbody tr th:only-of-type {\n",
              "        vertical-align: middle;\n",
              "    }\n",
              "\n",
              "    .dataframe tbody tr th {\n",
              "        vertical-align: top;\n",
              "    }\n",
              "\n",
              "    .dataframe thead th {\n",
              "        text-align: right;\n",
              "    }\n",
              "</style>\n",
              "<table border=\"1\" class=\"dataframe\">\n",
              "  <thead>\n",
              "    <tr style=\"text-align: right;\">\n",
              "      <th></th>\n",
              "      <th>text</th>\n",
              "      <th>label</th>\n",
              "      <th>label_id</th>\n",
              "    </tr>\n",
              "  </thead>\n",
              "  <tbody>\n",
              "    <tr>\n",
              "      <th>0</th>\n",
              "      <td>I am still waiting on my card?</td>\n",
              "      <td>card_arrival</td>\n",
              "      <td>12</td>\n",
              "    </tr>\n",
              "    <tr>\n",
              "      <th>1</th>\n",
              "      <td>What can I do if my card still hasn't arrived ...</td>\n",
              "      <td>card_arrival</td>\n",
              "      <td>12</td>\n",
              "    </tr>\n",
              "    <tr>\n",
              "      <th>2</th>\n",
              "      <td>I have been waiting over a week. Is the card s...</td>\n",
              "      <td>card_arrival</td>\n",
              "      <td>12</td>\n",
              "    </tr>\n",
              "    <tr>\n",
              "      <th>3</th>\n",
              "      <td>Can I track my card while it is in the process...</td>\n",
              "      <td>card_arrival</td>\n",
              "      <td>12</td>\n",
              "    </tr>\n",
              "    <tr>\n",
              "      <th>4</th>\n",
              "      <td>How do I know if I will get my card, or if it ...</td>\n",
              "      <td>card_arrival</td>\n",
              "      <td>12</td>\n",
              "    </tr>\n",
              "    <tr>\n",
              "      <th>...</th>\n",
              "      <td>...</td>\n",
              "      <td>...</td>\n",
              "      <td>...</td>\n",
              "    </tr>\n",
              "    <tr>\n",
              "      <th>7995</th>\n",
              "      <td>I wish to be able to top up with cash.</td>\n",
              "      <td>top_up_by_cash_or_cheque</td>\n",
              "      <td>58</td>\n",
              "    </tr>\n",
              "    <tr>\n",
              "      <th>7996</th>\n",
              "      <td>Where do I top up?</td>\n",
              "      <td>top_up_by_cash_or_cheque</td>\n",
              "      <td>58</td>\n",
              "    </tr>\n",
              "    <tr>\n",
              "      <th>7997</th>\n",
              "      <td>Do you accept cheques for top-up?</td>\n",
              "      <td>top_up_by_cash_or_cheque</td>\n",
              "      <td>58</td>\n",
              "    </tr>\n",
              "    <tr>\n",
              "      <th>7998</th>\n",
              "      <td>How do I use a check to top up?</td>\n",
              "      <td>top_up_by_cash_or_cheque</td>\n",
              "      <td>58</td>\n",
              "    </tr>\n",
              "    <tr>\n",
              "      <th>7999</th>\n",
              "      <td>Is it possible to top up using a cheque?</td>\n",
              "      <td>top_up_by_cash_or_cheque</td>\n",
              "      <td>58</td>\n",
              "    </tr>\n",
              "  </tbody>\n",
              "</table>\n",
              "<p>8000 rows × 3 columns</p>\n",
              "</div>\n",
              "      <button class=\"colab-df-convert\" onclick=\"convertToInteractive('df-2f1a1c0e-49a9-4d0e-9c70-17c26df1b2d4')\"\n",
              "              title=\"Convert this dataframe to an interactive table.\"\n",
              "              style=\"display:none;\">\n",
              "        \n",
              "  <svg xmlns=\"http://www.w3.org/2000/svg\" height=\"24px\"viewBox=\"0 0 24 24\"\n",
              "       width=\"24px\">\n",
              "    <path d=\"M0 0h24v24H0V0z\" fill=\"none\"/>\n",
              "    <path d=\"M18.56 5.44l.94 2.06.94-2.06 2.06-.94-2.06-.94-.94-2.06-.94 2.06-2.06.94zm-11 1L8.5 8.5l.94-2.06 2.06-.94-2.06-.94L8.5 2.5l-.94 2.06-2.06.94zm10 10l.94 2.06.94-2.06 2.06-.94-2.06-.94-.94-2.06-.94 2.06-2.06.94z\"/><path d=\"M17.41 7.96l-1.37-1.37c-.4-.4-.92-.59-1.43-.59-.52 0-1.04.2-1.43.59L10.3 9.45l-7.72 7.72c-.78.78-.78 2.05 0 2.83L4 21.41c.39.39.9.59 1.41.59.51 0 1.02-.2 1.41-.59l7.78-7.78 2.81-2.81c.8-.78.8-2.07 0-2.86zM5.41 20L4 18.59l7.72-7.72 1.47 1.35L5.41 20z\"/>\n",
              "  </svg>\n",
              "      </button>\n",
              "      \n",
              "  <style>\n",
              "    .colab-df-container {\n",
              "      display:flex;\n",
              "      flex-wrap:wrap;\n",
              "      gap: 12px;\n",
              "    }\n",
              "\n",
              "    .colab-df-convert {\n",
              "      background-color: #E8F0FE;\n",
              "      border: none;\n",
              "      border-radius: 50%;\n",
              "      cursor: pointer;\n",
              "      display: none;\n",
              "      fill: #1967D2;\n",
              "      height: 32px;\n",
              "      padding: 0 0 0 0;\n",
              "      width: 32px;\n",
              "    }\n",
              "\n",
              "    .colab-df-convert:hover {\n",
              "      background-color: #E2EBFA;\n",
              "      box-shadow: 0px 1px 2px rgba(60, 64, 67, 0.3), 0px 1px 3px 1px rgba(60, 64, 67, 0.15);\n",
              "      fill: #174EA6;\n",
              "    }\n",
              "\n",
              "    [theme=dark] .colab-df-convert {\n",
              "      background-color: #3B4455;\n",
              "      fill: #D2E3FC;\n",
              "    }\n",
              "\n",
              "    [theme=dark] .colab-df-convert:hover {\n",
              "      background-color: #434B5C;\n",
              "      box-shadow: 0px 1px 3px 1px rgba(0, 0, 0, 0.15);\n",
              "      filter: drop-shadow(0px 1px 2px rgba(0, 0, 0, 0.3));\n",
              "      fill: #FFFFFF;\n",
              "    }\n",
              "  </style>\n",
              "\n",
              "      <script>\n",
              "        const buttonEl =\n",
              "          document.querySelector('#df-2f1a1c0e-49a9-4d0e-9c70-17c26df1b2d4 button.colab-df-convert');\n",
              "        buttonEl.style.display =\n",
              "          google.colab.kernel.accessAllowed ? 'block' : 'none';\n",
              "\n",
              "        async function convertToInteractive(key) {\n",
              "          const element = document.querySelector('#df-2f1a1c0e-49a9-4d0e-9c70-17c26df1b2d4');\n",
              "          const dataTable =\n",
              "            await google.colab.kernel.invokeFunction('convertToInteractive',\n",
              "                                                     [key], {});\n",
              "          if (!dataTable) return;\n",
              "\n",
              "          const docLinkHtml = 'Like what you see? Visit the ' +\n",
              "            '<a target=\"_blank\" href=https://colab.research.google.com/notebooks/data_table.ipynb>data table notebook</a>'\n",
              "            + ' to learn more about interactive tables.';\n",
              "          element.innerHTML = '';\n",
              "          dataTable['output_type'] = 'display_data';\n",
              "          await google.colab.output.renderOutput(dataTable, element);\n",
              "          const docLink = document.createElement('div');\n",
              "          docLink.innerHTML = docLinkHtml;\n",
              "          element.appendChild(docLink);\n",
              "        }\n",
              "      </script>\n",
              "    </div>\n",
              "  </div>\n",
              "  "
            ],
            "text/plain": [
              "                                                   text  \\\n",
              "0                        I am still waiting on my card?   \n",
              "1     What can I do if my card still hasn't arrived ...   \n",
              "2     I have been waiting over a week. Is the card s...   \n",
              "3     Can I track my card while it is in the process...   \n",
              "4     How do I know if I will get my card, or if it ...   \n",
              "...                                                 ...   \n",
              "7995             I wish to be able to top up with cash.   \n",
              "7996                                 Where do I top up?   \n",
              "7997                  Do you accept cheques for top-up?   \n",
              "7998                    How do I use a check to top up?   \n",
              "7999           Is it possible to top up using a cheque?   \n",
              "\n",
              "                         label  label_id  \n",
              "0                 card_arrival        12  \n",
              "1                 card_arrival        12  \n",
              "2                 card_arrival        12  \n",
              "3                 card_arrival        12  \n",
              "4                 card_arrival        12  \n",
              "...                        ...       ...  \n",
              "7995  top_up_by_cash_or_cheque        58  \n",
              "7996  top_up_by_cash_or_cheque        58  \n",
              "7997  top_up_by_cash_or_cheque        58  \n",
              "7998  top_up_by_cash_or_cheque        58  \n",
              "7999  top_up_by_cash_or_cheque        58  \n",
              "\n",
              "[8000 rows x 3 columns]"
            ]
          },
          "metadata": {},
          "execution_count": 16
        }
      ]
    },
    {
      "cell_type": "code",
      "execution_count": null,
      "metadata": {
        "id": "IieP6SfNXbmi"
      },
      "outputs": [],
      "source": [
        "from sklearn.model_selection import train_test_split\n",
        "features, targets = train_data['text'], train_data['label_id']\n",
        "pool_features , pool_targets = pool_data['text'], pool_data['label_id']\n",
        "\n",
        "train_features, test_features, train_targets, test_targets = train_test_split(\n",
        "        features, targets,\n",
        "        train_size=0.7,\n",
        "        test_size=0.3,\n",
        "        random_state=42,\n",
        "        shuffle = True,\n",
        "        stratify=targets\n",
        "    )"
      ]
    },
    {
      "cell_type": "code",
      "execution_count": null,
      "metadata": {
        "colab": {
          "base_uri": "https://localhost:8080/"
        },
        "id": "SUyy-njHY_W_",
        "outputId": "59227273-65e7-4db2-e022-5a7bb21e34c4"
      },
      "outputs": [
        {
          "output_type": "execute_result",
          "data": {
            "text/plain": [
              "array(['How long do I have to wait for Europe transfers?',\n",
              "       \"I can't remember my app code, can you reset it?\",\n",
              "       'I have some transactions on my account I did not make. Can you cancel my card and prevent further use.',\n",
              "       'The app does not know it is me.', 'Can I use American Express?'],\n",
              "      dtype=object)"
            ]
          },
          "metadata": {},
          "execution_count": 18
        }
      ],
      "source": [
        "train_features.values[:5]"
      ]
    },
    {
      "cell_type": "code",
      "execution_count": null,
      "metadata": {
        "colab": {
          "base_uri": "https://localhost:8080/"
        },
        "id": "rJDj6zCPZFT1",
        "outputId": "6f3425e1-7e5a-4136-fe08-179a57bb723e"
      },
      "outputs": [
        {
          "output_type": "execute_result",
          "data": {
            "text/plain": [
              "array([67, 45, 23, 68, 54], dtype=int8)"
            ]
          },
          "metadata": {},
          "execution_count": 19
        }
      ],
      "source": [
        "train_targets.values[:5]"
      ]
    },
    {
      "cell_type": "markdown",
      "metadata": {
        "id": "ylz9Alb8ZNvJ"
      },
      "source": [
        "**Tensor Flow pipeline**\n",
        "Prepare Tensor Flow pipeline"
      ]
    },
    {
      "cell_type": "code",
      "source": [
        "import numpy as np \n",
        "import pandas as pd \n",
        "import matplotlib.pyplot as plt\n",
        "import os\n",
        "\n",
        "import tensorflow as tf\n",
        "from tensorflow import keras\n",
        "from tensorflow.keras import layers\n",
        "from tensorflow.keras.layers import TextVectorization\n",
        "import re\n",
        "import string\n",
        "import random\n",
        "from sklearn.model_selection import train_test_split\n",
        "import tensorflow as tf\n",
        "\n",
        "from tensorflow import keras"
      ],
      "metadata": {
        "id": "M69-JQeb4omb"
      },
      "execution_count": null,
      "outputs": []
    },
    {
      "cell_type": "code",
      "execution_count": null,
      "metadata": {
        "id": "MqvEi-G8ZNRe"
      },
      "outputs": [],
      "source": [
        "# train X & y -- RAW still in string \n",
        "train_text_ds_raw = tf.data.Dataset.from_tensor_slices(\n",
        "            tf.cast(train_features.values, tf.string)\n",
        ") \n",
        "train_cat_ds_raw = tf.data.Dataset.from_tensor_slices(\n",
        "            tf.cast(train_targets.values, tf.int64),\n",
        "\n",
        ") \n",
        "# test X & y\n",
        "test_text_ds_raw = tf.data.Dataset.from_tensor_slices(\n",
        "            tf.cast(test_features.values, tf.string)\n",
        ") \n",
        "test_cat_ds_raw = tf.data.Dataset.from_tensor_slices(\n",
        "            tf.cast(test_targets.values, tf.int64),\n",
        "\n",
        ") \n",
        "\n",
        "#pool X & Y\n",
        "pool_text_ds_raw = tf.data.Dataset.from_tensor_slices(\n",
        "            tf.cast(pool_features.values, tf.string)\n",
        ") \n",
        "pool_cat_ds_raw = tf.data.Dataset.from_tensor_slices(\n",
        "            tf.cast(pool_targets.values, tf.int64),\n",
        "\n",
        ") \n"
      ]
    },
    {
      "cell_type": "markdown",
      "source": [
        "**Decide the dictionary size and the review size**"
      ],
      "metadata": {
        "id": "3JSGBaSZ6Hns"
      }
    },
    {
      "cell_type": "code",
      "source": [
        "vocab_size = 20000  # Only consider the top 20K words\n",
        "max_len = 50  # Maximum review (text) size in words"
      ],
      "metadata": {
        "id": "g4RgLveJ6I9J"
      },
      "execution_count": null,
      "outputs": []
    },
    {
      "cell_type": "markdown",
      "metadata": {
        "id": "D8ajYwx8w3Pq"
      },
      "source": [
        "**Text Vectorisation**"
      ]
    },
    {
      "cell_type": "code",
      "source": [
        "def custom_standardization(input_data):\n",
        "    lowercase = tf.strings.lower(input_data)\n",
        "    stripped_html = tf.strings.regex_replace(lowercase, \"<br />\", \" \")\n",
        "    return tf.strings.regex_replace(\n",
        "        stripped_html, f\"[{re.escape(string.punctuation)}]\", \"\"\n",
        "    )"
      ],
      "metadata": {
        "id": "qpjWuj8x6XZ3"
      },
      "execution_count": null,
      "outputs": []
    },
    {
      "cell_type": "code",
      "source": [
        "input_data = \"Ive been trying to use my card for two weeks now to purchase somethings online but nothing is going through. It keeps returning my payment to my account. There shouldn't be anything wrong with my account, is it the card?\"\n",
        "output_dummy_string = custom_standardization(input_data)\n",
        "print(\"output is:\", output_dummy_string.numpy().decode(\"utf=8\"))"
      ],
      "metadata": {
        "colab": {
          "base_uri": "https://localhost:8080/"
        },
        "id": "ydanCk6n6ZJp",
        "outputId": "068c37bf-f46a-45b2-c798-bdba32f0d14b"
      },
      "execution_count": null,
      "outputs": [
        {
          "output_type": "stream",
          "name": "stdout",
          "text": [
            "output is: ive been trying to use my card for two weeks now to purchase somethings online but nothing is going through it keeps returning my payment to my account there shouldnt be anything wrong with my account is it the card\n"
          ]
        }
      ]
    },
    {
      "cell_type": "code",
      "execution_count": null,
      "metadata": {
        "id": "Ep_FOAEzw13U"
      },
      "outputs": [],
      "source": [
        "# # VECTORISATION\n",
        "# vectorize_layer = layers.TextVectorization(\n",
        "#     3000, standardize=custom_standardization, output_sequence_length=150\n",
        "# )"
      ]
    },
    {
      "cell_type": "code",
      "source": [
        "# Create a vectorization layer and adapt it to the text\n",
        "vectorize_layer = TextVectorization(\n",
        "    standardize=custom_standardization,\n",
        "    max_tokens=vocab_size+2,\n",
        "    output_mode=\"int\",\n",
        "    output_sequence_length=max_len,\n",
        ")"
      ],
      "metadata": {
        "id": "nf48D2hYxUDd"
      },
      "execution_count": null,
      "outputs": []
    },
    {
      "cell_type": "markdown",
      "source": [
        "***APPLY KERAS TEXTVECTORIZATION ***"
      ],
      "metadata": {
        "id": "XsYD_btR0m1i"
      }
    },
    {
      "cell_type": "code",
      "source": [
        "def convert_text_input(sample):\n",
        "    text = sample\n",
        "    text = tf.expand_dims(text, -1)  \n",
        "    #return tf.squeeze(vectorize_layer(text))\n",
        "    return tf.squeeze(vectorize_layer(text)) "
      ],
      "metadata": {
        "id": "E2ZHb_DKw5SH"
      },
      "execution_count": null,
      "outputs": []
    },
    {
      "cell_type": "code",
      "source": [
        "# Train X\n",
        "train_text_ds = train_text_ds_raw.map(convert_text_input, \n",
        "                                  num_parallel_calls=tf.data.experimental.AUTOTUNE)\n",
        "# Test X\n",
        "test_text_ds = test_text_ds_raw.map(convert_text_input, \n",
        "                                  num_parallel_calls=tf.data.experimental.AUTOTUNE)\n",
        "\n",
        "\n"
      ],
      "metadata": {
        "id": "O3kfD6eqzcOg"
      },
      "execution_count": null,
      "outputs": []
    },
    {
      "cell_type": "code",
      "source": [
        "# Pool\n",
        "pool_text_ds = pool_text_ds_raw.map(convert_text_input, \n",
        "                                  num_parallel_calls=tf.data.experimental.AUTOTUNE)"
      ],
      "metadata": {
        "id": "qN_-wPib5nzz"
      },
      "execution_count": null,
      "outputs": []
    },
    {
      "cell_type": "code",
      "source": [
        "# # Train X\n",
        "# train_text_ds = convert_text_input(train_features)\n",
        "# # Test X\n",
        "# test_text_ds = convert_text_input(test_features)\n",
        "\n",
        "# #  POOL X\n",
        "# pool_text_ds_raw = convert_text_input(pool_features)"
      ],
      "metadata": {
        "id": "9pviXZlDwkSF"
      },
      "execution_count": null,
      "outputs": []
    },
    {
      "cell_type": "code",
      "source": [
        "print(\"vocab has the \", len(vocab),\" entries\")\n",
        "print(\"vocab has the following first 10 entries\")\n",
        "for word in range(10):\n",
        "  print(word, \" represents the word: \", vocab[word])\n",
        "\n",
        "for X in train_features[:2]:\n",
        "  print(\" Given raw data: \" )\n",
        "  print(X)\n",
        "  tokenized = vectorize_layer(tf.expand_dims(X, -1))\n",
        "  print(\" Tokenized and Transformed to a vector of integers: \" )\n",
        "  print (tokenized)\n",
        "  print(\" Text after Tokenized and Transformed: \")\n",
        "  transformed = \"\"\n",
        "  for each in tf.squeeze(tokenized):\n",
        "    transformed= transformed+ \" \"+ vocab[each]\n",
        "  print(transformed)"
      ],
      "metadata": {
        "colab": {
          "base_uri": "https://localhost:8080/",
          "height": 245
        },
        "id": "xAlcX37yCFE9",
        "outputId": "2d6d24e6-88f5-475e-9f0a-c767a1054dcd"
      },
      "execution_count": null,
      "outputs": [
        {
          "output_type": "error",
          "ename": "NameError",
          "evalue": "ignored",
          "traceback": [
            "\u001b[0;31m---------------------------------------------------------------------------\u001b[0m",
            "\u001b[0;31mNameError\u001b[0m                                 Traceback (most recent call last)",
            "\u001b[0;32m<ipython-input-34-a8fb06201736>\u001b[0m in \u001b[0;36m<module>\u001b[0;34m()\u001b[0m\n\u001b[0;32m----> 1\u001b[0;31m \u001b[0mprint\u001b[0m\u001b[0;34m(\u001b[0m\u001b[0;34m\"vocab has the \"\u001b[0m\u001b[0;34m,\u001b[0m \u001b[0mlen\u001b[0m\u001b[0;34m(\u001b[0m\u001b[0mvocab\u001b[0m\u001b[0;34m)\u001b[0m\u001b[0;34m,\u001b[0m\u001b[0;34m\" entries\"\u001b[0m\u001b[0;34m)\u001b[0m\u001b[0;34m\u001b[0m\u001b[0;34m\u001b[0m\u001b[0m\n\u001b[0m\u001b[1;32m      2\u001b[0m \u001b[0mprint\u001b[0m\u001b[0;34m(\u001b[0m\u001b[0;34m\"vocab has the following first 10 entries\"\u001b[0m\u001b[0;34m)\u001b[0m\u001b[0;34m\u001b[0m\u001b[0;34m\u001b[0m\u001b[0m\n\u001b[1;32m      3\u001b[0m \u001b[0;32mfor\u001b[0m \u001b[0mword\u001b[0m \u001b[0;32min\u001b[0m \u001b[0mrange\u001b[0m\u001b[0;34m(\u001b[0m\u001b[0;36m10\u001b[0m\u001b[0;34m)\u001b[0m\u001b[0;34m:\u001b[0m\u001b[0;34m\u001b[0m\u001b[0;34m\u001b[0m\u001b[0m\n\u001b[1;32m      4\u001b[0m   \u001b[0mprint\u001b[0m\u001b[0;34m(\u001b[0m\u001b[0mword\u001b[0m\u001b[0;34m,\u001b[0m \u001b[0;34m\" represents the word: \"\u001b[0m\u001b[0;34m,\u001b[0m \u001b[0mvocab\u001b[0m\u001b[0;34m[\u001b[0m\u001b[0mword\u001b[0m\u001b[0;34m]\u001b[0m\u001b[0;34m)\u001b[0m\u001b[0;34m\u001b[0m\u001b[0;34m\u001b[0m\u001b[0m\n\u001b[1;32m      5\u001b[0m \u001b[0;34m\u001b[0m\u001b[0m\n",
            "\u001b[0;31mNameError\u001b[0m: name 'vocab' is not defined"
          ]
        }
      ]
    },
    {
      "cell_type": "markdown",
      "metadata": {
        "id": "owFv9DHpbdQR"
      },
      "source": [
        "**MODEL LSTM KERAS**"
      ]
    },
    {
      "cell_type": "code",
      "execution_count": null,
      "metadata": {
        "id": "coT-KAbxbgbL"
      },
      "outputs": [],
      "source": [
        "# build function for the Keras' scikit-learn API\n",
        "def create_model():\n",
        "    model = keras.models.Sequential(\n",
        "        [\n",
        "            layers.Input(shape=(150,)),\n",
        "            layers.Embedding(input_dim=3000, output_dim=128),\n",
        "            layers.Bidirectional(layers.LSTM(32, return_sequences=True)),\n",
        "            layers.GlobalMaxPool1D(),\n",
        "            layers.Dense(20, activation=\"relu\"),\n",
        "            layers.Dropout(0.5),\n",
        "            layers.Dense(1, activation=\"sigmoid\"),\n",
        "         \n",
        "        ]\n",
        "        \n",
        "    )\n",
        "    model.compile(loss='categorical_crossentropy', optimizer='adadelta', metrics=['AUC'])\n",
        "    model.summary()\n",
        "    return model\n"
      ]
    },
    {
      "cell_type": "code",
      "source": [
        "!pip install modAL"
      ],
      "metadata": {
        "colab": {
          "base_uri": "https://localhost:8080/"
        },
        "id": "6zzAQagyS2Gk",
        "outputId": "c1b00e56-e544-4c09-dc8e-43cd579f82f3"
      },
      "execution_count": null,
      "outputs": [
        {
          "output_type": "stream",
          "name": "stdout",
          "text": [
            "Requirement already satisfied: modAL in /usr/local/lib/python3.7/dist-packages (0.4.1)\n",
            "Requirement already satisfied: pandas>=1.1.0 in /usr/local/lib/python3.7/dist-packages (from modAL) (1.3.5)\n",
            "Requirement already satisfied: scipy>=0.18 in /usr/local/lib/python3.7/dist-packages (from modAL) (1.4.1)\n",
            "Requirement already satisfied: scikit-learn>=0.18 in /usr/local/lib/python3.7/dist-packages (from modAL) (1.0.2)\n",
            "Requirement already satisfied: numpy>=1.13 in /usr/local/lib/python3.7/dist-packages (from modAL) (1.21.5)\n",
            "Requirement already satisfied: pytz>=2017.3 in /usr/local/lib/python3.7/dist-packages (from pandas>=1.1.0->modAL) (2018.9)\n",
            "Requirement already satisfied: python-dateutil>=2.7.3 in /usr/local/lib/python3.7/dist-packages (from pandas>=1.1.0->modAL) (2.8.2)\n",
            "Requirement already satisfied: six>=1.5 in /usr/local/lib/python3.7/dist-packages (from python-dateutil>=2.7.3->pandas>=1.1.0->modAL) (1.15.0)\n",
            "Requirement already satisfied: joblib>=0.11 in /usr/local/lib/python3.7/dist-packages (from scikit-learn>=0.18->modAL) (1.1.0)\n",
            "Requirement already satisfied: threadpoolctl>=2.0.0 in /usr/local/lib/python3.7/dist-packages (from scikit-learn>=0.18->modAL) (3.1.0)\n"
          ]
        }
      ]
    },
    {
      "cell_type": "markdown",
      "source": [
        "**Training the Active Leaner**"
      ],
      "metadata": {
        "id": "9ovUGAGiS8tN"
      }
    },
    {
      "cell_type": "code",
      "source": [
        "pip install scikeras[tensorflow]"
      ],
      "metadata": {
        "colab": {
          "base_uri": "https://localhost:8080/"
        },
        "id": "DiLoOFTeTaWN",
        "outputId": "e5c15a24-d5e3-40bc-9760-8ec3224fa7d5"
      },
      "execution_count": null,
      "outputs": [
        {
          "output_type": "stream",
          "name": "stdout",
          "text": [
            "Requirement already satisfied: scikeras[tensorflow] in /usr/local/lib/python3.7/dist-packages (0.6.1)\n",
            "Requirement already satisfied: packaging<22.0,>=0.21 in /usr/local/lib/python3.7/dist-packages (from scikeras[tensorflow]) (21.3)\n",
            "Requirement already satisfied: scikit-learn>=1.0.0 in /usr/local/lib/python3.7/dist-packages (from scikeras[tensorflow]) (1.0.2)\n",
            "Requirement already satisfied: importlib-metadata<4,>=3 in /usr/local/lib/python3.7/dist-packages (from scikeras[tensorflow]) (3.10.1)\n",
            "Requirement already satisfied: tensorflow>=2.7.0 in /usr/local/lib/python3.7/dist-packages (from scikeras[tensorflow]) (2.8.0)\n",
            "Requirement already satisfied: zipp>=0.5 in /usr/local/lib/python3.7/dist-packages (from importlib-metadata<4,>=3->scikeras[tensorflow]) (3.7.0)\n",
            "Requirement already satisfied: typing-extensions>=3.6.4 in /usr/local/lib/python3.7/dist-packages (from importlib-metadata<4,>=3->scikeras[tensorflow]) (3.10.0.2)\n",
            "Requirement already satisfied: pyparsing!=3.0.5,>=2.0.2 in /usr/local/lib/python3.7/dist-packages (from packaging<22.0,>=0.21->scikeras[tensorflow]) (3.0.7)\n",
            "Requirement already satisfied: numpy>=1.14.6 in /usr/local/lib/python3.7/dist-packages (from scikit-learn>=1.0.0->scikeras[tensorflow]) (1.21.5)\n",
            "Requirement already satisfied: threadpoolctl>=2.0.0 in /usr/local/lib/python3.7/dist-packages (from scikit-learn>=1.0.0->scikeras[tensorflow]) (3.1.0)\n",
            "Requirement already satisfied: scipy>=1.1.0 in /usr/local/lib/python3.7/dist-packages (from scikit-learn>=1.0.0->scikeras[tensorflow]) (1.4.1)\n",
            "Requirement already satisfied: joblib>=0.11 in /usr/local/lib/python3.7/dist-packages (from scikit-learn>=1.0.0->scikeras[tensorflow]) (1.1.0)\n",
            "Requirement already satisfied: termcolor>=1.1.0 in /usr/local/lib/python3.7/dist-packages (from tensorflow>=2.7.0->scikeras[tensorflow]) (1.1.0)\n",
            "Requirement already satisfied: setuptools in /usr/local/lib/python3.7/dist-packages (from tensorflow>=2.7.0->scikeras[tensorflow]) (57.4.0)\n",
            "Requirement already satisfied: astunparse>=1.6.0 in /usr/local/lib/python3.7/dist-packages (from tensorflow>=2.7.0->scikeras[tensorflow]) (1.6.3)\n",
            "Requirement already satisfied: gast>=0.2.1 in /usr/local/lib/python3.7/dist-packages (from tensorflow>=2.7.0->scikeras[tensorflow]) (0.5.3)\n",
            "Requirement already satisfied: h5py>=2.9.0 in /usr/local/lib/python3.7/dist-packages (from tensorflow>=2.7.0->scikeras[tensorflow]) (3.1.0)\n",
            "Requirement already satisfied: tensorflow-io-gcs-filesystem>=0.23.1 in /usr/local/lib/python3.7/dist-packages (from tensorflow>=2.7.0->scikeras[tensorflow]) (0.24.0)\n",
            "Requirement already satisfied: google-pasta>=0.1.1 in /usr/local/lib/python3.7/dist-packages (from tensorflow>=2.7.0->scikeras[tensorflow]) (0.2.0)\n",
            "Requirement already satisfied: protobuf>=3.9.2 in /usr/local/lib/python3.7/dist-packages (from tensorflow>=2.7.0->scikeras[tensorflow]) (3.17.3)\n",
            "Requirement already satisfied: absl-py>=0.4.0 in /usr/local/lib/python3.7/dist-packages (from tensorflow>=2.7.0->scikeras[tensorflow]) (1.0.0)\n",
            "Requirement already satisfied: keras<2.9,>=2.8.0rc0 in /usr/local/lib/python3.7/dist-packages (from tensorflow>=2.7.0->scikeras[tensorflow]) (2.8.0)\n",
            "Requirement already satisfied: libclang>=9.0.1 in /usr/local/lib/python3.7/dist-packages (from tensorflow>=2.7.0->scikeras[tensorflow]) (13.0.0)\n",
            "Requirement already satisfied: keras-preprocessing>=1.1.1 in /usr/local/lib/python3.7/dist-packages (from tensorflow>=2.7.0->scikeras[tensorflow]) (1.1.2)\n",
            "Requirement already satisfied: six>=1.12.0 in /usr/local/lib/python3.7/dist-packages (from tensorflow>=2.7.0->scikeras[tensorflow]) (1.15.0)\n",
            "Requirement already satisfied: wrapt>=1.11.0 in /usr/local/lib/python3.7/dist-packages (from tensorflow>=2.7.0->scikeras[tensorflow]) (1.13.3)\n",
            "Requirement already satisfied: flatbuffers>=1.12 in /usr/local/lib/python3.7/dist-packages (from tensorflow>=2.7.0->scikeras[tensorflow]) (2.0)\n",
            "Requirement already satisfied: tf-estimator-nightly==2.8.0.dev2021122109 in /usr/local/lib/python3.7/dist-packages (from tensorflow>=2.7.0->scikeras[tensorflow]) (2.8.0.dev2021122109)\n",
            "Requirement already satisfied: grpcio<2.0,>=1.24.3 in /usr/local/lib/python3.7/dist-packages (from tensorflow>=2.7.0->scikeras[tensorflow]) (1.44.0)\n",
            "Requirement already satisfied: opt-einsum>=2.3.2 in /usr/local/lib/python3.7/dist-packages (from tensorflow>=2.7.0->scikeras[tensorflow]) (3.3.0)\n",
            "Requirement already satisfied: tensorboard<2.9,>=2.8 in /usr/local/lib/python3.7/dist-packages (from tensorflow>=2.7.0->scikeras[tensorflow]) (2.8.0)\n",
            "Requirement already satisfied: wheel<1.0,>=0.23.0 in /usr/local/lib/python3.7/dist-packages (from astunparse>=1.6.0->tensorflow>=2.7.0->scikeras[tensorflow]) (0.37.1)\n",
            "Requirement already satisfied: cached-property in /usr/local/lib/python3.7/dist-packages (from h5py>=2.9.0->tensorflow>=2.7.0->scikeras[tensorflow]) (1.5.2)\n",
            "Requirement already satisfied: tensorboard-plugin-wit>=1.6.0 in /usr/local/lib/python3.7/dist-packages (from tensorboard<2.9,>=2.8->tensorflow>=2.7.0->scikeras[tensorflow]) (1.8.1)\n",
            "Requirement already satisfied: tensorboard-data-server<0.7.0,>=0.6.0 in /usr/local/lib/python3.7/dist-packages (from tensorboard<2.9,>=2.8->tensorflow>=2.7.0->scikeras[tensorflow]) (0.6.1)\n",
            "Requirement already satisfied: markdown>=2.6.8 in /usr/local/lib/python3.7/dist-packages (from tensorboard<2.9,>=2.8->tensorflow>=2.7.0->scikeras[tensorflow]) (3.3.4)\n",
            "Requirement already satisfied: google-auth<3,>=1.6.3 in /usr/local/lib/python3.7/dist-packages (from tensorboard<2.9,>=2.8->tensorflow>=2.7.0->scikeras[tensorflow]) (1.35.0)\n",
            "Requirement already satisfied: werkzeug>=0.11.15 in /usr/local/lib/python3.7/dist-packages (from tensorboard<2.9,>=2.8->tensorflow>=2.7.0->scikeras[tensorflow]) (1.0.1)\n",
            "Requirement already satisfied: google-auth-oauthlib<0.5,>=0.4.1 in /usr/local/lib/python3.7/dist-packages (from tensorboard<2.9,>=2.8->tensorflow>=2.7.0->scikeras[tensorflow]) (0.4.6)\n",
            "Requirement already satisfied: requests<3,>=2.21.0 in /usr/local/lib/python3.7/dist-packages (from tensorboard<2.9,>=2.8->tensorflow>=2.7.0->scikeras[tensorflow]) (2.23.0)\n",
            "Requirement already satisfied: rsa<5,>=3.1.4 in /usr/local/lib/python3.7/dist-packages (from google-auth<3,>=1.6.3->tensorboard<2.9,>=2.8->tensorflow>=2.7.0->scikeras[tensorflow]) (4.8)\n",
            "Requirement already satisfied: pyasn1-modules>=0.2.1 in /usr/local/lib/python3.7/dist-packages (from google-auth<3,>=1.6.3->tensorboard<2.9,>=2.8->tensorflow>=2.7.0->scikeras[tensorflow]) (0.2.8)\n",
            "Requirement already satisfied: cachetools<5.0,>=2.0.0 in /usr/local/lib/python3.7/dist-packages (from google-auth<3,>=1.6.3->tensorboard<2.9,>=2.8->tensorflow>=2.7.0->scikeras[tensorflow]) (4.2.4)\n",
            "Requirement already satisfied: requests-oauthlib>=0.7.0 in /usr/local/lib/python3.7/dist-packages (from google-auth-oauthlib<0.5,>=0.4.1->tensorboard<2.9,>=2.8->tensorflow>=2.7.0->scikeras[tensorflow]) (1.3.1)\n",
            "Requirement already satisfied: pyasn1<0.5.0,>=0.4.6 in /usr/local/lib/python3.7/dist-packages (from pyasn1-modules>=0.2.1->google-auth<3,>=1.6.3->tensorboard<2.9,>=2.8->tensorflow>=2.7.0->scikeras[tensorflow]) (0.4.8)\n",
            "Requirement already satisfied: urllib3!=1.25.0,!=1.25.1,<1.26,>=1.21.1 in /usr/local/lib/python3.7/dist-packages (from requests<3,>=2.21.0->tensorboard<2.9,>=2.8->tensorflow>=2.7.0->scikeras[tensorflow]) (1.24.3)\n",
            "Requirement already satisfied: idna<3,>=2.5 in /usr/local/lib/python3.7/dist-packages (from requests<3,>=2.21.0->tensorboard<2.9,>=2.8->tensorflow>=2.7.0->scikeras[tensorflow]) (2.10)\n",
            "Requirement already satisfied: chardet<4,>=3.0.2 in /usr/local/lib/python3.7/dist-packages (from requests<3,>=2.21.0->tensorboard<2.9,>=2.8->tensorflow>=2.7.0->scikeras[tensorflow]) (3.0.4)\n",
            "Requirement already satisfied: certifi>=2017.4.17 in /usr/local/lib/python3.7/dist-packages (from requests<3,>=2.21.0->tensorboard<2.9,>=2.8->tensorflow>=2.7.0->scikeras[tensorflow]) (2021.10.8)\n",
            "Requirement already satisfied: oauthlib>=3.0.0 in /usr/local/lib/python3.7/dist-packages (from requests-oauthlib>=0.7.0->google-auth-oauthlib<0.5,>=0.4.1->tensorboard<2.9,>=2.8->tensorflow>=2.7.0->scikeras[tensorflow]) (3.2.0)\n"
          ]
        }
      ]
    },
    {
      "cell_type": "code",
      "source": [
        "from keras.wrappers.scikit_learn import KerasClassifier\n",
        "from scikeras.wrappers import KerasClassifier, KerasRegressor\n",
        "from modAL.models import ActiveLearner"
      ],
      "metadata": {
        "id": "s3vZEL4tSKN2"
      },
      "execution_count": null,
      "outputs": []
    },
    {
      "cell_type": "code",
      "source": [
        "# create the classifier\n",
        "classifier = KerasClassifier(build_fn=create_model, epochs=150, batch_size=10, verbose=0)\n",
        "#classifier = create_model()"
      ],
      "metadata": {
        "id": "WSram9rcTA4y"
      },
      "execution_count": null,
      "outputs": []
    },
    {
      "cell_type": "code",
      "source": [
        "classifier"
      ],
      "metadata": {
        "colab": {
          "base_uri": "https://localhost:8080/"
        },
        "id": "78VV-xxceUnt",
        "outputId": "0dc4bd91-973e-4eaf-857f-04a587e0f09e"
      },
      "execution_count": null,
      "outputs": [
        {
          "output_type": "execute_result",
          "data": {
            "text/plain": [
              "KerasClassifier(\n",
              "\tmodel=None\n",
              "\tbuild_fn=<function create_model at 0x7fb37a9e7560>\n",
              "\twarm_start=False\n",
              "\trandom_state=None\n",
              "\toptimizer=rmsprop\n",
              "\tloss=None\n",
              "\tmetrics=None\n",
              "\tbatch_size=10\n",
              "\tvalidation_batch_size=None\n",
              "\tverbose=0\n",
              "\tcallbacks=None\n",
              "\tvalidation_split=0.0\n",
              "\tshuffle=True\n",
              "\trun_eagerly=False\n",
              "\tepochs=150\n",
              "\tclass_weight=None\n",
              ")"
            ]
          },
          "metadata": {},
          "execution_count": 40
        }
      ]
    },
    {
      "cell_type": "code",
      "source": [
        "import tensorflow as tf\n",
        "#tf.enable_eager_execution()\n",
        "\n",
        "# train_text_numpy = train_text_ds.numpy()\n",
        "ds_numpy = train_text_ds.as_numpy()\n",
        "print((ds_numpy))"
      ],
      "metadata": {
        "colab": {
          "base_uri": "https://localhost:8080/",
          "height": 226
        },
        "id": "PCb2pEgpTqxP",
        "outputId": "efe9d5cb-0bfb-444b-9d6d-ef2277273fc7"
      },
      "execution_count": null,
      "outputs": [
        {
          "output_type": "error",
          "ename": "AttributeError",
          "evalue": "ignored",
          "traceback": [
            "\u001b[0;31m---------------------------------------------------------------------------\u001b[0m",
            "\u001b[0;31mAttributeError\u001b[0m                            Traceback (most recent call last)",
            "\u001b[0;32m<ipython-input-54-dcbc7ea4cde7>\u001b[0m in \u001b[0;36m<module>\u001b[0;34m()\u001b[0m\n\u001b[1;32m      3\u001b[0m \u001b[0;34m\u001b[0m\u001b[0m\n\u001b[1;32m      4\u001b[0m \u001b[0;31m# train_text_numpy = train_text_ds.numpy()\u001b[0m\u001b[0;34m\u001b[0m\u001b[0;34m\u001b[0m\u001b[0;34m\u001b[0m\u001b[0m\n\u001b[0;32m----> 5\u001b[0;31m \u001b[0mds_numpy\u001b[0m \u001b[0;34m=\u001b[0m \u001b[0mtrain_text_ds\u001b[0m\u001b[0;34m.\u001b[0m\u001b[0mas_numpy\u001b[0m\u001b[0;34m(\u001b[0m\u001b[0;34m)\u001b[0m\u001b[0;34m\u001b[0m\u001b[0;34m\u001b[0m\u001b[0m\n\u001b[0m\u001b[1;32m      6\u001b[0m \u001b[0mprint\u001b[0m\u001b[0;34m(\u001b[0m\u001b[0;34m(\u001b[0m\u001b[0mds_numpy\u001b[0m\u001b[0;34m)\u001b[0m\u001b[0;34m)\u001b[0m\u001b[0;34m\u001b[0m\u001b[0;34m\u001b[0m\u001b[0m\n",
            "\u001b[0;31mAttributeError\u001b[0m: 'ParallelMapDataset' object has no attribute 'as_numpy'"
          ]
        }
      ]
    },
    {
      "cell_type": "code",
      "source": [
        "ds_numpy = tfds.as_numpy(train_text_ds)\n",
        "print(type(ds_numpy))\n",
        " "
      ],
      "metadata": {
        "colab": {
          "base_uri": "https://localhost:8080/"
        },
        "id": "FOfPaVj3SLhT",
        "outputId": "f4f75c29-933a-4c50-8b56-e05fcf9fbfc6"
      },
      "execution_count": null,
      "outputs": [
        {
          "output_type": "stream",
          "name": "stdout",
          "text": [
            "<class 'tensorflow.python.data.ops.dataset_ops.TensorSliceDataset'>\n"
          ]
        }
      ]
    },
    {
      "cell_type": "markdown",
      "source": [
        "**Training**"
      ],
      "metadata": {
        "id": "0GFk91heuJFX"
      }
    },
    {
      "cell_type": "code",
      "source": [
        "type(train_text_ds)"
      ],
      "metadata": {
        "colab": {
          "base_uri": "https://localhost:8080/"
        },
        "id": "7QeTAYGig4k-",
        "outputId": "72277e25-5500-4002-b5ca-573922e51806"
      },
      "execution_count": null,
      "outputs": [
        {
          "output_type": "execute_result",
          "data": {
            "text/plain": [
              "tensorflow.python.data.ops.dataset_ops.ParallelMapDataset"
            ]
          },
          "metadata": {},
          "execution_count": 64
        }
      ]
    },
    {
      "cell_type": "code",
      "source": [
        "train_ds = tf.data.Dataset.zip(\n",
        "    (\n",
        "            train_text_ds,\n",
        "            train_cat_ds_raw\n",
        "     )\n",
        ") "
      ],
      "metadata": {
        "id": "zuveF-0W_VFF"
      },
      "execution_count": null,
      "outputs": []
    },
    {
      "cell_type": "code",
      "source": [
        "pool_ds = tf.data.Dataset.zip(\n",
        "    (\n",
        "            pool_text_ds,\n",
        "            pool_cat_ds_raw\n",
        "     )\n",
        ") "
      ],
      "metadata": {
        "id": "jYzsNNrw_ait"
      },
      "execution_count": null,
      "outputs": []
    },
    {
      "cell_type": "code",
      "source": [
        "batch_size = 64\n",
        "AUTOTUNE = tf.data.experimental.AUTOTUNE\n",
        "buffer_size= train_ds.cardinality().numpy()\n",
        "\n",
        "train_ds = train_ds.shuffle(buffer_size=buffer_size)\\\n",
        "                   .batch(batch_size=batch_size,drop_remainder=True)\\\n",
        "                   .cache()\\\n",
        "                   .prefetch(AUTOTUNE)\n",
        "\n",
        "pool_ds = pool_ds.shuffle(buffer_size=buffer_size)\\\n",
        "                   .batch(batch_size=batch_size,drop_remainder=True)\\\n",
        "                   .cache()\\\n",
        "                   .prefetch(AUTOTUNE)"
      ],
      "metadata": {
        "id": "ulErAlz9_KE6"
      },
      "execution_count": null,
      "outputs": []
    },
    {
      "cell_type": "code",
      "source": [
        "train_ds.element_spec"
      ],
      "metadata": {
        "colab": {
          "base_uri": "https://localhost:8080/"
        },
        "id": "jeipX6n5_tvJ",
        "outputId": "d2d80220-43c2-4999-e7ff-372bf112b198"
      },
      "execution_count": null,
      "outputs": [
        {
          "output_type": "execute_result",
          "data": {
            "text/plain": [
              "(TensorSpec(shape=<unknown>, dtype=tf.int64, name=None),\n",
              " TensorSpec(shape=(64,), dtype=tf.int64, name=None))"
            ]
          },
          "metadata": {},
          "execution_count": 68
        }
      ]
    },
    {
      "cell_type": "code",
      "source": [
        "classifier1 = create_model()"
      ],
      "metadata": {
        "colab": {
          "base_uri": "https://localhost:8080/"
        },
        "id": "Xx8frVUR__7K",
        "outputId": "6e19c53d-819e-4976-d0f6-3632dc117691"
      },
      "execution_count": null,
      "outputs": [
        {
          "output_type": "stream",
          "name": "stdout",
          "text": [
            "Model: \"sequential\"\n",
            "_________________________________________________________________\n",
            " Layer (type)                Output Shape              Param #   \n",
            "=================================================================\n",
            " embedding (Embedding)       (None, 150, 128)          384000    \n",
            "                                                                 \n",
            " bidirectional (Bidirectiona  (None, 150, 64)          41216     \n",
            " l)                                                              \n",
            "                                                                 \n",
            " global_max_pooling1d (Globa  (None, 64)               0         \n",
            " lMaxPooling1D)                                                  \n",
            "                                                                 \n",
            " dense (Dense)               (None, 20)                1300      \n",
            "                                                                 \n",
            " dropout (Dropout)           (None, 20)                0         \n",
            "                                                                 \n",
            " dense_1 (Dense)             (None, 1)                 21        \n",
            "                                                                 \n",
            "=================================================================\n",
            "Total params: 426,537\n",
            "Trainable params: 426,537\n",
            "Non-trainable params: 0\n",
            "_________________________________________________________________\n"
          ]
        }
      ]
    },
    {
      "cell_type": "code",
      "source": [
        "classifier1.fit(train_ds, verbose=1, epochs=3)"
      ],
      "metadata": {
        "colab": {
          "base_uri": "https://localhost:8080/",
          "height": 415
        },
        "id": "YAhOzJOb_0pa",
        "outputId": "49cfa638-bbb1-41b9-8914-b25186082d50"
      },
      "execution_count": null,
      "outputs": [
        {
          "output_type": "stream",
          "name": "stdout",
          "text": [
            "Epoch 1/3\n"
          ]
        },
        {
          "output_type": "error",
          "ename": "FailedPreconditionError",
          "evalue": "ignored",
          "traceback": [
            "\u001b[0;31m---------------------------------------------------------------------------\u001b[0m",
            "\u001b[0;31mFailedPreconditionError\u001b[0m                   Traceback (most recent call last)",
            "\u001b[0;32m<ipython-input-71-a7b0edd0a271>\u001b[0m in \u001b[0;36m<module>\u001b[0;34m()\u001b[0m\n\u001b[0;32m----> 1\u001b[0;31m \u001b[0mclassifier1\u001b[0m\u001b[0;34m.\u001b[0m\u001b[0mfit\u001b[0m\u001b[0;34m(\u001b[0m\u001b[0mtrain_ds\u001b[0m\u001b[0;34m,\u001b[0m \u001b[0mverbose\u001b[0m\u001b[0;34m=\u001b[0m\u001b[0;36m1\u001b[0m\u001b[0;34m,\u001b[0m \u001b[0mepochs\u001b[0m\u001b[0;34m=\u001b[0m\u001b[0;36m3\u001b[0m\u001b[0;34m)\u001b[0m\u001b[0;34m\u001b[0m\u001b[0;34m\u001b[0m\u001b[0m\n\u001b[0m",
            "\u001b[0;32m/usr/local/lib/python3.7/dist-packages/keras/utils/traceback_utils.py\u001b[0m in \u001b[0;36merror_handler\u001b[0;34m(*args, **kwargs)\u001b[0m\n\u001b[1;32m     65\u001b[0m     \u001b[0;32mexcept\u001b[0m \u001b[0mException\u001b[0m \u001b[0;32mas\u001b[0m \u001b[0me\u001b[0m\u001b[0;34m:\u001b[0m  \u001b[0;31m# pylint: disable=broad-except\u001b[0m\u001b[0;34m\u001b[0m\u001b[0;34m\u001b[0m\u001b[0m\n\u001b[1;32m     66\u001b[0m       \u001b[0mfiltered_tb\u001b[0m \u001b[0;34m=\u001b[0m \u001b[0m_process_traceback_frames\u001b[0m\u001b[0;34m(\u001b[0m\u001b[0me\u001b[0m\u001b[0;34m.\u001b[0m\u001b[0m__traceback__\u001b[0m\u001b[0;34m)\u001b[0m\u001b[0;34m\u001b[0m\u001b[0;34m\u001b[0m\u001b[0m\n\u001b[0;32m---> 67\u001b[0;31m       \u001b[0;32mraise\u001b[0m \u001b[0me\u001b[0m\u001b[0;34m.\u001b[0m\u001b[0mwith_traceback\u001b[0m\u001b[0;34m(\u001b[0m\u001b[0mfiltered_tb\u001b[0m\u001b[0;34m)\u001b[0m \u001b[0;32mfrom\u001b[0m \u001b[0;32mNone\u001b[0m\u001b[0;34m\u001b[0m\u001b[0;34m\u001b[0m\u001b[0m\n\u001b[0m\u001b[1;32m     68\u001b[0m     \u001b[0;32mfinally\u001b[0m\u001b[0;34m:\u001b[0m\u001b[0;34m\u001b[0m\u001b[0;34m\u001b[0m\u001b[0m\n\u001b[1;32m     69\u001b[0m       \u001b[0;32mdel\u001b[0m \u001b[0mfiltered_tb\u001b[0m\u001b[0;34m\u001b[0m\u001b[0;34m\u001b[0m\u001b[0m\n",
            "\u001b[0;32m/usr/local/lib/python3.7/dist-packages/tensorflow/python/eager/execute.py\u001b[0m in \u001b[0;36mquick_execute\u001b[0;34m(op_name, num_outputs, inputs, attrs, ctx, name)\u001b[0m\n\u001b[1;32m     53\u001b[0m     \u001b[0mctx\u001b[0m\u001b[0;34m.\u001b[0m\u001b[0mensure_initialized\u001b[0m\u001b[0;34m(\u001b[0m\u001b[0;34m)\u001b[0m\u001b[0;34m\u001b[0m\u001b[0;34m\u001b[0m\u001b[0m\n\u001b[1;32m     54\u001b[0m     tensors = pywrap_tfe.TFE_Py_Execute(ctx._handle, device_name, op_name,\n\u001b[0;32m---> 55\u001b[0;31m                                         inputs, attrs, num_outputs)\n\u001b[0m\u001b[1;32m     56\u001b[0m   \u001b[0;32mexcept\u001b[0m \u001b[0mcore\u001b[0m\u001b[0;34m.\u001b[0m\u001b[0m_NotOkStatusException\u001b[0m \u001b[0;32mas\u001b[0m \u001b[0me\u001b[0m\u001b[0;34m:\u001b[0m\u001b[0;34m\u001b[0m\u001b[0;34m\u001b[0m\u001b[0m\n\u001b[1;32m     57\u001b[0m     \u001b[0;32mif\u001b[0m \u001b[0mname\u001b[0m \u001b[0;32mis\u001b[0m \u001b[0;32mnot\u001b[0m \u001b[0;32mNone\u001b[0m\u001b[0;34m:\u001b[0m\u001b[0;34m\u001b[0m\u001b[0;34m\u001b[0m\u001b[0m\n",
            "\u001b[0;31mFailedPreconditionError\u001b[0m: Graph execution error:\n\nTable not initialized.\n\t [[{{node text_vectorization/string_lookup/None_Lookup/LookupTableFindV2}}]]\n\t [[IteratorGetNext]] [Op:__inference_train_function_6183]"
          ]
        }
      ]
    },
    {
      "cell_type": "code",
      "source": [
        "classifier.fit(train_ds, verbose =1, epochs =2)"
      ],
      "metadata": {
        "colab": {
          "base_uri": "https://localhost:8080/",
          "height": 171
        },
        "id": "ggBEywVC-4p_",
        "outputId": "cec8d0ff-6465-45ea-baa4-635f02943d76"
      },
      "execution_count": null,
      "outputs": [
        {
          "output_type": "error",
          "ename": "TypeError",
          "evalue": "ignored",
          "traceback": [
            "\u001b[0;31m---------------------------------------------------------------------------\u001b[0m",
            "\u001b[0;31mTypeError\u001b[0m                                 Traceback (most recent call last)",
            "\u001b[0;32m<ipython-input-67-655ece924213>\u001b[0m in \u001b[0;36m<module>\u001b[0;34m()\u001b[0m\n\u001b[0;32m----> 1\u001b[0;31m \u001b[0mclassifier\u001b[0m\u001b[0;34m.\u001b[0m\u001b[0mfit\u001b[0m\u001b[0;34m(\u001b[0m\u001b[0mtrain_ds\u001b[0m\u001b[0;34m,\u001b[0m \u001b[0mverbose\u001b[0m \u001b[0;34m=\u001b[0m\u001b[0;36m1\u001b[0m\u001b[0;34m,\u001b[0m \u001b[0mepochs\u001b[0m \u001b[0;34m=\u001b[0m\u001b[0;36m2\u001b[0m\u001b[0;34m)\u001b[0m\u001b[0;34m\u001b[0m\u001b[0;34m\u001b[0m\u001b[0m\n\u001b[0m",
            "\u001b[0;31mTypeError\u001b[0m: fit() missing 1 required positional argument: 'y'"
          ]
        }
      ]
    },
    {
      "cell_type": "code",
      "source": [
        "\n",
        "# initialize ActiveLearner\n",
        "learner = ActiveLearner(\n",
        "    estimator=classifier,\n",
        "    X_training= train_text_ds, y_training= (train_targets),verbose=1\n",
        ")"
      ],
      "metadata": {
        "colab": {
          "base_uri": "https://localhost:8080/",
          "height": 433
        },
        "id": "qQSqgmi_GfG-",
        "outputId": "150df27f-bf14-465d-cac7-cdd886342100"
      },
      "execution_count": null,
      "outputs": [
        {
          "output_type": "error",
          "ename": "ValueError",
          "evalue": "ignored",
          "traceback": [
            "\u001b[0;31m---------------------------------------------------------------------------\u001b[0m",
            "\u001b[0;31mValueError\u001b[0m                                Traceback (most recent call last)",
            "\u001b[0;32m<ipython-input-61-83c875fe2982>\u001b[0m in \u001b[0;36m<module>\u001b[0;34m()\u001b[0m\n\u001b[1;32m      3\u001b[0m learner = ActiveLearner(\n\u001b[1;32m      4\u001b[0m     \u001b[0mestimator\u001b[0m\u001b[0;34m=\u001b[0m\u001b[0mclassifier\u001b[0m\u001b[0;34m,\u001b[0m\u001b[0;34m\u001b[0m\u001b[0;34m\u001b[0m\u001b[0m\n\u001b[0;32m----> 5\u001b[0;31m     \u001b[0mX_training\u001b[0m\u001b[0;34m=\u001b[0m \u001b[0mtrain_text_ds\u001b[0m\u001b[0;34m,\u001b[0m \u001b[0my_training\u001b[0m\u001b[0;34m=\u001b[0m \u001b[0;34m(\u001b[0m\u001b[0mtrain_targets\u001b[0m\u001b[0;34m)\u001b[0m\u001b[0;34m,\u001b[0m\u001b[0mverbose\u001b[0m\u001b[0;34m=\u001b[0m\u001b[0;36m1\u001b[0m\u001b[0;34m\u001b[0m\u001b[0;34m\u001b[0m\u001b[0m\n\u001b[0m\u001b[1;32m      6\u001b[0m )\n",
            "\u001b[0;32m/usr/local/lib/python3.7/dist-packages/modAL/models/learners.py\u001b[0m in \u001b[0;36m__init__\u001b[0;34m(self, estimator, query_strategy, X_training, y_training, bootstrap_init, on_transformed, **fit_kwargs)\u001b[0m\n\u001b[1;32m     80\u001b[0m                  ) -> None:\n\u001b[1;32m     81\u001b[0m         super().__init__(estimator, query_strategy,\n\u001b[0;32m---> 82\u001b[0;31m                          X_training, y_training, bootstrap_init, on_transformed, **fit_kwargs)\n\u001b[0m\u001b[1;32m     83\u001b[0m \u001b[0;34m\u001b[0m\u001b[0m\n\u001b[1;32m     84\u001b[0m     \u001b[0;32mdef\u001b[0m \u001b[0mteach\u001b[0m\u001b[0;34m(\u001b[0m\u001b[0mself\u001b[0m\u001b[0;34m,\u001b[0m \u001b[0mX\u001b[0m\u001b[0;34m:\u001b[0m \u001b[0mmodALinput\u001b[0m\u001b[0;34m,\u001b[0m \u001b[0my\u001b[0m\u001b[0;34m:\u001b[0m \u001b[0mmodALinput\u001b[0m\u001b[0;34m,\u001b[0m \u001b[0mbootstrap\u001b[0m\u001b[0;34m:\u001b[0m \u001b[0mbool\u001b[0m \u001b[0;34m=\u001b[0m \u001b[0;32mFalse\u001b[0m\u001b[0;34m,\u001b[0m \u001b[0monly_new\u001b[0m\u001b[0;34m:\u001b[0m \u001b[0mbool\u001b[0m \u001b[0;34m=\u001b[0m \u001b[0;32mFalse\u001b[0m\u001b[0;34m,\u001b[0m \u001b[0;34m**\u001b[0m\u001b[0mfit_kwargs\u001b[0m\u001b[0;34m)\u001b[0m \u001b[0;34m->\u001b[0m \u001b[0;32mNone\u001b[0m\u001b[0;34m:\u001b[0m\u001b[0;34m\u001b[0m\u001b[0;34m\u001b[0m\u001b[0m\n",
            "\u001b[0;32m/usr/local/lib/python3.7/dist-packages/modAL/models/base.py\u001b[0m in \u001b[0;36m__init__\u001b[0;34m(self, estimator, query_strategy, X_training, y_training, bootstrap_init, on_transformed, force_all_finite, **fit_kwargs)\u001b[0m\n\u001b[1;32m     69\u001b[0m         \u001b[0mself\u001b[0m\u001b[0;34m.\u001b[0m\u001b[0my_training\u001b[0m \u001b[0;34m=\u001b[0m \u001b[0my_training\u001b[0m\u001b[0;34m\u001b[0m\u001b[0;34m\u001b[0m\u001b[0m\n\u001b[1;32m     70\u001b[0m         \u001b[0;32mif\u001b[0m \u001b[0mX_training\u001b[0m \u001b[0;32mis\u001b[0m \u001b[0;32mnot\u001b[0m \u001b[0;32mNone\u001b[0m\u001b[0;34m:\u001b[0m\u001b[0;34m\u001b[0m\u001b[0;34m\u001b[0m\u001b[0m\n\u001b[0;32m---> 71\u001b[0;31m             \u001b[0mself\u001b[0m\u001b[0;34m.\u001b[0m\u001b[0m_fit_to_known\u001b[0m\u001b[0;34m(\u001b[0m\u001b[0mbootstrap\u001b[0m\u001b[0;34m=\u001b[0m\u001b[0mbootstrap_init\u001b[0m\u001b[0;34m,\u001b[0m \u001b[0;34m**\u001b[0m\u001b[0mfit_kwargs\u001b[0m\u001b[0;34m)\u001b[0m\u001b[0;34m\u001b[0m\u001b[0;34m\u001b[0m\u001b[0m\n\u001b[0m\u001b[1;32m     72\u001b[0m \u001b[0;34m\u001b[0m\u001b[0m\n\u001b[1;32m     73\u001b[0m         \u001b[0;32massert\u001b[0m \u001b[0misinstance\u001b[0m\u001b[0;34m(\u001b[0m\u001b[0mforce_all_finite\u001b[0m\u001b[0;34m,\u001b[0m \u001b[0mbool\u001b[0m\u001b[0;34m)\u001b[0m\u001b[0;34m,\u001b[0m \u001b[0;34m'force_all_finite must be a bool'\u001b[0m\u001b[0;34m\u001b[0m\u001b[0;34m\u001b[0m\u001b[0m\n",
            "\u001b[0;32m/usr/local/lib/python3.7/dist-packages/modAL/models/base.py\u001b[0m in \u001b[0;36m_fit_to_known\u001b[0;34m(self, bootstrap, **fit_kwargs)\u001b[0m\n\u001b[1;32m    153\u001b[0m         \"\"\"\n\u001b[1;32m    154\u001b[0m         \u001b[0;32mif\u001b[0m \u001b[0;32mnot\u001b[0m \u001b[0mbootstrap\u001b[0m\u001b[0;34m:\u001b[0m\u001b[0;34m\u001b[0m\u001b[0;34m\u001b[0m\u001b[0m\n\u001b[0;32m--> 155\u001b[0;31m             \u001b[0mself\u001b[0m\u001b[0;34m.\u001b[0m\u001b[0mestimator\u001b[0m\u001b[0;34m.\u001b[0m\u001b[0mfit\u001b[0m\u001b[0;34m(\u001b[0m\u001b[0mself\u001b[0m\u001b[0;34m.\u001b[0m\u001b[0mX_training\u001b[0m\u001b[0;34m,\u001b[0m \u001b[0mself\u001b[0m\u001b[0;34m.\u001b[0m\u001b[0my_training\u001b[0m\u001b[0;34m,\u001b[0m \u001b[0;34m**\u001b[0m\u001b[0mfit_kwargs\u001b[0m\u001b[0;34m)\u001b[0m\u001b[0;34m\u001b[0m\u001b[0;34m\u001b[0m\u001b[0m\n\u001b[0m\u001b[1;32m    156\u001b[0m         \u001b[0;32melse\u001b[0m\u001b[0;34m:\u001b[0m\u001b[0;34m\u001b[0m\u001b[0;34m\u001b[0m\u001b[0m\n\u001b[1;32m    157\u001b[0m             \u001b[0mn_instances\u001b[0m \u001b[0;34m=\u001b[0m \u001b[0mself\u001b[0m\u001b[0;34m.\u001b[0m\u001b[0mX_training\u001b[0m\u001b[0;34m.\u001b[0m\u001b[0mshape\u001b[0m\u001b[0;34m[\u001b[0m\u001b[0;36m0\u001b[0m\u001b[0;34m]\u001b[0m\u001b[0;34m\u001b[0m\u001b[0;34m\u001b[0m\u001b[0m\n",
            "\u001b[0;32m/usr/local/lib/python3.7/dist-packages/scikeras/wrappers.py\u001b[0m in \u001b[0;36mfit\u001b[0;34m(self, X, y, sample_weight, **kwargs)\u001b[0m\n\u001b[1;32m   1451\u001b[0m             \u001b[0msample_weight\u001b[0m \u001b[0;34m=\u001b[0m \u001b[0;36m1\u001b[0m \u001b[0;32mif\u001b[0m \u001b[0msample_weight\u001b[0m \u001b[0;32mis\u001b[0m \u001b[0;32mNone\u001b[0m \u001b[0;32melse\u001b[0m \u001b[0msample_weight\u001b[0m\u001b[0;34m\u001b[0m\u001b[0;34m\u001b[0m\u001b[0m\n\u001b[1;32m   1452\u001b[0m             \u001b[0msample_weight\u001b[0m \u001b[0;34m*=\u001b[0m \u001b[0mcompute_sample_weight\u001b[0m\u001b[0;34m(\u001b[0m\u001b[0mclass_weight\u001b[0m\u001b[0;34m=\u001b[0m\u001b[0mself\u001b[0m\u001b[0;34m.\u001b[0m\u001b[0mclass_weight\u001b[0m\u001b[0;34m,\u001b[0m \u001b[0my\u001b[0m\u001b[0;34m=\u001b[0m\u001b[0my\u001b[0m\u001b[0;34m)\u001b[0m\u001b[0;34m\u001b[0m\u001b[0;34m\u001b[0m\u001b[0m\n\u001b[0;32m-> 1453\u001b[0;31m         \u001b[0msuper\u001b[0m\u001b[0;34m(\u001b[0m\u001b[0;34m)\u001b[0m\u001b[0;34m.\u001b[0m\u001b[0mfit\u001b[0m\u001b[0;34m(\u001b[0m\u001b[0mX\u001b[0m\u001b[0;34m=\u001b[0m\u001b[0mX\u001b[0m\u001b[0;34m,\u001b[0m \u001b[0my\u001b[0m\u001b[0;34m=\u001b[0m\u001b[0my\u001b[0m\u001b[0;34m,\u001b[0m \u001b[0msample_weight\u001b[0m\u001b[0;34m=\u001b[0m\u001b[0msample_weight\u001b[0m\u001b[0;34m,\u001b[0m \u001b[0;34m**\u001b[0m\u001b[0mkwargs\u001b[0m\u001b[0;34m)\u001b[0m\u001b[0;34m\u001b[0m\u001b[0;34m\u001b[0m\u001b[0m\n\u001b[0m\u001b[1;32m   1454\u001b[0m         \u001b[0;32mreturn\u001b[0m \u001b[0mself\u001b[0m\u001b[0;34m\u001b[0m\u001b[0;34m\u001b[0m\u001b[0m\n\u001b[1;32m   1455\u001b[0m \u001b[0;34m\u001b[0m\u001b[0m\n",
            "\u001b[0;32m/usr/local/lib/python3.7/dist-packages/scikeras/wrappers.py\u001b[0m in \u001b[0;36mfit\u001b[0;34m(self, X, y, sample_weight, **kwargs)\u001b[0m\n\u001b[1;32m    724\u001b[0m \u001b[0;34m\u001b[0m\u001b[0m\n\u001b[1;32m    725\u001b[0m         self._fit(\n\u001b[0;32m--> 726\u001b[0;31m             \u001b[0mX\u001b[0m\u001b[0;34m=\u001b[0m\u001b[0mX\u001b[0m\u001b[0;34m,\u001b[0m \u001b[0my\u001b[0m\u001b[0;34m=\u001b[0m\u001b[0my\u001b[0m\u001b[0;34m,\u001b[0m \u001b[0msample_weight\u001b[0m\u001b[0;34m=\u001b[0m\u001b[0msample_weight\u001b[0m\u001b[0;34m,\u001b[0m \u001b[0mwarm_start\u001b[0m\u001b[0;34m=\u001b[0m\u001b[0mself\u001b[0m\u001b[0;34m.\u001b[0m\u001b[0mwarm_start\u001b[0m\u001b[0;34m,\u001b[0m \u001b[0;34m**\u001b[0m\u001b[0mkwargs\u001b[0m\u001b[0;34m,\u001b[0m\u001b[0;34m\u001b[0m\u001b[0;34m\u001b[0m\u001b[0m\n\u001b[0m\u001b[1;32m    727\u001b[0m         )\n\u001b[1;32m    728\u001b[0m \u001b[0;34m\u001b[0m\u001b[0m\n",
            "\u001b[0;32m/usr/local/lib/python3.7/dist-packages/scikeras/wrappers.py\u001b[0m in \u001b[0;36m_fit\u001b[0;34m(self, X, y, sample_weight, warm_start, epochs, initial_epoch, **kwargs)\u001b[0m\n\u001b[1;32m    875\u001b[0m         \u001b[0;31m# Data checks\u001b[0m\u001b[0;34m\u001b[0m\u001b[0;34m\u001b[0m\u001b[0;34m\u001b[0m\u001b[0m\n\u001b[1;32m    876\u001b[0m         \u001b[0;32mif\u001b[0m \u001b[0;32mnot\u001b[0m \u001b[0;34m(\u001b[0m\u001b[0;34m(\u001b[0m\u001b[0mself\u001b[0m\u001b[0;34m.\u001b[0m\u001b[0mwarm_start\u001b[0m \u001b[0;32mor\u001b[0m \u001b[0mwarm_start\u001b[0m\u001b[0;34m)\u001b[0m \u001b[0;32mand\u001b[0m \u001b[0mself\u001b[0m\u001b[0;34m.\u001b[0m\u001b[0minitialized_\u001b[0m\u001b[0;34m)\u001b[0m\u001b[0;34m:\u001b[0m\u001b[0;34m\u001b[0m\u001b[0;34m\u001b[0m\u001b[0m\n\u001b[0;32m--> 877\u001b[0;31m             \u001b[0mX\u001b[0m\u001b[0;34m,\u001b[0m \u001b[0my\u001b[0m \u001b[0;34m=\u001b[0m \u001b[0mself\u001b[0m\u001b[0;34m.\u001b[0m\u001b[0m_initialize\u001b[0m\u001b[0;34m(\u001b[0m\u001b[0mX\u001b[0m\u001b[0;34m,\u001b[0m \u001b[0my\u001b[0m\u001b[0;34m)\u001b[0m\u001b[0;34m\u001b[0m\u001b[0;34m\u001b[0m\u001b[0m\n\u001b[0m\u001b[1;32m    878\u001b[0m         \u001b[0;32melse\u001b[0m\u001b[0;34m:\u001b[0m\u001b[0;34m\u001b[0m\u001b[0;34m\u001b[0m\u001b[0m\n\u001b[1;32m    879\u001b[0m             \u001b[0mX\u001b[0m\u001b[0;34m,\u001b[0m \u001b[0my\u001b[0m \u001b[0;34m=\u001b[0m \u001b[0mself\u001b[0m\u001b[0;34m.\u001b[0m\u001b[0m_validate_data\u001b[0m\u001b[0;34m(\u001b[0m\u001b[0mX\u001b[0m\u001b[0;34m,\u001b[0m \u001b[0my\u001b[0m\u001b[0;34m)\u001b[0m\u001b[0;34m\u001b[0m\u001b[0;34m\u001b[0m\u001b[0m\n",
            "\u001b[0;32m/usr/local/lib/python3.7/dist-packages/scikeras/wrappers.py\u001b[0m in \u001b[0;36m_initialize\u001b[0;34m(self, X, y)\u001b[0m\n\u001b[1;32m    803\u001b[0m             \u001b[0mself\u001b[0m\u001b[0;34m.\u001b[0m\u001b[0m_random_state\u001b[0m \u001b[0;34m=\u001b[0m \u001b[0mself\u001b[0m\u001b[0;34m.\u001b[0m\u001b[0mrandom_state\u001b[0m\u001b[0;34m\u001b[0m\u001b[0;34m\u001b[0m\u001b[0m\n\u001b[1;32m    804\u001b[0m \u001b[0;34m\u001b[0m\u001b[0m\n\u001b[0;32m--> 805\u001b[0;31m         \u001b[0mX\u001b[0m\u001b[0;34m,\u001b[0m \u001b[0my\u001b[0m \u001b[0;34m=\u001b[0m \u001b[0mself\u001b[0m\u001b[0;34m.\u001b[0m\u001b[0m_validate_data\u001b[0m\u001b[0;34m(\u001b[0m\u001b[0mX\u001b[0m\u001b[0;34m,\u001b[0m \u001b[0my\u001b[0m\u001b[0;34m,\u001b[0m \u001b[0mreset\u001b[0m\u001b[0;34m=\u001b[0m\u001b[0;32mTrue\u001b[0m\u001b[0;34m)\u001b[0m\u001b[0;34m\u001b[0m\u001b[0;34m\u001b[0m\u001b[0m\n\u001b[0m\u001b[1;32m    806\u001b[0m \u001b[0;34m\u001b[0m\u001b[0m\n\u001b[1;32m    807\u001b[0m         \u001b[0mself\u001b[0m\u001b[0;34m.\u001b[0m\u001b[0mtarget_encoder_\u001b[0m \u001b[0;34m=\u001b[0m \u001b[0mself\u001b[0m\u001b[0;34m.\u001b[0m\u001b[0mtarget_encoder\u001b[0m\u001b[0;34m.\u001b[0m\u001b[0mfit\u001b[0m\u001b[0;34m(\u001b[0m\u001b[0my\u001b[0m\u001b[0;34m)\u001b[0m\u001b[0;34m\u001b[0m\u001b[0;34m\u001b[0m\u001b[0m\n",
            "\u001b[0;32m/usr/local/lib/python3.7/dist-packages/scikeras/wrappers.py\u001b[0m in \u001b[0;36m_validate_data\u001b[0;34m(self, X, y, reset, y_numeric)\u001b[0m\n\u001b[1;32m    598\u001b[0m                 \u001b[0mallow_nd\u001b[0m\u001b[0;34m=\u001b[0m\u001b[0;32mTrue\u001b[0m\u001b[0;34m,\u001b[0m  \u001b[0;31m# allow X to have more than 2 dimensions\u001b[0m\u001b[0;34m\u001b[0m\u001b[0;34m\u001b[0m\u001b[0m\n\u001b[1;32m    599\u001b[0m                 \u001b[0mmulti_output\u001b[0m\u001b[0;34m=\u001b[0m\u001b[0;32mTrue\u001b[0m\u001b[0;34m,\u001b[0m  \u001b[0;31m# allow y to be 2D\u001b[0m\u001b[0;34m\u001b[0m\u001b[0;34m\u001b[0m\u001b[0m\n\u001b[0;32m--> 600\u001b[0;31m                 \u001b[0mdtype\u001b[0m\u001b[0;34m=\u001b[0m\u001b[0;32mNone\u001b[0m\u001b[0;34m,\u001b[0m\u001b[0;34m\u001b[0m\u001b[0;34m\u001b[0m\u001b[0m\n\u001b[0m\u001b[1;32m    601\u001b[0m             )\n\u001b[1;32m    602\u001b[0m \u001b[0;34m\u001b[0m\u001b[0m\n",
            "\u001b[0;32m/usr/local/lib/python3.7/dist-packages/sklearn/utils/validation.py\u001b[0m in \u001b[0;36mcheck_X_y\u001b[0;34m(X, y, accept_sparse, accept_large_sparse, dtype, order, copy, force_all_finite, ensure_2d, allow_nd, multi_output, ensure_min_samples, ensure_min_features, y_numeric, estimator)\u001b[0m\n\u001b[1;32m    974\u001b[0m         \u001b[0mensure_min_samples\u001b[0m\u001b[0;34m=\u001b[0m\u001b[0mensure_min_samples\u001b[0m\u001b[0;34m,\u001b[0m\u001b[0;34m\u001b[0m\u001b[0;34m\u001b[0m\u001b[0m\n\u001b[1;32m    975\u001b[0m         \u001b[0mensure_min_features\u001b[0m\u001b[0;34m=\u001b[0m\u001b[0mensure_min_features\u001b[0m\u001b[0;34m,\u001b[0m\u001b[0;34m\u001b[0m\u001b[0;34m\u001b[0m\u001b[0m\n\u001b[0;32m--> 976\u001b[0;31m         \u001b[0mestimator\u001b[0m\u001b[0;34m=\u001b[0m\u001b[0mestimator\u001b[0m\u001b[0;34m,\u001b[0m\u001b[0;34m\u001b[0m\u001b[0;34m\u001b[0m\u001b[0m\n\u001b[0m\u001b[1;32m    977\u001b[0m     )\n\u001b[1;32m    978\u001b[0m \u001b[0;34m\u001b[0m\u001b[0m\n",
            "\u001b[0;32m/usr/local/lib/python3.7/dist-packages/sklearn/utils/validation.py\u001b[0m in \u001b[0;36mcheck_array\u001b[0;34m(array, accept_sparse, accept_large_sparse, dtype, order, copy, force_all_finite, ensure_2d, allow_nd, ensure_min_samples, ensure_min_features, estimator)\u001b[0m\n\u001b[1;32m    763\u001b[0m                     \u001b[0;34m\"Reshape your data either using array.reshape(-1, 1) if \"\u001b[0m\u001b[0;34m\u001b[0m\u001b[0;34m\u001b[0m\u001b[0m\n\u001b[1;32m    764\u001b[0m                     \u001b[0;34m\"your data has a single feature or array.reshape(1, -1) \"\u001b[0m\u001b[0;34m\u001b[0m\u001b[0;34m\u001b[0m\u001b[0m\n\u001b[0;32m--> 765\u001b[0;31m                     \u001b[0;34m\"if it contains a single sample.\"\u001b[0m\u001b[0;34m.\u001b[0m\u001b[0mformat\u001b[0m\u001b[0;34m(\u001b[0m\u001b[0marray\u001b[0m\u001b[0;34m)\u001b[0m\u001b[0;34m\u001b[0m\u001b[0;34m\u001b[0m\u001b[0m\n\u001b[0m\u001b[1;32m    766\u001b[0m                 )\n\u001b[1;32m    767\u001b[0m             \u001b[0;31m# If input is 1D raise error\u001b[0m\u001b[0;34m\u001b[0m\u001b[0;34m\u001b[0m\u001b[0;34m\u001b[0m\u001b[0m\n",
            "\u001b[0;31mValueError\u001b[0m: Expected 2D array, got scalar array instead:\narray=<ParallelMapDataset element_spec=TensorSpec(shape=<unknown>, dtype=tf.int64, name=None)>.\nReshape your data either using array.reshape(-1, 1) if your data has a single feature or array.reshape(1, -1) if it contains a single sample."
          ]
        }
      ]
    },
    {
      "cell_type": "markdown",
      "source": [
        "**active learning**"
      ],
      "metadata": {
        "id": "cj57LaBeWn20"
      }
    },
    {
      "cell_type": "code",
      "source": [
        "# the active learning loop\n",
        "n_queries = 10\n",
        "for idx in range(n_queries):\n",
        "    query_idx, query_instance = learner.query(pool_data_Vectorised, n_instances=100, verbose=0)\n",
        "    print(query_idx)\n",
        "    learner.teach(\n",
        "        X=pool_data_Vectorised[query_idx], y=pool_cat_ds_raw[query_idx], only_new=True,\n",
        "        verbose=1\n",
        "    )\n",
        "    # remove queried instance from pool\n",
        "    pool_text_ds_raw = np.delete(pool_text_ds_raw, query_idx, axis=0)\n",
        "    pool_cat_ds_raw = np.delete(pool_cat_ds_raw, query_idx, axis=0)"
      ],
      "metadata": {
        "id": "OGUvdAgNWmnA"
      },
      "execution_count": null,
      "outputs": []
    },
    {
      "cell_type": "code",
      "source": [
        ""
      ],
      "metadata": {
        "id": "_r_Sy8pswkME"
      },
      "execution_count": null,
      "outputs": []
    },
    {
      "cell_type": "code",
      "source": [
        "n_queries = 10\n",
        "for idx in range(n_queries):\n",
        "    query_idx, query_instance = learner.query(pool_data_Vectorised, n_instances=100, verbose=0)\n",
        "    print(query_idx)\n",
        "    learner.teach(\n",
        "        X=X_pool[query_idx], y=y_pool[query_idx], only_new=True,\n",
        "        verbose=1\n",
        "    )\n",
        "    # remove queried instance from pool\n",
        "    X_pool = np.delete(X_pool, query_idx, axis=0)\n",
        "    y_pool = np.delete(y_pool, query_idx, axis=0)"
      ],
      "metadata": {
        "id": "6AlqQJRzweb8"
      },
      "execution_count": null,
      "outputs": []
    }
  ],
  "metadata": {
    "colab": {
      "name": "Banking_7th March_Clustering.ipynb",
      "provenance": [],
      "collapsed_sections": [],
      "authorship_tag": "ABX9TyOTxIuBECUpsbrC1MD2eZka",
      "include_colab_link": true
    },
    "kernelspec": {
      "display_name": "Python 3",
      "name": "python3"
    },
    "language_info": {
      "name": "python"
    }
  },
  "nbformat": 4,
  "nbformat_minor": 0
}